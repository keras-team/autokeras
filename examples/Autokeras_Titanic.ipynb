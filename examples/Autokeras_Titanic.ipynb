{
  "nbformat": 4,
  "nbformat_minor": 0,
  "metadata": {
    "colab": {
      "name": "Autokeras_Titanic.ipynb",
      "provenance": [],
      "collapsed_sections": []
    },
    "kernelspec": {
      "name": "python3",
      "display_name": "Python 3"
    },
    "accelerator": "GPU"
  },
  "cells": [
    {
      "cell_type": "markdown",
      "metadata": {
        "id": "iGEzMrP7DzOO",
        "colab_type": "text"
      },
      "source": [
        "First install autokeras from pip"
      ]
    },
    {
      "cell_type": "code",
      "metadata": {
        "id": "eY35wv7Uyvbz",
        "colab_type": "code",
        "outputId": "9cd78877-b7e7-48de-9b20-9128f5937725",
        "colab": {
          "base_uri": "https://localhost:8080/",
          "height": 663
        }
      },
      "source": [
        "!pip install autokeras"
      ],
      "execution_count": 1,
      "outputs": [
        {
          "output_type": "stream",
          "text": [
            "Collecting autokeras\n",
            "\u001b[?25l  Downloading https://files.pythonhosted.org/packages/a8/74/6588d79b8618c0f45ea2b3ace4959db2697029c8175bf1a0d2ed07c14761/autokeras-1.0.2-py3-none-any.whl (67kB)\n",
            "\r\u001b[K     |████▉                           | 10kB 21.0MB/s eta 0:00:01\r\u001b[K     |█████████▊                      | 20kB 1.8MB/s eta 0:00:01\r\u001b[K     |██████████████▋                 | 30kB 2.6MB/s eta 0:00:01\r\u001b[K     |███████████████████▍            | 40kB 1.7MB/s eta 0:00:01\r\u001b[K     |████████████████████████▎       | 51kB 2.1MB/s eta 0:00:01\r\u001b[K     |█████████████████████████████▏  | 61kB 2.5MB/s eta 0:00:01\r\u001b[K     |████████████████████████████████| 71kB 2.3MB/s \n",
            "\u001b[?25hRequirement already satisfied: scikit-learn in /usr/local/lib/python3.6/dist-packages (from autokeras) (0.22.2.post1)\n",
            "Collecting keras-tuner>=1.0.1\n",
            "\u001b[?25l  Downloading https://files.pythonhosted.org/packages/a7/f7/4b41b6832abf4c9bef71a664dc563adb25afc5812831667c6db572b1a261/keras-tuner-1.0.1.tar.gz (54kB)\n",
            "\u001b[K     |████████████████████████████████| 61kB 8.4MB/s \n",
            "\u001b[?25hRequirement already satisfied: packaging in /usr/local/lib/python3.6/dist-packages (from autokeras) (20.3)\n",
            "Requirement already satisfied: numpy in /usr/local/lib/python3.6/dist-packages (from autokeras) (1.18.2)\n",
            "Requirement already satisfied: pandas in /usr/local/lib/python3.6/dist-packages (from autokeras) (0.25.3)\n",
            "Requirement already satisfied: scipy>=0.17.0 in /usr/local/lib/python3.6/dist-packages (from scikit-learn->autokeras) (1.4.1)\n",
            "Requirement already satisfied: joblib>=0.11 in /usr/local/lib/python3.6/dist-packages (from scikit-learn->autokeras) (0.14.1)\n",
            "Requirement already satisfied: future in /usr/local/lib/python3.6/dist-packages (from keras-tuner>=1.0.1->autokeras) (0.16.0)\n",
            "Requirement already satisfied: tabulate in /usr/local/lib/python3.6/dist-packages (from keras-tuner>=1.0.1->autokeras) (0.8.6)\n",
            "Collecting terminaltables\n",
            "  Downloading https://files.pythonhosted.org/packages/9b/c4/4a21174f32f8a7e1104798c445dacdc1d4df86f2f26722767034e4de4bff/terminaltables-3.1.0.tar.gz\n",
            "Collecting colorama\n",
            "  Downloading https://files.pythonhosted.org/packages/c9/dc/45cdef1b4d119eb96316b3117e6d5708a08029992b2fee2c143c7a0a5cc5/colorama-0.4.3-py2.py3-none-any.whl\n",
            "Requirement already satisfied: tqdm in /usr/local/lib/python3.6/dist-packages (from keras-tuner>=1.0.1->autokeras) (4.38.0)\n",
            "Requirement already satisfied: requests in /usr/local/lib/python3.6/dist-packages (from keras-tuner>=1.0.1->autokeras) (2.21.0)\n",
            "Requirement already satisfied: six in /usr/local/lib/python3.6/dist-packages (from packaging->autokeras) (1.12.0)\n",
            "Requirement already satisfied: pyparsing>=2.0.2 in /usr/local/lib/python3.6/dist-packages (from packaging->autokeras) (2.4.6)\n",
            "Requirement already satisfied: python-dateutil>=2.6.1 in /usr/local/lib/python3.6/dist-packages (from pandas->autokeras) (2.8.1)\n",
            "Requirement already satisfied: pytz>=2017.2 in /usr/local/lib/python3.6/dist-packages (from pandas->autokeras) (2018.9)\n",
            "Requirement already satisfied: certifi>=2017.4.17 in /usr/local/lib/python3.6/dist-packages (from requests->keras-tuner>=1.0.1->autokeras) (2019.11.28)\n",
            "Requirement already satisfied: idna<2.9,>=2.5 in /usr/local/lib/python3.6/dist-packages (from requests->keras-tuner>=1.0.1->autokeras) (2.8)\n",
            "Requirement already satisfied: urllib3<1.25,>=1.21.1 in /usr/local/lib/python3.6/dist-packages (from requests->keras-tuner>=1.0.1->autokeras) (1.24.3)\n",
            "Requirement already satisfied: chardet<3.1.0,>=3.0.2 in /usr/local/lib/python3.6/dist-packages (from requests->keras-tuner>=1.0.1->autokeras) (3.0.4)\n",
            "Building wheels for collected packages: keras-tuner, terminaltables\n",
            "  Building wheel for keras-tuner (setup.py) ... \u001b[?25l\u001b[?25hdone\n",
            "  Created wheel for keras-tuner: filename=keras_tuner-1.0.1-cp36-none-any.whl size=73200 sha256=e92296dfa2af484fc535f63a090ca831d0870f3cdf1fb11f5ef4832a7a115009\n",
            "  Stored in directory: /root/.cache/pip/wheels/b9/cc/62/52716b70dd90f3db12519233c3a93a5360bc672da1a10ded43\n",
            "  Building wheel for terminaltables (setup.py) ... \u001b[?25l\u001b[?25hdone\n",
            "  Created wheel for terminaltables: filename=terminaltables-3.1.0-cp36-none-any.whl size=15356 sha256=754a22482e7d4e2aa6150adf15156556a9e514119afdb0610e565d1434f044c3\n",
            "  Stored in directory: /root/.cache/pip/wheels/30/6b/50/6c75775b681fb36cdfac7f19799888ef9d8813aff9e379663e\n",
            "Successfully built keras-tuner terminaltables\n",
            "Installing collected packages: terminaltables, colorama, keras-tuner, autokeras\n",
            "Successfully installed autokeras-1.0.2 colorama-0.4.3 keras-tuner-1.0.1 terminaltables-3.1.0\n"
          ],
          "name": "stdout"
        }
      ]
    },
    {
      "cell_type": "markdown",
      "metadata": {
        "id": "jSoV8IOlFlke",
        "colab_type": "text"
      },
      "source": [
        "Now install Tensorflow GPU"
      ]
    },
    {
      "cell_type": "code",
      "metadata": {
        "id": "C3GQpVLrFpCM",
        "colab_type": "code",
        "colab": {
          "base_uri": "https://localhost:8080/",
          "height": 918
        },
        "outputId": "caddffcc-874c-4f03-d618-6cefeadd4745"
      },
      "source": [
        "!pip install tensorflow-gpu==2.1.0"
      ],
      "execution_count": 2,
      "outputs": [
        {
          "output_type": "stream",
          "text": [
            "Collecting tensorflow-gpu==2.1.0\n",
            "\u001b[?25l  Downloading https://files.pythonhosted.org/packages/0a/93/c7bca39b23aae45cd2e85ad3871c81eccc63b9c5276e926511e2e5b0879d/tensorflow_gpu-2.1.0-cp36-cp36m-manylinux2010_x86_64.whl (421.8MB)\n",
            "\u001b[K     |████████████████████████████████| 421.8MB 28kB/s \n",
            "\u001b[?25hCollecting tensorflow-estimator<2.2.0,>=2.1.0rc0\n",
            "\u001b[?25l  Downloading https://files.pythonhosted.org/packages/18/90/b77c328a1304437ab1310b463e533fa7689f4bfc41549593056d812fab8e/tensorflow_estimator-2.1.0-py2.py3-none-any.whl (448kB)\n",
            "\u001b[K     |████████████████████████████████| 450kB 61.3MB/s \n",
            "\u001b[?25hRequirement already satisfied: grpcio>=1.8.6 in /usr/local/lib/python3.6/dist-packages (from tensorflow-gpu==2.1.0) (1.24.3)\n",
            "Requirement already satisfied: keras-applications>=1.0.8 in /usr/local/lib/python3.6/dist-packages (from tensorflow-gpu==2.1.0) (1.0.8)\n",
            "Requirement already satisfied: protobuf>=3.8.0 in /usr/local/lib/python3.6/dist-packages (from tensorflow-gpu==2.1.0) (3.10.0)\n",
            "Requirement already satisfied: numpy<2.0,>=1.16.0 in /usr/local/lib/python3.6/dist-packages (from tensorflow-gpu==2.1.0) (1.18.2)\n",
            "Requirement already satisfied: termcolor>=1.1.0 in /usr/local/lib/python3.6/dist-packages (from tensorflow-gpu==2.1.0) (1.1.0)\n",
            "Requirement already satisfied: wrapt>=1.11.1 in /usr/local/lib/python3.6/dist-packages (from tensorflow-gpu==2.1.0) (1.12.1)\n",
            "Requirement already satisfied: six>=1.12.0 in /usr/local/lib/python3.6/dist-packages (from tensorflow-gpu==2.1.0) (1.12.0)\n",
            "Requirement already satisfied: scipy==1.4.1; python_version >= \"3\" in /usr/local/lib/python3.6/dist-packages (from tensorflow-gpu==2.1.0) (1.4.1)\n",
            "Requirement already satisfied: absl-py>=0.7.0 in /usr/local/lib/python3.6/dist-packages (from tensorflow-gpu==2.1.0) (0.9.0)\n",
            "Requirement already satisfied: gast==0.2.2 in /usr/local/lib/python3.6/dist-packages (from tensorflow-gpu==2.1.0) (0.2.2)\n",
            "Requirement already satisfied: opt-einsum>=2.3.2 in /usr/local/lib/python3.6/dist-packages (from tensorflow-gpu==2.1.0) (3.2.0)\n",
            "Requirement already satisfied: keras-preprocessing>=1.1.0 in /usr/local/lib/python3.6/dist-packages (from tensorflow-gpu==2.1.0) (1.1.0)\n",
            "Requirement already satisfied: astor>=0.6.0 in /usr/local/lib/python3.6/dist-packages (from tensorflow-gpu==2.1.0) (0.8.1)\n",
            "Requirement already satisfied: wheel>=0.26; python_version >= \"3\" in /usr/local/lib/python3.6/dist-packages (from tensorflow-gpu==2.1.0) (0.34.2)\n",
            "Collecting tensorboard<2.2.0,>=2.1.0\n",
            "\u001b[?25l  Downloading https://files.pythonhosted.org/packages/d9/41/bbf49b61370e4f4d245d4c6051dfb6db80cec672605c91b1652ac8cc3d38/tensorboard-2.1.1-py3-none-any.whl (3.8MB)\n",
            "\u001b[K     |████████████████████████████████| 3.9MB 61.5MB/s \n",
            "\u001b[?25hRequirement already satisfied: google-pasta>=0.1.6 in /usr/local/lib/python3.6/dist-packages (from tensorflow-gpu==2.1.0) (0.2.0)\n",
            "Requirement already satisfied: h5py in /usr/local/lib/python3.6/dist-packages (from keras-applications>=1.0.8->tensorflow-gpu==2.1.0) (2.8.0)\n",
            "Requirement already satisfied: setuptools in /usr/local/lib/python3.6/dist-packages (from protobuf>=3.8.0->tensorflow-gpu==2.1.0) (46.0.0)\n",
            "Requirement already satisfied: requests<3,>=2.21.0 in /usr/local/lib/python3.6/dist-packages (from tensorboard<2.2.0,>=2.1.0->tensorflow-gpu==2.1.0) (2.21.0)\n",
            "Requirement already satisfied: werkzeug>=0.11.15 in /usr/local/lib/python3.6/dist-packages (from tensorboard<2.2.0,>=2.1.0->tensorflow-gpu==2.1.0) (1.0.0)\n",
            "Requirement already satisfied: markdown>=2.6.8 in /usr/local/lib/python3.6/dist-packages (from tensorboard<2.2.0,>=2.1.0->tensorflow-gpu==2.1.0) (3.2.1)\n",
            "Requirement already satisfied: google-auth<2,>=1.6.3 in /usr/local/lib/python3.6/dist-packages (from tensorboard<2.2.0,>=2.1.0->tensorflow-gpu==2.1.0) (1.7.2)\n",
            "Requirement already satisfied: google-auth-oauthlib<0.5,>=0.4.1 in /usr/local/lib/python3.6/dist-packages (from tensorboard<2.2.0,>=2.1.0->tensorflow-gpu==2.1.0) (0.4.1)\n",
            "Requirement already satisfied: idna<2.9,>=2.5 in /usr/local/lib/python3.6/dist-packages (from requests<3,>=2.21.0->tensorboard<2.2.0,>=2.1.0->tensorflow-gpu==2.1.0) (2.8)\n",
            "Requirement already satisfied: chardet<3.1.0,>=3.0.2 in /usr/local/lib/python3.6/dist-packages (from requests<3,>=2.21.0->tensorboard<2.2.0,>=2.1.0->tensorflow-gpu==2.1.0) (3.0.4)\n",
            "Requirement already satisfied: certifi>=2017.4.17 in /usr/local/lib/python3.6/dist-packages (from requests<3,>=2.21.0->tensorboard<2.2.0,>=2.1.0->tensorflow-gpu==2.1.0) (2019.11.28)\n",
            "Requirement already satisfied: urllib3<1.25,>=1.21.1 in /usr/local/lib/python3.6/dist-packages (from requests<3,>=2.21.0->tensorboard<2.2.0,>=2.1.0->tensorflow-gpu==2.1.0) (1.24.3)\n",
            "Requirement already satisfied: rsa<4.1,>=3.1.4 in /usr/local/lib/python3.6/dist-packages (from google-auth<2,>=1.6.3->tensorboard<2.2.0,>=2.1.0->tensorflow-gpu==2.1.0) (4.0)\n",
            "Requirement already satisfied: cachetools<3.2,>=2.0.0 in /usr/local/lib/python3.6/dist-packages (from google-auth<2,>=1.6.3->tensorboard<2.2.0,>=2.1.0->tensorflow-gpu==2.1.0) (3.1.1)\n",
            "Requirement already satisfied: pyasn1-modules>=0.2.1 in /usr/local/lib/python3.6/dist-packages (from google-auth<2,>=1.6.3->tensorboard<2.2.0,>=2.1.0->tensorflow-gpu==2.1.0) (0.2.8)\n",
            "Requirement already satisfied: requests-oauthlib>=0.7.0 in /usr/local/lib/python3.6/dist-packages (from google-auth-oauthlib<0.5,>=0.4.1->tensorboard<2.2.0,>=2.1.0->tensorflow-gpu==2.1.0) (1.3.0)\n",
            "Requirement already satisfied: pyasn1>=0.1.3 in /usr/local/lib/python3.6/dist-packages (from rsa<4.1,>=3.1.4->google-auth<2,>=1.6.3->tensorboard<2.2.0,>=2.1.0->tensorflow-gpu==2.1.0) (0.4.8)\n",
            "Requirement already satisfied: oauthlib>=3.0.0 in /usr/local/lib/python3.6/dist-packages (from requests-oauthlib>=0.7.0->google-auth-oauthlib<0.5,>=0.4.1->tensorboard<2.2.0,>=2.1.0->tensorflow-gpu==2.1.0) (3.1.0)\n",
            "\u001b[31mERROR: tensorflow 1.15.0 has requirement tensorboard<1.16.0,>=1.15.0, but you'll have tensorboard 2.1.1 which is incompatible.\u001b[0m\n",
            "\u001b[31mERROR: tensorflow 1.15.0 has requirement tensorflow-estimator==1.15.1, but you'll have tensorflow-estimator 2.1.0 which is incompatible.\u001b[0m\n",
            "\u001b[31mERROR: tensorflow-federated 0.12.0 has requirement tensorflow~=2.1.0, but you'll have tensorflow 1.15.0 which is incompatible.\u001b[0m\n",
            "\u001b[31mERROR: tensorflow-federated 0.12.0 has requirement tensorflow-addons~=0.7.0, but you'll have tensorflow-addons 0.8.3 which is incompatible.\u001b[0m\n",
            "Installing collected packages: tensorflow-estimator, tensorboard, tensorflow-gpu\n",
            "  Found existing installation: tensorflow-estimator 1.15.1\n",
            "    Uninstalling tensorflow-estimator-1.15.1:\n",
            "      Successfully uninstalled tensorflow-estimator-1.15.1\n",
            "  Found existing installation: tensorboard 1.15.0\n",
            "    Uninstalling tensorboard-1.15.0:\n",
            "      Successfully uninstalled tensorboard-1.15.0\n",
            "Successfully installed tensorboard-2.1.1 tensorflow-estimator-2.1.0 tensorflow-gpu-2.1.0\n"
          ],
          "name": "stdout"
        }
      ]
    },
    {
      "cell_type": "markdown",
      "metadata": {
        "id": "PPZgC1JdD6NB",
        "colab_type": "text"
      },
      "source": [
        "Download datasets from Github"
      ]
    },
    {
      "cell_type": "code",
      "metadata": {
        "id": "zU-xtnShDdjm",
        "colab_type": "code",
        "colab": {
          "base_uri": "https://localhost:8080/",
          "height": 391
        },
        "outputId": "3a881b06-64a6-487f-b6fe-6732f3aeb873"
      },
      "source": [
        "!wget https://raw.githubusercontent.com/keras-team/autokeras/master/tests/fixtures/titanic/train.csv\n",
        "!wget https://raw.githubusercontent.com/keras-team/autokeras/master/tests/fixtures/titanic/eval.csv"
      ],
      "execution_count": 3,
      "outputs": [
        {
          "output_type": "stream",
          "text": [
            "--2020-03-23 20:42:44--  https://raw.githubusercontent.com/keras-team/autokeras/master/tests/fixtures/titanic/train.csv\n",
            "Resolving raw.githubusercontent.com (raw.githubusercontent.com)... 151.101.0.133, 151.101.64.133, 151.101.128.133, ...\n",
            "Connecting to raw.githubusercontent.com (raw.githubusercontent.com)|151.101.0.133|:443... connected.\n",
            "HTTP request sent, awaiting response... 200 OK\n",
            "Length: 30874 (30K) [text/plain]\n",
            "Saving to: ‘train.csv’\n",
            "\n",
            "train.csv           100%[===================>]  30.15K  --.-KB/s    in 0.01s   \n",
            "\n",
            "2020-03-23 20:42:45 (2.34 MB/s) - ‘train.csv’ saved [30874/30874]\n",
            "\n",
            "--2020-03-23 20:42:46--  https://raw.githubusercontent.com/keras-team/autokeras/master/tests/fixtures/titanic/eval.csv\n",
            "Resolving raw.githubusercontent.com (raw.githubusercontent.com)... 151.101.0.133, 151.101.64.133, 151.101.128.133, ...\n",
            "Connecting to raw.githubusercontent.com (raw.githubusercontent.com)|151.101.0.133|:443... connected.\n",
            "HTTP request sent, awaiting response... 200 OK\n",
            "Length: 13049 (13K) [text/plain]\n",
            "Saving to: ‘eval.csv’\n",
            "\n",
            "eval.csv            100%[===================>]  12.74K  --.-KB/s    in 0s      \n",
            "\n",
            "2020-03-23 20:42:47 (128 MB/s) - ‘eval.csv’ saved [13049/13049]\n",
            "\n"
          ],
          "name": "stdout"
        }
      ]
    },
    {
      "cell_type": "markdown",
      "metadata": {
        "id": "4PCynrASD_hA",
        "colab_type": "text"
      },
      "source": [
        "import autokeras"
      ]
    },
    {
      "cell_type": "code",
      "metadata": {
        "id": "1IMvNhwYynLx",
        "colab_type": "code",
        "colab": {}
      },
      "source": [
        "import autokeras as ak"
      ],
      "execution_count": 0,
      "outputs": []
    },
    {
      "cell_type": "markdown",
      "metadata": {
        "id": "TdSaPDJCECTQ",
        "colab_type": "text"
      },
      "source": [
        "Initialize the classifier."
      ]
    },
    {
      "cell_type": "code",
      "metadata": {
        "id": "grv77LqxzIqG",
        "colab_type": "code",
        "colab": {}
      },
      "source": [
        "clf = ak.StructuredDataClassifier(max_trials=10)"
      ],
      "execution_count": 0,
      "outputs": []
    },
    {
      "cell_type": "markdown",
      "metadata": {
        "id": "sB-dvwNrEHTf",
        "colab_type": "text"
      },
      "source": [
        "fit dataset to model"
      ]
    },
    {
      "cell_type": "code",
      "metadata": {
        "id": "LtCkQMa6DlJY",
        "colab_type": "code",
        "colab": {
          "base_uri": "https://localhost:8080/",
          "height": 1000
        },
        "outputId": "d748c9df-7a1b-4791-8095-3093befa04b3"
      },
      "source": [
        "clf.fit(x='train.csv', y='survived')"
      ],
      "execution_count": 6,
      "outputs": [
        {
          "output_type": "stream",
          "text": [
            "Train for 16 steps, validate for 4 steps\n",
            "Epoch 1/1000\n",
            "16/16 [==============================] - 2s 123ms/step - loss: 0.7680 - accuracy: 0.6175 - val_loss: 0.6500 - val_accuracy: 0.6560\n",
            "Epoch 2/1000\n",
            "16/16 [==============================] - 0s 8ms/step - loss: 0.6915 - accuracy: 0.6494 - val_loss: 0.5875 - val_accuracy: 0.6720\n",
            "Epoch 3/1000\n",
            "16/16 [==============================] - 0s 5ms/step - loss: 0.6799 - accuracy: 0.6474 - val_loss: 0.5782 - val_accuracy: 0.6640\n",
            "Epoch 4/1000\n",
            "16/16 [==============================] - 0s 6ms/step - loss: 0.6778 - accuracy: 0.6355 - val_loss: 0.5860 - val_accuracy: 0.6560\n",
            "Epoch 5/1000\n",
            "16/16 [==============================] - 0s 6ms/step - loss: 0.6722 - accuracy: 0.6315 - val_loss: 0.5895 - val_accuracy: 0.6720\n",
            "Epoch 6/1000\n",
            "16/16 [==============================] - 0s 11ms/step - loss: 0.6567 - accuracy: 0.6414 - val_loss: 0.5715 - val_accuracy: 0.7040\n",
            "Epoch 7/1000\n",
            "16/16 [==============================] - 0s 14ms/step - loss: 0.6379 - accuracy: 0.6514 - val_loss: 0.5528 - val_accuracy: 0.7440\n",
            "Epoch 8/1000\n",
            "16/16 [==============================] - 0s 17ms/step - loss: 0.6273 - accuracy: 0.6673 - val_loss: 0.5447 - val_accuracy: 0.7520\n",
            "Epoch 9/1000\n",
            "16/16 [==============================] - 0s 6ms/step - loss: 0.6230 - accuracy: 0.6733 - val_loss: 0.5406 - val_accuracy: 0.7520\n",
            "Epoch 10/1000\n",
            "16/16 [==============================] - 0s 5ms/step - loss: 0.6180 - accuracy: 0.6693 - val_loss: 0.5356 - val_accuracy: 0.7520\n",
            "Epoch 11/1000\n",
            "16/16 [==============================] - 0s 9ms/step - loss: 0.6114 - accuracy: 0.6753 - val_loss: 0.5292 - val_accuracy: 0.7600\n",
            "Epoch 12/1000\n",
            "16/16 [==============================] - 0s 6ms/step - loss: 0.6053 - accuracy: 0.6793 - val_loss: 0.5223 - val_accuracy: 0.7600\n",
            "Epoch 13/1000\n",
            "16/16 [==============================] - 0s 10ms/step - loss: 0.5992 - accuracy: 0.6873 - val_loss: 0.5190 - val_accuracy: 0.7680\n",
            "Epoch 14/1000\n",
            "16/16 [==============================] - 0s 7ms/step - loss: 0.5946 - accuracy: 0.6892 - val_loss: 0.5136 - val_accuracy: 0.7600\n",
            "Epoch 15/1000\n",
            "16/16 [==============================] - 0s 6ms/step - loss: 0.5899 - accuracy: 0.6972 - val_loss: 0.5102 - val_accuracy: 0.7680\n",
            "Epoch 16/1000\n",
            "16/16 [==============================] - 0s 9ms/step - loss: 0.5865 - accuracy: 0.7032 - val_loss: 0.5076 - val_accuracy: 0.7760\n",
            "Epoch 17/1000\n",
            "16/16 [==============================] - 0s 5ms/step - loss: 0.5826 - accuracy: 0.7052 - val_loss: 0.5036 - val_accuracy: 0.7760\n",
            "Epoch 18/1000\n",
            "16/16 [==============================] - 0s 5ms/step - loss: 0.5788 - accuracy: 0.7092 - val_loss: 0.5017 - val_accuracy: 0.7760\n",
            "Epoch 19/1000\n",
            "16/16 [==============================] - 0s 6ms/step - loss: 0.5747 - accuracy: 0.7092 - val_loss: 0.4980 - val_accuracy: 0.7760\n",
            "Epoch 20/1000\n",
            "16/16 [==============================] - 0s 8ms/step - loss: 0.5713 - accuracy: 0.7151 - val_loss: 0.4947 - val_accuracy: 0.7920\n",
            "Epoch 21/1000\n",
            "16/16 [==============================] - 0s 7ms/step - loss: 0.5670 - accuracy: 0.7231 - val_loss: 0.4922 - val_accuracy: 0.7840\n",
            "Epoch 22/1000\n",
            "16/16 [==============================] - 0s 5ms/step - loss: 0.5637 - accuracy: 0.7271 - val_loss: 0.4896 - val_accuracy: 0.7920\n",
            "Epoch 23/1000\n",
            "16/16 [==============================] - 0s 6ms/step - loss: 0.5601 - accuracy: 0.7331 - val_loss: 0.4881 - val_accuracy: 0.7920\n",
            "Epoch 24/1000\n",
            "16/16 [==============================] - 0s 8ms/step - loss: 0.5561 - accuracy: 0.7251 - val_loss: 0.4830 - val_accuracy: 0.8000\n",
            "Epoch 25/1000\n",
            "16/16 [==============================] - 0s 15ms/step - loss: 0.5523 - accuracy: 0.7291 - val_loss: 0.4812 - val_accuracy: 0.8080\n",
            "Epoch 26/1000\n",
            "16/16 [==============================] - 0s 5ms/step - loss: 0.5488 - accuracy: 0.7271 - val_loss: 0.4768 - val_accuracy: 0.8080\n",
            "Epoch 27/1000\n",
            "16/16 [==============================] - 0s 5ms/step - loss: 0.5447 - accuracy: 0.7331 - val_loss: 0.4739 - val_accuracy: 0.8080\n",
            "Epoch 28/1000\n",
            "16/16 [==============================] - 0s 9ms/step - loss: 0.5416 - accuracy: 0.7410 - val_loss: 0.4718 - val_accuracy: 0.8160\n",
            "Epoch 29/1000\n",
            "16/16 [==============================] - 0s 6ms/step - loss: 0.5382 - accuracy: 0.7410 - val_loss: 0.4659 - val_accuracy: 0.8160\n",
            "Epoch 30/1000\n",
            "16/16 [==============================] - 0s 6ms/step - loss: 0.5342 - accuracy: 0.7450 - val_loss: 0.4653 - val_accuracy: 0.8080\n",
            "Epoch 31/1000\n",
            "16/16 [==============================] - 0s 5ms/step - loss: 0.5312 - accuracy: 0.7510 - val_loss: 0.4608 - val_accuracy: 0.8080\n",
            "Epoch 32/1000\n",
            "16/16 [==============================] - 0s 5ms/step - loss: 0.5277 - accuracy: 0.7510 - val_loss: 0.4602 - val_accuracy: 0.8000\n",
            "Epoch 33/1000\n",
            "16/16 [==============================] - 0s 5ms/step - loss: 0.5247 - accuracy: 0.7530 - val_loss: 0.4564 - val_accuracy: 0.8080\n",
            "Epoch 34/1000\n",
            "16/16 [==============================] - 0s 5ms/step - loss: 0.5217 - accuracy: 0.7550 - val_loss: 0.4540 - val_accuracy: 0.8080\n",
            "Epoch 35/1000\n",
            "16/16 [==============================] - 0s 6ms/step - loss: 0.5183 - accuracy: 0.7570 - val_loss: 0.4521 - val_accuracy: 0.8080\n",
            "Epoch 36/1000\n",
            "16/16 [==============================] - 0s 5ms/step - loss: 0.5155 - accuracy: 0.7649 - val_loss: 0.4503 - val_accuracy: 0.8000\n",
            "Epoch 37/1000\n",
            "16/16 [==============================] - 0s 6ms/step - loss: 0.5135 - accuracy: 0.7669 - val_loss: 0.4469 - val_accuracy: 0.8000\n",
            "Epoch 38/1000\n",
            "16/16 [==============================] - 0s 5ms/step - loss: 0.5104 - accuracy: 0.7689 - val_loss: 0.4452 - val_accuracy: 0.8000\n",
            "Epoch 39/1000\n",
            "16/16 [==============================] - 0s 5ms/step - loss: 0.5077 - accuracy: 0.7749 - val_loss: 0.4432 - val_accuracy: 0.8000\n",
            "Epoch 40/1000\n",
            "16/16 [==============================] - 0s 6ms/step - loss: 0.5053 - accuracy: 0.7709 - val_loss: 0.4404 - val_accuracy: 0.8080\n",
            "Epoch 41/1000\n",
            "16/16 [==============================] - 0s 6ms/step - loss: 0.5025 - accuracy: 0.7729 - val_loss: 0.4390 - val_accuracy: 0.8000\n",
            "Epoch 42/1000\n",
            "16/16 [==============================] - 0s 5ms/step - loss: 0.5002 - accuracy: 0.7749 - val_loss: 0.4370 - val_accuracy: 0.8000\n",
            "Epoch 43/1000\n",
            "16/16 [==============================] - 0s 5ms/step - loss: 0.4984 - accuracy: 0.7789 - val_loss: 0.4344 - val_accuracy: 0.8000\n",
            "Epoch 44/1000\n",
            "16/16 [==============================] - 0s 5ms/step - loss: 0.4953 - accuracy: 0.7849 - val_loss: 0.4337 - val_accuracy: 0.8080\n",
            "Epoch 45/1000\n",
            "16/16 [==============================] - 0s 6ms/step - loss: 0.4939 - accuracy: 0.7849 - val_loss: 0.4306 - val_accuracy: 0.8000\n",
            "Epoch 46/1000\n",
            "16/16 [==============================] - 0s 6ms/step - loss: 0.4915 - accuracy: 0.7849 - val_loss: 0.4290 - val_accuracy: 0.8160\n",
            "Epoch 47/1000\n",
            "16/16 [==============================] - 0s 5ms/step - loss: 0.4898 - accuracy: 0.7849 - val_loss: 0.4288 - val_accuracy: 0.8160\n",
            "Epoch 48/1000\n",
            "16/16 [==============================] - 0s 8ms/step - loss: 0.4880 - accuracy: 0.7869 - val_loss: 0.4264 - val_accuracy: 0.8240\n",
            "Epoch 49/1000\n",
            "16/16 [==============================] - 0s 6ms/step - loss: 0.4863 - accuracy: 0.7869 - val_loss: 0.4262 - val_accuracy: 0.8160\n",
            "Epoch 50/1000\n",
            "16/16 [==============================] - 0s 6ms/step - loss: 0.4847 - accuracy: 0.7888 - val_loss: 0.4239 - val_accuracy: 0.8160\n",
            "Epoch 51/1000\n",
            "16/16 [==============================] - 0s 5ms/step - loss: 0.4832 - accuracy: 0.7908 - val_loss: 0.4238 - val_accuracy: 0.8240\n",
            "Epoch 52/1000\n",
            "16/16 [==============================] - 0s 5ms/step - loss: 0.4815 - accuracy: 0.7888 - val_loss: 0.4250 - val_accuracy: 0.8240\n",
            "Epoch 53/1000\n",
            "16/16 [==============================] - 0s 5ms/step - loss: 0.4806 - accuracy: 0.7888 - val_loss: 0.4217 - val_accuracy: 0.8240\n",
            "Epoch 54/1000\n",
            "16/16 [==============================] - 0s 5ms/step - loss: 0.4788 - accuracy: 0.7869 - val_loss: 0.4236 - val_accuracy: 0.8240\n",
            "Epoch 55/1000\n",
            "16/16 [==============================] - 0s 5ms/step - loss: 0.4780 - accuracy: 0.7869 - val_loss: 0.4208 - val_accuracy: 0.8240\n",
            "Epoch 56/1000\n",
            "16/16 [==============================] - 0s 5ms/step - loss: 0.4768 - accuracy: 0.7888 - val_loss: 0.4196 - val_accuracy: 0.8240\n",
            "Epoch 57/1000\n",
            "16/16 [==============================] - 0s 6ms/step - loss: 0.4758 - accuracy: 0.7928 - val_loss: 0.4207 - val_accuracy: 0.8240\n",
            "Epoch 58/1000\n",
            "16/16 [==============================] - 0s 5ms/step - loss: 0.4747 - accuracy: 0.7888 - val_loss: 0.4201 - val_accuracy: 0.8240\n",
            "Epoch 59/1000\n",
            "16/16 [==============================] - 0s 5ms/step - loss: 0.4741 - accuracy: 0.7849 - val_loss: 0.4186 - val_accuracy: 0.8240\n",
            "Epoch 60/1000\n",
            "16/16 [==============================] - 0s 5ms/step - loss: 0.4734 - accuracy: 0.7869 - val_loss: 0.4194 - val_accuracy: 0.8240\n",
            "Epoch 61/1000\n",
            "16/16 [==============================] - 0s 6ms/step - loss: 0.4724 - accuracy: 0.7888 - val_loss: 0.4179 - val_accuracy: 0.8240\n",
            "Epoch 62/1000\n",
            "16/16 [==============================] - 0s 5ms/step - loss: 0.4717 - accuracy: 0.7908 - val_loss: 0.4171 - val_accuracy: 0.8240\n",
            "Epoch 63/1000\n",
            "16/16 [==============================] - 0s 5ms/step - loss: 0.4712 - accuracy: 0.7968 - val_loss: 0.4188 - val_accuracy: 0.8240\n",
            "Epoch 64/1000\n",
            "16/16 [==============================] - 0s 5ms/step - loss: 0.4709 - accuracy: 0.7968 - val_loss: 0.4155 - val_accuracy: 0.8240\n",
            "Epoch 65/1000\n",
            "16/16 [==============================] - 0s 9ms/step - loss: 0.4703 - accuracy: 0.7968 - val_loss: 0.4153 - val_accuracy: 0.8320\n",
            "Epoch 66/1000\n",
            "16/16 [==============================] - 0s 6ms/step - loss: 0.4694 - accuracy: 0.7948 - val_loss: 0.4149 - val_accuracy: 0.8320\n",
            "Epoch 67/1000\n",
            "16/16 [==============================] - 0s 6ms/step - loss: 0.4696 - accuracy: 0.7948 - val_loss: 0.4146 - val_accuracy: 0.8320\n",
            "Epoch 68/1000\n",
            "16/16 [==============================] - 0s 5ms/step - loss: 0.4686 - accuracy: 0.7928 - val_loss: 0.4132 - val_accuracy: 0.8320\n",
            "Epoch 69/1000\n",
            "16/16 [==============================] - 0s 5ms/step - loss: 0.4688 - accuracy: 0.7948 - val_loss: 0.4117 - val_accuracy: 0.8320\n",
            "Epoch 70/1000\n",
            "16/16 [==============================] - 0s 5ms/step - loss: 0.4692 - accuracy: 0.7928 - val_loss: 0.4124 - val_accuracy: 0.8320\n",
            "Epoch 71/1000\n",
            "16/16 [==============================] - 0s 5ms/step - loss: 0.4700 - accuracy: 0.7928 - val_loss: 0.4106 - val_accuracy: 0.8320\n",
            "Epoch 72/1000\n",
            "16/16 [==============================] - 0s 6ms/step - loss: 0.4712 - accuracy: 0.7968 - val_loss: 0.4069 - val_accuracy: 0.8320\n",
            "Epoch 73/1000\n",
            "16/16 [==============================] - 0s 6ms/step - loss: 0.4735 - accuracy: 0.7968 - val_loss: 0.4079 - val_accuracy: 0.8240\n",
            "Epoch 74/1000\n",
            "16/16 [==============================] - 0s 5ms/step - loss: 0.4799 - accuracy: 0.8008 - val_loss: 0.4054 - val_accuracy: 0.8320\n",
            "Epoch 75/1000\n",
            "16/16 [==============================] - 0s 9ms/step - loss: 0.4937 - accuracy: 0.7948 - val_loss: 0.3956 - val_accuracy: 0.8400\n",
            "Epoch 76/1000\n",
            "16/16 [==============================] - 0s 14ms/step - loss: 0.5118 - accuracy: 0.7908 - val_loss: 0.3844 - val_accuracy: 0.8480\n",
            "Epoch 77/1000\n",
            "16/16 [==============================] - 0s 6ms/step - loss: 0.5115 - accuracy: 0.7908 - val_loss: 0.3762 - val_accuracy: 0.8400\n",
            "Epoch 78/1000\n",
            "16/16 [==============================] - 0s 10ms/step - loss: 0.4980 - accuracy: 0.7928 - val_loss: 0.3757 - val_accuracy: 0.8560\n",
            "Epoch 79/1000\n",
            "16/16 [==============================] - 0s 6ms/step - loss: 0.4869 - accuracy: 0.7988 - val_loss: 0.3774 - val_accuracy: 0.8400\n",
            "Epoch 80/1000\n",
            "16/16 [==============================] - 0s 6ms/step - loss: 0.4799 - accuracy: 0.7968 - val_loss: 0.3782 - val_accuracy: 0.8400\n",
            "Epoch 81/1000\n",
            "16/16 [==============================] - 0s 5ms/step - loss: 0.4757 - accuracy: 0.8008 - val_loss: 0.3812 - val_accuracy: 0.8400\n",
            "Epoch 82/1000\n",
            "16/16 [==============================] - 0s 6ms/step - loss: 0.4735 - accuracy: 0.8008 - val_loss: 0.3806 - val_accuracy: 0.8400\n",
            "Epoch 83/1000\n",
            "16/16 [==============================] - 0s 6ms/step - loss: 0.4700 - accuracy: 0.8008 - val_loss: 0.3814 - val_accuracy: 0.8320\n",
            "Epoch 84/1000\n",
            "16/16 [==============================] - 0s 6ms/step - loss: 0.4690 - accuracy: 0.8008 - val_loss: 0.3797 - val_accuracy: 0.8320\n",
            "Epoch 85/1000\n",
            "16/16 [==============================] - 0s 5ms/step - loss: 0.4670 - accuracy: 0.8008 - val_loss: 0.3825 - val_accuracy: 0.8320\n",
            "Epoch 86/1000\n",
            "16/16 [==============================] - 0s 5ms/step - loss: 0.4653 - accuracy: 0.8048 - val_loss: 0.3810 - val_accuracy: 0.8320\n",
            "Epoch 87/1000\n",
            "16/16 [==============================] - 0s 5ms/step - loss: 0.4633 - accuracy: 0.8008 - val_loss: 0.3813 - val_accuracy: 0.8320\n",
            "Epoch 88/1000\n",
            "16/16 [==============================] - 0s 5ms/step - loss: 0.4627 - accuracy: 0.8048 - val_loss: 0.3819 - val_accuracy: 0.8320\n"
          ],
          "name": "stdout"
        },
        {
          "output_type": "display_data",
          "data": {
            "text/html": [
              "<span style=\"color:#4527A0\"><h1 style=\"font-size:18px\">Trial complete</h1></span>"
            ],
            "text/plain": [
              "<IPython.core.display.HTML object>"
            ]
          },
          "metadata": {
            "tags": []
          }
        },
        {
          "output_type": "display_data",
          "data": {
            "text/html": [
              "<span style=\"color:#4527A0\"><h1 style=\"font-size:18px\">Trial summary</h1></span>"
            ],
            "text/plain": [
              "<IPython.core.display.HTML object>"
            ]
          },
          "metadata": {
            "tags": []
          }
        },
        {
          "output_type": "display_data",
          "data": {
            "text/html": [
              "<span style=\"color:cyan\"> |-Trial ID: 352cb898a5ecb76aae29aafd7f205b6e</span>"
            ],
            "text/plain": [
              "<IPython.core.display.HTML object>"
            ]
          },
          "metadata": {
            "tags": []
          }
        },
        {
          "output_type": "display_data",
          "data": {
            "text/html": [
              "<span style=\"color:cyan\"> |-Score: 0.8560000061988831</span>"
            ],
            "text/plain": [
              "<IPython.core.display.HTML object>"
            ]
          },
          "metadata": {
            "tags": []
          }
        },
        {
          "output_type": "display_data",
          "data": {
            "text/html": [
              "<span style=\"color:cyan\"> |-Best step: 0</span>"
            ],
            "text/plain": [
              "<IPython.core.display.HTML object>"
            ]
          },
          "metadata": {
            "tags": []
          }
        },
        {
          "output_type": "display_data",
          "data": {
            "text/html": [
              "<span style=\"color:#7E57C2\"><h2 style=\"font-size:16px\">Hyperparameters:</h2></span>"
            ],
            "text/plain": [
              "<IPython.core.display.HTML object>"
            ]
          },
          "metadata": {
            "tags": []
          }
        },
        {
          "output_type": "display_data",
          "data": {
            "text/html": [
              "<span style=\"color:cyan\"> |-classification_head_1/dropout_rate: 0</span>"
            ],
            "text/plain": [
              "<IPython.core.display.HTML object>"
            ]
          },
          "metadata": {
            "tags": []
          }
        },
        {
          "output_type": "display_data",
          "data": {
            "text/html": [
              "<span style=\"color:blue\"> |-optimizer: adam</span>"
            ],
            "text/plain": [
              "<IPython.core.display.HTML object>"
            ]
          },
          "metadata": {
            "tags": []
          }
        },
        {
          "output_type": "display_data",
          "data": {
            "text/html": [
              "<span style=\"color:cyan\"> |-structured_data_block_1/dense_block_1/dropout_rate: 0</span>"
            ],
            "text/plain": [
              "<IPython.core.display.HTML object>"
            ]
          },
          "metadata": {
            "tags": []
          }
        },
        {
          "output_type": "display_data",
          "data": {
            "text/html": [
              "<span style=\"color:blue\"> |-structured_data_block_1/dense_block_1/num_layers: 2</span>"
            ],
            "text/plain": [
              "<IPython.core.display.HTML object>"
            ]
          },
          "metadata": {
            "tags": []
          }
        },
        {
          "output_type": "display_data",
          "data": {
            "text/html": [
              "<span style=\"color:cyan\"> |-structured_data_block_1/dense_block_1/units_0: 32</span>"
            ],
            "text/plain": [
              "<IPython.core.display.HTML object>"
            ]
          },
          "metadata": {
            "tags": []
          }
        },
        {
          "output_type": "display_data",
          "data": {
            "text/html": [
              "<span style=\"color:blue\"> |-structured_data_block_1/dense_block_1/units_1: 32</span>"
            ],
            "text/plain": [
              "<IPython.core.display.HTML object>"
            ]
          },
          "metadata": {
            "tags": []
          }
        },
        {
          "output_type": "display_data",
          "data": {
            "text/html": [
              "<span style=\"color:cyan\"> |-structured_data_block_1/dense_block_1/use_batchnorm: False</span>"
            ],
            "text/plain": [
              "<IPython.core.display.HTML object>"
            ]
          },
          "metadata": {
            "tags": []
          }
        },
        {
          "output_type": "stream",
          "text": [
            "Train for 16 steps, validate for 4 steps\n",
            "Epoch 1/1000\n",
            "16/16 [==============================] - 1s 37ms/step - loss: 4.4137 - accuracy: 0.5359 - val_loss: 1.2253 - val_accuracy: 0.6560\n",
            "Epoch 2/1000\n",
            "16/16 [==============================] - 0s 10ms/step - loss: 3.2969 - accuracy: 0.5299 - val_loss: 0.7399 - val_accuracy: 0.7280\n",
            "Epoch 3/1000\n",
            "16/16 [==============================] - 0s 6ms/step - loss: 3.6300 - accuracy: 0.5837 - val_loss: 0.7239 - val_accuracy: 0.7280\n",
            "Epoch 4/1000\n",
            "16/16 [==============================] - 0s 9ms/step - loss: 2.5506 - accuracy: 0.5916 - val_loss: 0.7026 - val_accuracy: 0.7360\n",
            "Epoch 5/1000\n",
            "16/16 [==============================] - 0s 6ms/step - loss: 1.5513 - accuracy: 0.5956 - val_loss: 0.6994 - val_accuracy: 0.7200\n",
            "Epoch 6/1000\n",
            "16/16 [==============================] - 0s 7ms/step - loss: 1.9688 - accuracy: 0.6076 - val_loss: 0.7060 - val_accuracy: 0.7040\n",
            "Epoch 7/1000\n",
            "16/16 [==============================] - 0s 6ms/step - loss: 1.4945 - accuracy: 0.6076 - val_loss: 0.6661 - val_accuracy: 0.7120\n",
            "Epoch 8/1000\n",
            "16/16 [==============================] - 0s 5ms/step - loss: 1.5257 - accuracy: 0.5857 - val_loss: 0.6344 - val_accuracy: 0.6960\n",
            "Epoch 9/1000\n",
            "16/16 [==============================] - 0s 6ms/step - loss: 1.3309 - accuracy: 0.6175 - val_loss: 0.6315 - val_accuracy: 0.6720\n",
            "Epoch 10/1000\n",
            "16/16 [==============================] - 0s 6ms/step - loss: 0.9048 - accuracy: 0.6434 - val_loss: 0.6306 - val_accuracy: 0.7040\n",
            "Epoch 11/1000\n",
            "16/16 [==============================] - 0s 5ms/step - loss: 1.0071 - accuracy: 0.5896 - val_loss: 0.6130 - val_accuracy: 0.6960\n",
            "Epoch 12/1000\n",
            "16/16 [==============================] - 0s 6ms/step - loss: 1.0409 - accuracy: 0.5976 - val_loss: 0.6026 - val_accuracy: 0.6960\n",
            "Epoch 13/1000\n",
            "16/16 [==============================] - 0s 6ms/step - loss: 0.7626 - accuracy: 0.6414 - val_loss: 0.5910 - val_accuracy: 0.7040\n",
            "Epoch 14/1000\n",
            "16/16 [==============================] - 0s 6ms/step - loss: 0.7799 - accuracy: 0.6235 - val_loss: 0.5777 - val_accuracy: 0.7040\n",
            "Epoch 15/1000\n",
            "16/16 [==============================] - 0s 5ms/step - loss: 0.7616 - accuracy: 0.6315 - val_loss: 0.5744 - val_accuracy: 0.7280\n",
            "Epoch 16/1000\n",
            "16/16 [==============================] - 0s 5ms/step - loss: 0.7545 - accuracy: 0.6494 - val_loss: 0.5634 - val_accuracy: 0.7040\n",
            "Epoch 17/1000\n",
            "16/16 [==============================] - 0s 5ms/step - loss: 0.7046 - accuracy: 0.6255 - val_loss: 0.5573 - val_accuracy: 0.6960\n",
            "Epoch 18/1000\n",
            "16/16 [==============================] - 0s 5ms/step - loss: 0.6703 - accuracy: 0.6673 - val_loss: 0.5572 - val_accuracy: 0.7200\n",
            "Epoch 19/1000\n",
            "16/16 [==============================] - 0s 5ms/step - loss: 0.6706 - accuracy: 0.6315 - val_loss: 0.5687 - val_accuracy: 0.6960\n",
            "Epoch 20/1000\n",
            "16/16 [==============================] - 0s 6ms/step - loss: 0.6521 - accuracy: 0.6574 - val_loss: 0.5694 - val_accuracy: 0.6960\n",
            "Epoch 21/1000\n",
            "16/16 [==============================] - 0s 5ms/step - loss: 0.6678 - accuracy: 0.6673 - val_loss: 0.5588 - val_accuracy: 0.7120\n",
            "Epoch 22/1000\n",
            "16/16 [==============================] - 0s 6ms/step - loss: 0.6280 - accuracy: 0.6554 - val_loss: 0.5502 - val_accuracy: 0.7280\n",
            "Epoch 23/1000\n",
            "16/16 [==============================] - 0s 7ms/step - loss: 0.6343 - accuracy: 0.6534 - val_loss: 0.5531 - val_accuracy: 0.7280\n",
            "Epoch 24/1000\n",
            "16/16 [==============================] - 0s 7ms/step - loss: 0.6304 - accuracy: 0.6394 - val_loss: 0.5539 - val_accuracy: 0.7200\n",
            "Epoch 25/1000\n",
            "16/16 [==============================] - 0s 7ms/step - loss: 0.6183 - accuracy: 0.6454 - val_loss: 0.5498 - val_accuracy: 0.7120\n",
            "Epoch 26/1000\n",
            "16/16 [==============================] - 0s 6ms/step - loss: 0.6336 - accuracy: 0.6633 - val_loss: 0.5428 - val_accuracy: 0.7360\n",
            "Epoch 27/1000\n",
            "16/16 [==============================] - 0s 5ms/step - loss: 0.6244 - accuracy: 0.6693 - val_loss: 0.5425 - val_accuracy: 0.7280\n",
            "Epoch 28/1000\n",
            "16/16 [==============================] - 0s 6ms/step - loss: 0.6255 - accuracy: 0.6693 - val_loss: 0.5463 - val_accuracy: 0.7120\n",
            "Epoch 29/1000\n",
            "16/16 [==============================] - 0s 5ms/step - loss: 0.6224 - accuracy: 0.6813 - val_loss: 0.5516 - val_accuracy: 0.7120\n",
            "Epoch 30/1000\n",
            "16/16 [==============================] - 0s 5ms/step - loss: 0.6333 - accuracy: 0.6434 - val_loss: 0.5618 - val_accuracy: 0.7120\n",
            "Epoch 31/1000\n",
            "16/16 [==============================] - 0s 6ms/step - loss: 0.6001 - accuracy: 0.6773 - val_loss: 0.5530 - val_accuracy: 0.7200\n",
            "Epoch 32/1000\n",
            "16/16 [==============================] - 0s 5ms/step - loss: 0.6191 - accuracy: 0.6693 - val_loss: 0.5479 - val_accuracy: 0.7280\n",
            "Epoch 33/1000\n",
            "16/16 [==============================] - 0s 5ms/step - loss: 0.6131 - accuracy: 0.6713 - val_loss: 0.5441 - val_accuracy: 0.6960\n",
            "Epoch 34/1000\n",
            "16/16 [==============================] - 0s 6ms/step - loss: 0.6001 - accuracy: 0.6454 - val_loss: 0.5402 - val_accuracy: 0.7120\n",
            "Epoch 35/1000\n",
            "16/16 [==============================] - 0s 5ms/step - loss: 0.6190 - accuracy: 0.6813 - val_loss: 0.5449 - val_accuracy: 0.7040\n",
            "Epoch 36/1000\n",
            "16/16 [==============================] - 0s 5ms/step - loss: 0.6100 - accuracy: 0.6833 - val_loss: 0.5563 - val_accuracy: 0.7200\n",
            "Epoch 37/1000\n",
            "16/16 [==============================] - 0s 5ms/step - loss: 0.6145 - accuracy: 0.6833 - val_loss: 0.5417 - val_accuracy: 0.7360\n",
            "Epoch 38/1000\n",
            "16/16 [==============================] - 0s 5ms/step - loss: 0.6025 - accuracy: 0.6574 - val_loss: 0.5383 - val_accuracy: 0.7280\n",
            "Epoch 39/1000\n",
            "16/16 [==============================] - 0s 6ms/step - loss: 0.6210 - accuracy: 0.6813 - val_loss: 0.5430 - val_accuracy: 0.7280\n",
            "Epoch 40/1000\n",
            "16/16 [==============================] - 0s 5ms/step - loss: 0.6114 - accuracy: 0.6693 - val_loss: 0.5467 - val_accuracy: 0.7200\n",
            "Epoch 41/1000\n",
            "16/16 [==============================] - 0s 5ms/step - loss: 0.6132 - accuracy: 0.6733 - val_loss: 0.5289 - val_accuracy: 0.7280\n",
            "Epoch 42/1000\n",
            "16/16 [==============================] - 0s 5ms/step - loss: 0.6162 - accuracy: 0.6793 - val_loss: 0.5433 - val_accuracy: 0.7280\n",
            "Epoch 43/1000\n",
            "16/16 [==============================] - 0s 5ms/step - loss: 0.6029 - accuracy: 0.6813 - val_loss: 0.5379 - val_accuracy: 0.7200\n",
            "Epoch 44/1000\n",
            "16/16 [==============================] - 0s 5ms/step - loss: 0.5944 - accuracy: 0.6693 - val_loss: 0.5358 - val_accuracy: 0.7200\n",
            "Epoch 45/1000\n",
            "16/16 [==============================] - 0s 7ms/step - loss: 0.6078 - accuracy: 0.6773 - val_loss: 0.5339 - val_accuracy: 0.7120\n",
            "Epoch 46/1000\n",
            "16/16 [==============================] - 0s 6ms/step - loss: 0.6121 - accuracy: 0.6514 - val_loss: 0.5379 - val_accuracy: 0.7200\n",
            "Epoch 47/1000\n",
            "16/16 [==============================] - 0s 6ms/step - loss: 0.5844 - accuracy: 0.6932 - val_loss: 0.5293 - val_accuracy: 0.7280\n",
            "Epoch 48/1000\n",
            "16/16 [==============================] - 0s 5ms/step - loss: 0.5890 - accuracy: 0.6753 - val_loss: 0.5180 - val_accuracy: 0.7200\n",
            "Epoch 49/1000\n",
            "16/16 [==============================] - 0s 5ms/step - loss: 0.5753 - accuracy: 0.6932 - val_loss: 0.5189 - val_accuracy: 0.7360\n",
            "Epoch 50/1000\n",
            "16/16 [==============================] - 0s 5ms/step - loss: 0.6129 - accuracy: 0.6773 - val_loss: 0.5359 - val_accuracy: 0.7280\n",
            "Epoch 51/1000\n",
            "16/16 [==============================] - 0s 6ms/step - loss: 0.5900 - accuracy: 0.6833 - val_loss: 0.5244 - val_accuracy: 0.7200\n",
            "Epoch 52/1000\n",
            "16/16 [==============================] - 0s 10ms/step - loss: 0.5866 - accuracy: 0.6912 - val_loss: 0.5217 - val_accuracy: 0.7520\n",
            "Epoch 53/1000\n",
            "16/16 [==============================] - 0s 6ms/step - loss: 0.5800 - accuracy: 0.6833 - val_loss: 0.5222 - val_accuracy: 0.7360\n",
            "Epoch 54/1000\n",
            "16/16 [==============================] - 0s 6ms/step - loss: 0.5987 - accuracy: 0.6713 - val_loss: 0.5256 - val_accuracy: 0.7200\n",
            "Epoch 55/1000\n",
            "16/16 [==============================] - 0s 9ms/step - loss: 0.6079 - accuracy: 0.6912 - val_loss: 0.5378 - val_accuracy: 0.7680\n",
            "Epoch 56/1000\n",
            "16/16 [==============================] - 0s 6ms/step - loss: 0.5964 - accuracy: 0.6693 - val_loss: 0.5166 - val_accuracy: 0.7600\n",
            "Epoch 57/1000\n",
            "16/16 [==============================] - 0s 5ms/step - loss: 0.5871 - accuracy: 0.6952 - val_loss: 0.5110 - val_accuracy: 0.7280\n",
            "Epoch 58/1000\n",
            "16/16 [==============================] - 0s 5ms/step - loss: 0.5940 - accuracy: 0.6753 - val_loss: 0.5181 - val_accuracy: 0.7440\n",
            "Epoch 59/1000\n",
            "16/16 [==============================] - 0s 5ms/step - loss: 0.5894 - accuracy: 0.6733 - val_loss: 0.5231 - val_accuracy: 0.7440\n",
            "Epoch 60/1000\n",
            "16/16 [==============================] - 0s 5ms/step - loss: 0.5852 - accuracy: 0.6932 - val_loss: 0.5100 - val_accuracy: 0.7040\n",
            "Epoch 61/1000\n",
            "16/16 [==============================] - 0s 5ms/step - loss: 0.5902 - accuracy: 0.6992 - val_loss: 0.5122 - val_accuracy: 0.7600\n",
            "Epoch 62/1000\n",
            "16/16 [==============================] - 0s 5ms/step - loss: 0.5983 - accuracy: 0.6713 - val_loss: 0.5090 - val_accuracy: 0.7680\n",
            "Epoch 63/1000\n",
            "16/16 [==============================] - 0s 5ms/step - loss: 0.5774 - accuracy: 0.6773 - val_loss: 0.5092 - val_accuracy: 0.7120\n",
            "Epoch 64/1000\n",
            "16/16 [==============================] - 0s 5ms/step - loss: 0.5975 - accuracy: 0.6873 - val_loss: 0.5112 - val_accuracy: 0.7360\n",
            "Epoch 65/1000\n",
            "16/16 [==============================] - 0s 5ms/step - loss: 0.5674 - accuracy: 0.7251 - val_loss: 0.5098 - val_accuracy: 0.7440\n",
            "Epoch 66/1000\n",
            "16/16 [==============================] - 0s 6ms/step - loss: 0.5840 - accuracy: 0.7072 - val_loss: 0.5049 - val_accuracy: 0.7520\n",
            "Epoch 67/1000\n",
            "16/16 [==============================] - 0s 6ms/step - loss: 0.5702 - accuracy: 0.6873 - val_loss: 0.5024 - val_accuracy: 0.7680\n",
            "Epoch 68/1000\n",
            "16/16 [==============================] - 0s 9ms/step - loss: 0.5838 - accuracy: 0.6813 - val_loss: 0.5029 - val_accuracy: 0.7760\n",
            "Epoch 69/1000\n",
            "16/16 [==============================] - 0s 6ms/step - loss: 0.5686 - accuracy: 0.7251 - val_loss: 0.5062 - val_accuracy: 0.7680\n",
            "Epoch 70/1000\n",
            "16/16 [==============================] - 0s 9ms/step - loss: 0.5817 - accuracy: 0.7112 - val_loss: 0.5053 - val_accuracy: 0.7920\n",
            "Epoch 71/1000\n",
            "16/16 [==============================] - 0s 16ms/step - loss: 0.5960 - accuracy: 0.6873 - val_loss: 0.5058 - val_accuracy: 0.8080\n",
            "Epoch 72/1000\n",
            "16/16 [==============================] - 0s 6ms/step - loss: 0.5737 - accuracy: 0.6773 - val_loss: 0.4990 - val_accuracy: 0.7920\n",
            "Epoch 73/1000\n",
            "16/16 [==============================] - 0s 7ms/step - loss: 0.5825 - accuracy: 0.6873 - val_loss: 0.5043 - val_accuracy: 0.7760\n",
            "Epoch 74/1000\n",
            "16/16 [==============================] - 0s 5ms/step - loss: 0.5865 - accuracy: 0.6753 - val_loss: 0.5114 - val_accuracy: 0.7840\n",
            "Epoch 75/1000\n",
            "16/16 [==============================] - 0s 6ms/step - loss: 0.5879 - accuracy: 0.6833 - val_loss: 0.5052 - val_accuracy: 0.7600\n",
            "Epoch 76/1000\n",
            "16/16 [==============================] - 0s 5ms/step - loss: 0.5629 - accuracy: 0.7311 - val_loss: 0.4955 - val_accuracy: 0.7600\n",
            "Epoch 77/1000\n",
            "16/16 [==============================] - 0s 5ms/step - loss: 0.5757 - accuracy: 0.7151 - val_loss: 0.4880 - val_accuracy: 0.7920\n",
            "Epoch 78/1000\n",
            "16/16 [==============================] - 0s 5ms/step - loss: 0.5669 - accuracy: 0.6932 - val_loss: 0.4866 - val_accuracy: 0.7600\n",
            "Epoch 79/1000\n",
            "16/16 [==============================] - 0s 5ms/step - loss: 0.5542 - accuracy: 0.7251 - val_loss: 0.4886 - val_accuracy: 0.7680\n",
            "Epoch 80/1000\n",
            "16/16 [==============================] - 0s 5ms/step - loss: 0.5668 - accuracy: 0.7271 - val_loss: 0.4851 - val_accuracy: 0.7840\n",
            "Epoch 81/1000\n",
            "16/16 [==============================] - 0s 5ms/step - loss: 0.5625 - accuracy: 0.7291 - val_loss: 0.4828 - val_accuracy: 0.7600\n",
            "Epoch 82/1000\n",
            "16/16 [==============================] - 0s 5ms/step - loss: 0.5577 - accuracy: 0.6972 - val_loss: 0.4866 - val_accuracy: 0.7760\n",
            "Epoch 83/1000\n",
            "16/16 [==============================] - 0s 5ms/step - loss: 0.5421 - accuracy: 0.7231 - val_loss: 0.4725 - val_accuracy: 0.7680\n",
            "Epoch 84/1000\n",
            "16/16 [==============================] - 0s 5ms/step - loss: 0.5524 - accuracy: 0.7410 - val_loss: 0.4655 - val_accuracy: 0.7760\n",
            "Epoch 85/1000\n",
            "16/16 [==============================] - 0s 5ms/step - loss: 0.5468 - accuracy: 0.7331 - val_loss: 0.4685 - val_accuracy: 0.7840\n",
            "Epoch 86/1000\n",
            "16/16 [==============================] - 0s 5ms/step - loss: 0.5727 - accuracy: 0.7012 - val_loss: 0.4905 - val_accuracy: 0.7920\n",
            "Epoch 87/1000\n",
            "16/16 [==============================] - 0s 6ms/step - loss: 0.5514 - accuracy: 0.7390 - val_loss: 0.4843 - val_accuracy: 0.7920\n",
            "Epoch 88/1000\n",
            "16/16 [==============================] - 0s 6ms/step - loss: 0.5573 - accuracy: 0.7012 - val_loss: 0.4738 - val_accuracy: 0.7840\n",
            "Epoch 89/1000\n",
            "16/16 [==============================] - 0s 5ms/step - loss: 0.5439 - accuracy: 0.7291 - val_loss: 0.4662 - val_accuracy: 0.7680\n",
            "Epoch 90/1000\n",
            "16/16 [==============================] - 0s 5ms/step - loss: 0.5635 - accuracy: 0.7052 - val_loss: 0.4753 - val_accuracy: 0.7920\n",
            "Epoch 91/1000\n",
            "16/16 [==============================] - 0s 6ms/step - loss: 0.5454 - accuracy: 0.7092 - val_loss: 0.4654 - val_accuracy: 0.7840\n",
            "Epoch 92/1000\n",
            "16/16 [==============================] - 0s 5ms/step - loss: 0.5492 - accuracy: 0.7311 - val_loss: 0.4609 - val_accuracy: 0.8000\n",
            "Epoch 93/1000\n",
            "16/16 [==============================] - 0s 5ms/step - loss: 0.5444 - accuracy: 0.7410 - val_loss: 0.4678 - val_accuracy: 0.7840\n",
            "Epoch 94/1000\n",
            "16/16 [==============================] - 0s 5ms/step - loss: 0.5533 - accuracy: 0.7510 - val_loss: 0.4562 - val_accuracy: 0.7840\n",
            "Epoch 95/1000\n",
            "16/16 [==============================] - 0s 5ms/step - loss: 0.5435 - accuracy: 0.7291 - val_loss: 0.4617 - val_accuracy: 0.7840\n",
            "Epoch 96/1000\n",
            "16/16 [==============================] - 0s 6ms/step - loss: 0.5399 - accuracy: 0.7231 - val_loss: 0.4652 - val_accuracy: 0.7920\n",
            "Epoch 97/1000\n",
            "16/16 [==============================] - 0s 5ms/step - loss: 0.5565 - accuracy: 0.7171 - val_loss: 0.4664 - val_accuracy: 0.7920\n",
            "Epoch 98/1000\n",
            "16/16 [==============================] - 0s 5ms/step - loss: 0.5391 - accuracy: 0.7351 - val_loss: 0.4541 - val_accuracy: 0.7840\n",
            "Epoch 99/1000\n",
            "16/16 [==============================] - 0s 5ms/step - loss: 0.5492 - accuracy: 0.7151 - val_loss: 0.4598 - val_accuracy: 0.8000\n",
            "Epoch 100/1000\n",
            "16/16 [==============================] - 0s 6ms/step - loss: 0.5319 - accuracy: 0.7669 - val_loss: 0.4633 - val_accuracy: 0.7840\n",
            "Epoch 101/1000\n",
            "16/16 [==============================] - 0s 5ms/step - loss: 0.5513 - accuracy: 0.7112 - val_loss: 0.4564 - val_accuracy: 0.8000\n",
            "Epoch 102/1000\n",
            "16/16 [==============================] - 0s 5ms/step - loss: 0.5341 - accuracy: 0.7331 - val_loss: 0.4514 - val_accuracy: 0.7840\n",
            "Epoch 103/1000\n",
            "16/16 [==============================] - 0s 6ms/step - loss: 0.5500 - accuracy: 0.7151 - val_loss: 0.4576 - val_accuracy: 0.8000\n",
            "Epoch 104/1000\n",
            "16/16 [==============================] - 0s 6ms/step - loss: 0.5488 - accuracy: 0.7351 - val_loss: 0.4552 - val_accuracy: 0.7840\n",
            "Epoch 105/1000\n",
            "16/16 [==============================] - 0s 5ms/step - loss: 0.5392 - accuracy: 0.7410 - val_loss: 0.4503 - val_accuracy: 0.8080\n",
            "Epoch 106/1000\n",
            "16/16 [==============================] - 0s 5ms/step - loss: 0.5479 - accuracy: 0.7311 - val_loss: 0.4446 - val_accuracy: 0.7920\n",
            "Epoch 107/1000\n",
            "16/16 [==============================] - 0s 6ms/step - loss: 0.5254 - accuracy: 0.7430 - val_loss: 0.4472 - val_accuracy: 0.7920\n",
            "Epoch 108/1000\n",
            "16/16 [==============================] - 0s 5ms/step - loss: 0.5341 - accuracy: 0.7211 - val_loss: 0.4500 - val_accuracy: 0.7760\n",
            "Epoch 109/1000\n",
            "16/16 [==============================] - 0s 5ms/step - loss: 0.5431 - accuracy: 0.7251 - val_loss: 0.4409 - val_accuracy: 0.8000\n",
            "Epoch 110/1000\n",
            "16/16 [==============================] - 0s 5ms/step - loss: 0.5341 - accuracy: 0.7550 - val_loss: 0.4545 - val_accuracy: 0.8000\n",
            "Epoch 111/1000\n",
            "16/16 [==============================] - 0s 5ms/step - loss: 0.5302 - accuracy: 0.7410 - val_loss: 0.4400 - val_accuracy: 0.8080\n",
            "Epoch 112/1000\n",
            "16/16 [==============================] - 0s 5ms/step - loss: 0.5158 - accuracy: 0.7550 - val_loss: 0.4426 - val_accuracy: 0.7920\n",
            "Epoch 113/1000\n",
            "16/16 [==============================] - 0s 9ms/step - loss: 0.5519 - accuracy: 0.7052 - val_loss: 0.4431 - val_accuracy: 0.8240\n",
            "Epoch 114/1000\n",
            "16/16 [==============================] - 0s 6ms/step - loss: 0.5500 - accuracy: 0.7131 - val_loss: 0.4460 - val_accuracy: 0.7920\n",
            "Epoch 115/1000\n",
            "16/16 [==============================] - 0s 5ms/step - loss: 0.5376 - accuracy: 0.7291 - val_loss: 0.4411 - val_accuracy: 0.8080\n",
            "Epoch 116/1000\n",
            "16/16 [==============================] - 0s 5ms/step - loss: 0.5235 - accuracy: 0.7510 - val_loss: 0.4452 - val_accuracy: 0.8000\n",
            "Epoch 117/1000\n",
            "16/16 [==============================] - 0s 5ms/step - loss: 0.5328 - accuracy: 0.7510 - val_loss: 0.4384 - val_accuracy: 0.7920\n",
            "Epoch 118/1000\n",
            "16/16 [==============================] - 0s 5ms/step - loss: 0.5248 - accuracy: 0.7550 - val_loss: 0.4388 - val_accuracy: 0.7840\n",
            "Epoch 119/1000\n",
            "16/16 [==============================] - 0s 5ms/step - loss: 0.5051 - accuracy: 0.7530 - val_loss: 0.4372 - val_accuracy: 0.7760\n",
            "Epoch 120/1000\n",
            "16/16 [==============================] - 0s 5ms/step - loss: 0.5470 - accuracy: 0.7171 - val_loss: 0.4456 - val_accuracy: 0.7920\n",
            "Epoch 121/1000\n",
            "16/16 [==============================] - 0s 5ms/step - loss: 0.5409 - accuracy: 0.7131 - val_loss: 0.4472 - val_accuracy: 0.7840\n",
            "Epoch 122/1000\n",
            "16/16 [==============================] - 0s 5ms/step - loss: 0.5242 - accuracy: 0.7311 - val_loss: 0.4308 - val_accuracy: 0.8080\n",
            "Epoch 123/1000\n",
            "16/16 [==============================] - 0s 5ms/step - loss: 0.5247 - accuracy: 0.7450 - val_loss: 0.4344 - val_accuracy: 0.8160\n",
            "Epoch 124/1000\n",
            "16/16 [==============================] - 0s 6ms/step - loss: 0.5267 - accuracy: 0.7410 - val_loss: 0.4250 - val_accuracy: 0.7840\n",
            "Epoch 125/1000\n",
            "16/16 [==============================] - 0s 5ms/step - loss: 0.5173 - accuracy: 0.7669 - val_loss: 0.4203 - val_accuracy: 0.8080\n",
            "Epoch 126/1000\n",
            "16/16 [==============================] - 0s 5ms/step - loss: 0.5060 - accuracy: 0.7649 - val_loss: 0.4264 - val_accuracy: 0.8000\n",
            "Epoch 127/1000\n",
            "16/16 [==============================] - 0s 5ms/step - loss: 0.5271 - accuracy: 0.7450 - val_loss: 0.4200 - val_accuracy: 0.8000\n",
            "Epoch 128/1000\n",
            "16/16 [==============================] - 0s 6ms/step - loss: 0.5171 - accuracy: 0.7450 - val_loss: 0.4249 - val_accuracy: 0.8080\n",
            "Epoch 129/1000\n",
            "16/16 [==============================] - 0s 6ms/step - loss: 0.5259 - accuracy: 0.7570 - val_loss: 0.4267 - val_accuracy: 0.8240\n",
            "Epoch 130/1000\n",
            "16/16 [==============================] - 0s 5ms/step - loss: 0.4948 - accuracy: 0.7510 - val_loss: 0.4171 - val_accuracy: 0.8160\n",
            "Epoch 131/1000\n",
            "16/16 [==============================] - 0s 5ms/step - loss: 0.5029 - accuracy: 0.7610 - val_loss: 0.4166 - val_accuracy: 0.8000\n",
            "Epoch 132/1000\n",
            "16/16 [==============================] - 0s 6ms/step - loss: 0.5115 - accuracy: 0.7769 - val_loss: 0.4339 - val_accuracy: 0.8080\n",
            "Epoch 133/1000\n",
            "16/16 [==============================] - 0s 6ms/step - loss: 0.5214 - accuracy: 0.7669 - val_loss: 0.4347 - val_accuracy: 0.7920\n",
            "Epoch 134/1000\n",
            "16/16 [==============================] - 0s 6ms/step - loss: 0.5309 - accuracy: 0.7649 - val_loss: 0.4226 - val_accuracy: 0.8240\n",
            "Epoch 135/1000\n",
            "16/16 [==============================] - 0s 5ms/step - loss: 0.5055 - accuracy: 0.7590 - val_loss: 0.4152 - val_accuracy: 0.8080\n",
            "Epoch 136/1000\n",
            "16/16 [==============================] - 0s 5ms/step - loss: 0.5129 - accuracy: 0.7729 - val_loss: 0.4210 - val_accuracy: 0.8160\n",
            "Epoch 137/1000\n",
            "16/16 [==============================] - 0s 6ms/step - loss: 0.4966 - accuracy: 0.7629 - val_loss: 0.4170 - val_accuracy: 0.8160\n",
            "Epoch 138/1000\n",
            "16/16 [==============================] - 0s 5ms/step - loss: 0.5220 - accuracy: 0.7390 - val_loss: 0.4140 - val_accuracy: 0.8080\n",
            "Epoch 139/1000\n",
            "16/16 [==============================] - 0s 5ms/step - loss: 0.5209 - accuracy: 0.7331 - val_loss: 0.4322 - val_accuracy: 0.8080\n",
            "Epoch 140/1000\n",
            "16/16 [==============================] - 0s 6ms/step - loss: 0.5220 - accuracy: 0.7450 - val_loss: 0.4272 - val_accuracy: 0.8080\n",
            "Epoch 141/1000\n",
            "16/16 [==============================] - 0s 5ms/step - loss: 0.5184 - accuracy: 0.7610 - val_loss: 0.4260 - val_accuracy: 0.8160\n",
            "Epoch 142/1000\n",
            "16/16 [==============================] - 0s 6ms/step - loss: 0.4994 - accuracy: 0.7769 - val_loss: 0.4188 - val_accuracy: 0.8240\n",
            "Epoch 143/1000\n",
            "16/16 [==============================] - 0s 5ms/step - loss: 0.5194 - accuracy: 0.7550 - val_loss: 0.4161 - val_accuracy: 0.8160\n",
            "Epoch 144/1000\n",
            "16/16 [==============================] - 0s 5ms/step - loss: 0.5071 - accuracy: 0.7510 - val_loss: 0.3999 - val_accuracy: 0.8080\n",
            "Epoch 145/1000\n",
            "16/16 [==============================] - 0s 8ms/step - loss: 0.5167 - accuracy: 0.7470 - val_loss: 0.4242 - val_accuracy: 0.8480\n",
            "Epoch 146/1000\n",
            "16/16 [==============================] - 0s 5ms/step - loss: 0.5142 - accuracy: 0.7590 - val_loss: 0.4230 - val_accuracy: 0.8080\n",
            "Epoch 147/1000\n",
            "16/16 [==============================] - 0s 6ms/step - loss: 0.5022 - accuracy: 0.7510 - val_loss: 0.4153 - val_accuracy: 0.8080\n",
            "Epoch 148/1000\n",
            "16/16 [==============================] - 0s 6ms/step - loss: 0.4941 - accuracy: 0.7809 - val_loss: 0.4096 - val_accuracy: 0.8160\n",
            "Epoch 149/1000\n",
            "16/16 [==============================] - 0s 6ms/step - loss: 0.4929 - accuracy: 0.7709 - val_loss: 0.4093 - val_accuracy: 0.8080\n",
            "Epoch 150/1000\n",
            "16/16 [==============================] - 0s 6ms/step - loss: 0.5103 - accuracy: 0.7729 - val_loss: 0.4121 - val_accuracy: 0.8080\n",
            "Epoch 151/1000\n",
            "16/16 [==============================] - 0s 5ms/step - loss: 0.4874 - accuracy: 0.7669 - val_loss: 0.4064 - val_accuracy: 0.8320\n",
            "Epoch 152/1000\n",
            "16/16 [==============================] - 0s 5ms/step - loss: 0.5057 - accuracy: 0.7510 - val_loss: 0.4100 - val_accuracy: 0.8320\n",
            "Epoch 153/1000\n",
            "16/16 [==============================] - 0s 6ms/step - loss: 0.4883 - accuracy: 0.7729 - val_loss: 0.3932 - val_accuracy: 0.8240\n",
            "Epoch 154/1000\n",
            "16/16 [==============================] - 0s 5ms/step - loss: 0.5067 - accuracy: 0.7610 - val_loss: 0.4142 - val_accuracy: 0.8160\n",
            "Epoch 155/1000\n",
            "16/16 [==============================] - 0s 5ms/step - loss: 0.4693 - accuracy: 0.7669 - val_loss: 0.4024 - val_accuracy: 0.8080\n",
            "Epoch 156/1000\n",
            "16/16 [==============================] - 0s 5ms/step - loss: 0.5175 - accuracy: 0.7610 - val_loss: 0.4086 - val_accuracy: 0.8400\n",
            "Epoch 157/1000\n",
            "16/16 [==============================] - 0s 5ms/step - loss: 0.5078 - accuracy: 0.7629 - val_loss: 0.4135 - val_accuracy: 0.8160\n",
            "Epoch 158/1000\n",
            "16/16 [==============================] - 0s 5ms/step - loss: 0.5145 - accuracy: 0.7550 - val_loss: 0.4151 - val_accuracy: 0.8480\n",
            "Epoch 159/1000\n",
            "16/16 [==============================] - 0s 6ms/step - loss: 0.5129 - accuracy: 0.7550 - val_loss: 0.4134 - val_accuracy: 0.8240\n",
            "Epoch 160/1000\n",
            "16/16 [==============================] - 0s 5ms/step - loss: 0.5020 - accuracy: 0.7610 - val_loss: 0.4142 - val_accuracy: 0.8240\n",
            "Epoch 161/1000\n",
            "16/16 [==============================] - 0s 6ms/step - loss: 0.5055 - accuracy: 0.7610 - val_loss: 0.4040 - val_accuracy: 0.8400\n",
            "Epoch 162/1000\n",
            "16/16 [==============================] - 0s 5ms/step - loss: 0.5062 - accuracy: 0.7689 - val_loss: 0.3899 - val_accuracy: 0.8240\n",
            "Epoch 163/1000\n",
            "16/16 [==============================] - 0s 6ms/step - loss: 0.4988 - accuracy: 0.7729 - val_loss: 0.4176 - val_accuracy: 0.8320\n",
            "Epoch 164/1000\n",
            "16/16 [==============================] - 0s 5ms/step - loss: 0.5019 - accuracy: 0.7769 - val_loss: 0.4084 - val_accuracy: 0.8080\n",
            "Epoch 165/1000\n",
            "16/16 [==============================] - 0s 6ms/step - loss: 0.5146 - accuracy: 0.7450 - val_loss: 0.4105 - val_accuracy: 0.8160\n",
            "Epoch 166/1000\n",
            "16/16 [==============================] - 0s 5ms/step - loss: 0.4860 - accuracy: 0.7789 - val_loss: 0.3998 - val_accuracy: 0.8160\n",
            "Epoch 167/1000\n",
            "16/16 [==============================] - 0s 5ms/step - loss: 0.5071 - accuracy: 0.7610 - val_loss: 0.4029 - val_accuracy: 0.8480\n",
            "Epoch 168/1000\n",
            "16/16 [==============================] - 0s 6ms/step - loss: 0.4887 - accuracy: 0.7749 - val_loss: 0.3948 - val_accuracy: 0.8320\n",
            "Epoch 169/1000\n",
            "16/16 [==============================] - 0s 5ms/step - loss: 0.4758 - accuracy: 0.7769 - val_loss: 0.3827 - val_accuracy: 0.8400\n",
            "Epoch 170/1000\n",
            "16/16 [==============================] - 0s 5ms/step - loss: 0.5050 - accuracy: 0.7689 - val_loss: 0.3955 - val_accuracy: 0.8400\n",
            "Epoch 171/1000\n",
            "16/16 [==============================] - 0s 9ms/step - loss: 0.4967 - accuracy: 0.7829 - val_loss: 0.3977 - val_accuracy: 0.8560\n",
            "Epoch 172/1000\n",
            "16/16 [==============================] - 0s 5ms/step - loss: 0.4805 - accuracy: 0.7729 - val_loss: 0.3932 - val_accuracy: 0.8160\n",
            "Epoch 173/1000\n",
            "16/16 [==============================] - 0s 5ms/step - loss: 0.4943 - accuracy: 0.7689 - val_loss: 0.3980 - val_accuracy: 0.8480\n",
            "Epoch 174/1000\n",
            "16/16 [==============================] - 0s 6ms/step - loss: 0.5043 - accuracy: 0.7789 - val_loss: 0.4035 - val_accuracy: 0.8160\n",
            "Epoch 175/1000\n",
            "16/16 [==============================] - 0s 6ms/step - loss: 0.4979 - accuracy: 0.7669 - val_loss: 0.3917 - val_accuracy: 0.8400\n",
            "Epoch 176/1000\n",
            "16/16 [==============================] - 0s 5ms/step - loss: 0.4810 - accuracy: 0.7789 - val_loss: 0.3928 - val_accuracy: 0.8400\n",
            "Epoch 177/1000\n",
            "16/16 [==============================] - 0s 5ms/step - loss: 0.4956 - accuracy: 0.7610 - val_loss: 0.3822 - val_accuracy: 0.8560\n",
            "Epoch 178/1000\n",
            "16/16 [==============================] - 0s 6ms/step - loss: 0.4803 - accuracy: 0.7709 - val_loss: 0.3863 - val_accuracy: 0.8400\n",
            "Epoch 179/1000\n",
            "16/16 [==============================] - 0s 5ms/step - loss: 0.5106 - accuracy: 0.7789 - val_loss: 0.3887 - val_accuracy: 0.8240\n",
            "Epoch 180/1000\n",
            "16/16 [==============================] - 0s 5ms/step - loss: 0.4815 - accuracy: 0.7769 - val_loss: 0.3831 - val_accuracy: 0.8400\n",
            "Epoch 181/1000\n",
            "16/16 [==============================] - 0s 5ms/step - loss: 0.4783 - accuracy: 0.7709 - val_loss: 0.3928 - val_accuracy: 0.8400\n",
            "Epoch 182/1000\n",
            "16/16 [==============================] - 0s 5ms/step - loss: 0.4945 - accuracy: 0.7689 - val_loss: 0.3899 - val_accuracy: 0.8400\n",
            "Epoch 183/1000\n",
            "16/16 [==============================] - 0s 7ms/step - loss: 0.4929 - accuracy: 0.7669 - val_loss: 0.3983 - val_accuracy: 0.8560\n",
            "Epoch 184/1000\n",
            "16/16 [==============================] - 0s 6ms/step - loss: 0.4864 - accuracy: 0.7709 - val_loss: 0.4027 - val_accuracy: 0.8480\n",
            "Epoch 185/1000\n",
            "16/16 [==============================] - 0s 5ms/step - loss: 0.4724 - accuracy: 0.8008 - val_loss: 0.3807 - val_accuracy: 0.8400\n",
            "Epoch 186/1000\n",
            "16/16 [==============================] - 0s 5ms/step - loss: 0.4820 - accuracy: 0.7829 - val_loss: 0.4031 - val_accuracy: 0.8080\n",
            "Epoch 187/1000\n",
            "16/16 [==============================] - 0s 5ms/step - loss: 0.4878 - accuracy: 0.7649 - val_loss: 0.4056 - val_accuracy: 0.8400\n",
            "Epoch 188/1000\n",
            "16/16 [==============================] - 0s 6ms/step - loss: 0.4884 - accuracy: 0.7749 - val_loss: 0.3951 - val_accuracy: 0.8240\n",
            "Epoch 189/1000\n",
            "16/16 [==============================] - 0s 6ms/step - loss: 0.4767 - accuracy: 0.7669 - val_loss: 0.3927 - val_accuracy: 0.8560\n",
            "Epoch 190/1000\n",
            "16/16 [==============================] - 0s 5ms/step - loss: 0.4943 - accuracy: 0.7769 - val_loss: 0.4036 - val_accuracy: 0.8320\n",
            "Epoch 191/1000\n",
            "16/16 [==============================] - 0s 5ms/step - loss: 0.4793 - accuracy: 0.7928 - val_loss: 0.3885 - val_accuracy: 0.8400\n",
            "Epoch 192/1000\n",
            "16/16 [==============================] - 0s 5ms/step - loss: 0.4997 - accuracy: 0.7829 - val_loss: 0.3919 - val_accuracy: 0.8480\n",
            "Epoch 193/1000\n",
            "16/16 [==============================] - 0s 6ms/step - loss: 0.4766 - accuracy: 0.7709 - val_loss: 0.3895 - val_accuracy: 0.8400\n",
            "Epoch 194/1000\n",
            "16/16 [==============================] - 0s 6ms/step - loss: 0.4826 - accuracy: 0.7789 - val_loss: 0.3938 - val_accuracy: 0.8560\n",
            "Epoch 195/1000\n",
            "16/16 [==============================] - 0s 6ms/step - loss: 0.4924 - accuracy: 0.7849 - val_loss: 0.3967 - val_accuracy: 0.8080\n"
          ],
          "name": "stdout"
        },
        {
          "output_type": "display_data",
          "data": {
            "text/html": [
              "<span style=\"color:#4527A0\"><h1 style=\"font-size:18px\">Trial complete</h1></span>"
            ],
            "text/plain": [
              "<IPython.core.display.HTML object>"
            ]
          },
          "metadata": {
            "tags": []
          }
        },
        {
          "output_type": "display_data",
          "data": {
            "text/html": [
              "<span style=\"color:#4527A0\"><h1 style=\"font-size:18px\">Trial summary</h1></span>"
            ],
            "text/plain": [
              "<IPython.core.display.HTML object>"
            ]
          },
          "metadata": {
            "tags": []
          }
        },
        {
          "output_type": "display_data",
          "data": {
            "text/html": [
              "<span style=\"color:cyan\"> |-Trial ID: b71efd9090f9e6ec1b278406a25f4423</span>"
            ],
            "text/plain": [
              "<IPython.core.display.HTML object>"
            ]
          },
          "metadata": {
            "tags": []
          }
        },
        {
          "output_type": "display_data",
          "data": {
            "text/html": [
              "<span style=\"color:cyan\"> |-Score: 0.8560000061988831</span>"
            ],
            "text/plain": [
              "<IPython.core.display.HTML object>"
            ]
          },
          "metadata": {
            "tags": []
          }
        },
        {
          "output_type": "display_data",
          "data": {
            "text/html": [
              "<span style=\"color:cyan\"> |-Best step: 0</span>"
            ],
            "text/plain": [
              "<IPython.core.display.HTML object>"
            ]
          },
          "metadata": {
            "tags": []
          }
        },
        {
          "output_type": "display_data",
          "data": {
            "text/html": [
              "<span style=\"color:#7E57C2\"><h2 style=\"font-size:16px\">Hyperparameters:</h2></span>"
            ],
            "text/plain": [
              "<IPython.core.display.HTML object>"
            ]
          },
          "metadata": {
            "tags": []
          }
        },
        {
          "output_type": "display_data",
          "data": {
            "text/html": [
              "<span style=\"color:cyan\"> |-classification_head_1/dropout_rate: 0.5</span>"
            ],
            "text/plain": [
              "<IPython.core.display.HTML object>"
            ]
          },
          "metadata": {
            "tags": []
          }
        },
        {
          "output_type": "display_data",
          "data": {
            "text/html": [
              "<span style=\"color:blue\"> |-optimizer: adam</span>"
            ],
            "text/plain": [
              "<IPython.core.display.HTML object>"
            ]
          },
          "metadata": {
            "tags": []
          }
        },
        {
          "output_type": "display_data",
          "data": {
            "text/html": [
              "<span style=\"color:cyan\"> |-structured_data_block_1/dense_block_1/dropout_rate: 0</span>"
            ],
            "text/plain": [
              "<IPython.core.display.HTML object>"
            ]
          },
          "metadata": {
            "tags": []
          }
        },
        {
          "output_type": "display_data",
          "data": {
            "text/html": [
              "<span style=\"color:blue\"> |-structured_data_block_1/dense_block_1/num_layers: 2</span>"
            ],
            "text/plain": [
              "<IPython.core.display.HTML object>"
            ]
          },
          "metadata": {
            "tags": []
          }
        },
        {
          "output_type": "display_data",
          "data": {
            "text/html": [
              "<span style=\"color:cyan\"> |-structured_data_block_1/dense_block_1/units_0: 32</span>"
            ],
            "text/plain": [
              "<IPython.core.display.HTML object>"
            ]
          },
          "metadata": {
            "tags": []
          }
        },
        {
          "output_type": "display_data",
          "data": {
            "text/html": [
              "<span style=\"color:blue\"> |-structured_data_block_1/dense_block_1/units_1: 32</span>"
            ],
            "text/plain": [
              "<IPython.core.display.HTML object>"
            ]
          },
          "metadata": {
            "tags": []
          }
        },
        {
          "output_type": "display_data",
          "data": {
            "text/html": [
              "<span style=\"color:cyan\"> |-structured_data_block_1/dense_block_1/use_batchnorm: False</span>"
            ],
            "text/plain": [
              "<IPython.core.display.HTML object>"
            ]
          },
          "metadata": {
            "tags": []
          }
        },
        {
          "output_type": "stream",
          "text": [
            "Train for 16 steps, validate for 4 steps\n",
            "Epoch 1/1000\n",
            "16/16 [==============================] - 1s 35ms/step - loss: 1.8192 - accuracy: 0.5478 - val_loss: 0.5490 - val_accuracy: 0.7120\n",
            "Epoch 2/1000\n",
            "16/16 [==============================] - 0s 5ms/step - loss: 1.4439 - accuracy: 0.5876 - val_loss: 0.5318 - val_accuracy: 0.7120\n",
            "Epoch 3/1000\n",
            "16/16 [==============================] - 0s 8ms/step - loss: 1.2203 - accuracy: 0.6036 - val_loss: 0.4822 - val_accuracy: 0.7360\n",
            "Epoch 4/1000\n",
            "16/16 [==============================] - 0s 14ms/step - loss: 1.1526 - accuracy: 0.6235 - val_loss: 0.4777 - val_accuracy: 0.7440\n",
            "Epoch 5/1000\n",
            "16/16 [==============================] - 0s 17ms/step - loss: 1.2800 - accuracy: 0.6135 - val_loss: 0.4545 - val_accuracy: 0.7680\n",
            "Epoch 6/1000\n",
            "16/16 [==============================] - 0s 20ms/step - loss: 1.0197 - accuracy: 0.6235 - val_loss: 0.4350 - val_accuracy: 0.7920\n",
            "Epoch 7/1000\n",
            "16/16 [==============================] - 0s 6ms/step - loss: 0.9859 - accuracy: 0.6454 - val_loss: 0.4429 - val_accuracy: 0.7680\n",
            "Epoch 8/1000\n",
            "16/16 [==============================] - 0s 5ms/step - loss: 0.9894 - accuracy: 0.6773 - val_loss: 0.4589 - val_accuracy: 0.7760\n",
            "Epoch 9/1000\n",
            "16/16 [==============================] - 0s 5ms/step - loss: 1.1307 - accuracy: 0.6394 - val_loss: 0.4498 - val_accuracy: 0.7840\n",
            "Epoch 10/1000\n",
            "16/16 [==============================] - 0s 5ms/step - loss: 0.9200 - accuracy: 0.6673 - val_loss: 0.4431 - val_accuracy: 0.7920\n",
            "Epoch 11/1000\n",
            "16/16 [==============================] - 0s 8ms/step - loss: 0.9003 - accuracy: 0.6594 - val_loss: 0.4229 - val_accuracy: 0.8160\n",
            "Epoch 12/1000\n",
            "16/16 [==============================] - 0s 5ms/step - loss: 0.8636 - accuracy: 0.6952 - val_loss: 0.4203 - val_accuracy: 0.8160\n",
            "Epoch 13/1000\n",
            "16/16 [==============================] - 0s 9ms/step - loss: 0.8886 - accuracy: 0.6833 - val_loss: 0.4093 - val_accuracy: 0.8240\n",
            "Epoch 14/1000\n",
            "16/16 [==============================] - 0s 5ms/step - loss: 0.8541 - accuracy: 0.6912 - val_loss: 0.4981 - val_accuracy: 0.7680\n",
            "Epoch 15/1000\n",
            "16/16 [==============================] - 0s 11ms/step - loss: 0.8529 - accuracy: 0.6673 - val_loss: 0.3825 - val_accuracy: 0.8640\n",
            "Epoch 16/1000\n",
            "16/16 [==============================] - 0s 5ms/step - loss: 0.7489 - accuracy: 0.7072 - val_loss: 0.3914 - val_accuracy: 0.8640\n",
            "Epoch 17/1000\n",
            "16/16 [==============================] - 0s 5ms/step - loss: 0.7145 - accuracy: 0.7112 - val_loss: 0.3739 - val_accuracy: 0.8480\n",
            "Epoch 18/1000\n",
            "16/16 [==============================] - 0s 5ms/step - loss: 0.6969 - accuracy: 0.7311 - val_loss: 0.4028 - val_accuracy: 0.8240\n",
            "Epoch 19/1000\n",
            "16/16 [==============================] - 0s 6ms/step - loss: 0.7598 - accuracy: 0.6873 - val_loss: 0.3908 - val_accuracy: 0.8160\n",
            "Epoch 20/1000\n",
            "16/16 [==============================] - 0s 5ms/step - loss: 0.6976 - accuracy: 0.7251 - val_loss: 0.3866 - val_accuracy: 0.8480\n",
            "Epoch 21/1000\n",
            "16/16 [==============================] - 0s 6ms/step - loss: 0.6622 - accuracy: 0.7371 - val_loss: 0.4384 - val_accuracy: 0.7760\n",
            "Epoch 22/1000\n",
            "16/16 [==============================] - 0s 9ms/step - loss: 0.7311 - accuracy: 0.7171 - val_loss: 0.3653 - val_accuracy: 0.8720\n",
            "Epoch 23/1000\n",
            "16/16 [==============================] - 0s 5ms/step - loss: 0.6285 - accuracy: 0.7191 - val_loss: 0.3843 - val_accuracy: 0.8480\n",
            "Epoch 24/1000\n",
            "16/16 [==============================] - 0s 5ms/step - loss: 0.6303 - accuracy: 0.7390 - val_loss: 0.3864 - val_accuracy: 0.8160\n",
            "Epoch 25/1000\n",
            "16/16 [==============================] - 0s 5ms/step - loss: 0.6081 - accuracy: 0.7211 - val_loss: 0.3908 - val_accuracy: 0.8160\n",
            "Epoch 26/1000\n",
            "16/16 [==============================] - 0s 6ms/step - loss: 0.6610 - accuracy: 0.7530 - val_loss: 0.3875 - val_accuracy: 0.8240\n",
            "Epoch 27/1000\n",
            "16/16 [==============================] - 0s 5ms/step - loss: 0.5931 - accuracy: 0.7351 - val_loss: 0.3768 - val_accuracy: 0.8320\n",
            "Epoch 28/1000\n",
            "16/16 [==============================] - 0s 6ms/step - loss: 0.6473 - accuracy: 0.7351 - val_loss: 0.3856 - val_accuracy: 0.8560\n",
            "Epoch 29/1000\n",
            "16/16 [==============================] - 0s 5ms/step - loss: 0.5571 - accuracy: 0.7610 - val_loss: 0.3654 - val_accuracy: 0.8480\n",
            "Epoch 30/1000\n",
            "16/16 [==============================] - 0s 5ms/step - loss: 0.5639 - accuracy: 0.7769 - val_loss: 0.3826 - val_accuracy: 0.8160\n",
            "Epoch 31/1000\n",
            "16/16 [==============================] - 0s 5ms/step - loss: 0.6035 - accuracy: 0.7570 - val_loss: 0.3957 - val_accuracy: 0.8080\n",
            "Epoch 32/1000\n",
            "16/16 [==============================] - 0s 6ms/step - loss: 0.5831 - accuracy: 0.7510 - val_loss: 0.3715 - val_accuracy: 0.8080\n"
          ],
          "name": "stdout"
        },
        {
          "output_type": "display_data",
          "data": {
            "text/html": [
              "<span style=\"color:#4527A0\"><h1 style=\"font-size:18px\">Trial complete</h1></span>"
            ],
            "text/plain": [
              "<IPython.core.display.HTML object>"
            ]
          },
          "metadata": {
            "tags": []
          }
        },
        {
          "output_type": "display_data",
          "data": {
            "text/html": [
              "<span style=\"color:#4527A0\"><h1 style=\"font-size:18px\">Trial summary</h1></span>"
            ],
            "text/plain": [
              "<IPython.core.display.HTML object>"
            ]
          },
          "metadata": {
            "tags": []
          }
        },
        {
          "output_type": "display_data",
          "data": {
            "text/html": [
              "<span style=\"color:cyan\"> |-Trial ID: 42f901b7e221b73a63597ef73693c4ce</span>"
            ],
            "text/plain": [
              "<IPython.core.display.HTML object>"
            ]
          },
          "metadata": {
            "tags": []
          }
        },
        {
          "output_type": "display_data",
          "data": {
            "text/html": [
              "<span style=\"color:cyan\"> |-Score: 0.871999979019165</span>"
            ],
            "text/plain": [
              "<IPython.core.display.HTML object>"
            ]
          },
          "metadata": {
            "tags": []
          }
        },
        {
          "output_type": "display_data",
          "data": {
            "text/html": [
              "<span style=\"color:cyan\"> |-Best step: 0</span>"
            ],
            "text/plain": [
              "<IPython.core.display.HTML object>"
            ]
          },
          "metadata": {
            "tags": []
          }
        },
        {
          "output_type": "display_data",
          "data": {
            "text/html": [
              "<span style=\"color:#7E57C2\"><h2 style=\"font-size:16px\">Hyperparameters:</h2></span>"
            ],
            "text/plain": [
              "<IPython.core.display.HTML object>"
            ]
          },
          "metadata": {
            "tags": []
          }
        },
        {
          "output_type": "display_data",
          "data": {
            "text/html": [
              "<span style=\"color:cyan\"> |-classification_head_1/dropout_rate: 0</span>"
            ],
            "text/plain": [
              "<IPython.core.display.HTML object>"
            ]
          },
          "metadata": {
            "tags": []
          }
        },
        {
          "output_type": "display_data",
          "data": {
            "text/html": [
              "<span style=\"color:blue\"> |-optimizer: adam</span>"
            ],
            "text/plain": [
              "<IPython.core.display.HTML object>"
            ]
          },
          "metadata": {
            "tags": []
          }
        },
        {
          "output_type": "display_data",
          "data": {
            "text/html": [
              "<span style=\"color:cyan\"> |-structured_data_block_1/dense_block_1/dropout_rate: 0.5</span>"
            ],
            "text/plain": [
              "<IPython.core.display.HTML object>"
            ]
          },
          "metadata": {
            "tags": []
          }
        },
        {
          "output_type": "display_data",
          "data": {
            "text/html": [
              "<span style=\"color:blue\"> |-structured_data_block_1/dense_block_1/num_layers: 1</span>"
            ],
            "text/plain": [
              "<IPython.core.display.HTML object>"
            ]
          },
          "metadata": {
            "tags": []
          }
        },
        {
          "output_type": "display_data",
          "data": {
            "text/html": [
              "<span style=\"color:cyan\"> |-structured_data_block_1/dense_block_1/units_0: 512</span>"
            ],
            "text/plain": [
              "<IPython.core.display.HTML object>"
            ]
          },
          "metadata": {
            "tags": []
          }
        },
        {
          "output_type": "display_data",
          "data": {
            "text/html": [
              "<span style=\"color:blue\"> |-structured_data_block_1/dense_block_1/units_1: 32</span>"
            ],
            "text/plain": [
              "<IPython.core.display.HTML object>"
            ]
          },
          "metadata": {
            "tags": []
          }
        },
        {
          "output_type": "display_data",
          "data": {
            "text/html": [
              "<span style=\"color:cyan\"> |-structured_data_block_1/dense_block_1/use_batchnorm: False</span>"
            ],
            "text/plain": [
              "<IPython.core.display.HTML object>"
            ]
          },
          "metadata": {
            "tags": []
          }
        },
        {
          "output_type": "stream",
          "text": [
            "Train for 16 steps, validate for 4 steps\n",
            "Epoch 1/1000\n",
            "16/16 [==============================] - 1s 37ms/step - loss: 0.7412 - accuracy: 0.6713 - val_loss: 0.5578 - val_accuracy: 0.7440\n",
            "Epoch 2/1000\n",
            "16/16 [==============================] - 0s 6ms/step - loss: 0.6500 - accuracy: 0.6633 - val_loss: 0.5284 - val_accuracy: 0.7280\n",
            "Epoch 3/1000\n",
            "16/16 [==============================] - 0s 5ms/step - loss: 0.6378 - accuracy: 0.6355 - val_loss: 0.5363 - val_accuracy: 0.7360\n",
            "Epoch 4/1000\n",
            "16/16 [==============================] - 0s 6ms/step - loss: 0.6157 - accuracy: 0.6753 - val_loss: 0.5266 - val_accuracy: 0.7280\n",
            "Epoch 5/1000\n",
            "16/16 [==============================] - 0s 5ms/step - loss: 0.6149 - accuracy: 0.6733 - val_loss: 0.5322 - val_accuracy: 0.7280\n",
            "Epoch 6/1000\n",
            "16/16 [==============================] - 0s 5ms/step - loss: 0.6128 - accuracy: 0.6594 - val_loss: 0.5215 - val_accuracy: 0.7440\n",
            "Epoch 7/1000\n",
            "16/16 [==============================] - 0s 5ms/step - loss: 0.6065 - accuracy: 0.6733 - val_loss: 0.5300 - val_accuracy: 0.7440\n",
            "Epoch 8/1000\n",
            "16/16 [==============================] - 0s 9ms/step - loss: 0.5978 - accuracy: 0.6653 - val_loss: 0.5209 - val_accuracy: 0.7760\n",
            "Epoch 9/1000\n",
            "16/16 [==============================] - 0s 5ms/step - loss: 0.5908 - accuracy: 0.6793 - val_loss: 0.5139 - val_accuracy: 0.7680\n",
            "Epoch 10/1000\n",
            "16/16 [==============================] - 0s 6ms/step - loss: 0.5875 - accuracy: 0.6853 - val_loss: 0.5125 - val_accuracy: 0.7600\n",
            "Epoch 11/1000\n",
            "16/16 [==============================] - 0s 6ms/step - loss: 0.5807 - accuracy: 0.6853 - val_loss: 0.5040 - val_accuracy: 0.7600\n",
            "Epoch 12/1000\n",
            "16/16 [==============================] - 0s 5ms/step - loss: 0.5764 - accuracy: 0.6853 - val_loss: 0.5057 - val_accuracy: 0.7760\n",
            "Epoch 13/1000\n",
            "16/16 [==============================] - 0s 6ms/step - loss: 0.5711 - accuracy: 0.6992 - val_loss: 0.4913 - val_accuracy: 0.7760\n",
            "Epoch 14/1000\n",
            "16/16 [==============================] - 0s 5ms/step - loss: 0.5634 - accuracy: 0.7072 - val_loss: 0.5006 - val_accuracy: 0.7680\n",
            "Epoch 15/1000\n",
            "16/16 [==============================] - 0s 10ms/step - loss: 0.5630 - accuracy: 0.7112 - val_loss: 0.5044 - val_accuracy: 0.7920\n",
            "Epoch 16/1000\n",
            "16/16 [==============================] - 0s 5ms/step - loss: 0.5586 - accuracy: 0.7191 - val_loss: 0.4881 - val_accuracy: 0.7920\n",
            "Epoch 17/1000\n",
            "16/16 [==============================] - 0s 5ms/step - loss: 0.5546 - accuracy: 0.7231 - val_loss: 0.4802 - val_accuracy: 0.7920\n",
            "Epoch 18/1000\n",
            "16/16 [==============================] - 0s 6ms/step - loss: 0.5496 - accuracy: 0.7311 - val_loss: 0.4777 - val_accuracy: 0.7920\n",
            "Epoch 19/1000\n",
            "16/16 [==============================] - 0s 5ms/step - loss: 0.5623 - accuracy: 0.7311 - val_loss: 0.4479 - val_accuracy: 0.7840\n",
            "Epoch 20/1000\n",
            "16/16 [==============================] - 0s 9ms/step - loss: 0.5432 - accuracy: 0.7490 - val_loss: 0.4214 - val_accuracy: 0.8160\n",
            "Epoch 21/1000\n",
            "16/16 [==============================] - 0s 6ms/step - loss: 0.5241 - accuracy: 0.7590 - val_loss: 0.4687 - val_accuracy: 0.8080\n",
            "Epoch 22/1000\n",
            "16/16 [==============================] - 0s 6ms/step - loss: 0.5292 - accuracy: 0.7570 - val_loss: 0.5097 - val_accuracy: 0.7200\n",
            "Epoch 23/1000\n",
            "16/16 [==============================] - 0s 6ms/step - loss: 0.5359 - accuracy: 0.7470 - val_loss: 0.4657 - val_accuracy: 0.7920\n",
            "Epoch 24/1000\n",
            "16/16 [==============================] - 0s 10ms/step - loss: 0.5409 - accuracy: 0.7550 - val_loss: 0.4041 - val_accuracy: 0.8400\n",
            "Epoch 25/1000\n",
            "16/16 [==============================] - 0s 6ms/step - loss: 0.5016 - accuracy: 0.7729 - val_loss: 0.4004 - val_accuracy: 0.8320\n",
            "Epoch 26/1000\n",
            "16/16 [==============================] - 0s 6ms/step - loss: 0.4933 - accuracy: 0.7829 - val_loss: 0.4125 - val_accuracy: 0.7920\n",
            "Epoch 27/1000\n",
            "16/16 [==============================] - 0s 5ms/step - loss: 0.4969 - accuracy: 0.7809 - val_loss: 0.4232 - val_accuracy: 0.8080\n",
            "Epoch 28/1000\n",
            "16/16 [==============================] - 0s 6ms/step - loss: 0.5050 - accuracy: 0.7689 - val_loss: 0.4400 - val_accuracy: 0.8000\n",
            "Epoch 29/1000\n",
            "16/16 [==============================] - 0s 5ms/step - loss: 0.5255 - accuracy: 0.7590 - val_loss: 0.4104 - val_accuracy: 0.7840\n",
            "Epoch 30/1000\n",
            "16/16 [==============================] - 0s 5ms/step - loss: 0.5104 - accuracy: 0.7749 - val_loss: 0.4156 - val_accuracy: 0.8000\n",
            "Epoch 31/1000\n",
            "16/16 [==============================] - 0s 6ms/step - loss: 0.5157 - accuracy: 0.7689 - val_loss: 0.4196 - val_accuracy: 0.8080\n",
            "Epoch 32/1000\n",
            "16/16 [==============================] - 0s 5ms/step - loss: 0.4936 - accuracy: 0.7968 - val_loss: 0.3966 - val_accuracy: 0.8000\n",
            "Epoch 33/1000\n",
            "16/16 [==============================] - 0s 5ms/step - loss: 0.4875 - accuracy: 0.7769 - val_loss: 0.3893 - val_accuracy: 0.8240\n",
            "Epoch 34/1000\n",
            "16/16 [==============================] - 0s 6ms/step - loss: 0.4823 - accuracy: 0.7888 - val_loss: 0.3774 - val_accuracy: 0.8160\n",
            "Epoch 35/1000\n",
            "16/16 [==============================] - 0s 6ms/step - loss: 0.4660 - accuracy: 0.7829 - val_loss: 0.3787 - val_accuracy: 0.8080\n",
            "Epoch 36/1000\n",
            "16/16 [==============================] - 0s 5ms/step - loss: 0.4728 - accuracy: 0.7908 - val_loss: 0.3865 - val_accuracy: 0.8000\n",
            "Epoch 37/1000\n",
            "16/16 [==============================] - 0s 5ms/step - loss: 0.4624 - accuracy: 0.7928 - val_loss: 0.3633 - val_accuracy: 0.8240\n",
            "Epoch 38/1000\n",
            "16/16 [==============================] - 0s 5ms/step - loss: 0.4576 - accuracy: 0.7948 - val_loss: 0.3762 - val_accuracy: 0.8080\n",
            "Epoch 39/1000\n",
            "16/16 [==============================] - 0s 5ms/step - loss: 0.4537 - accuracy: 0.7968 - val_loss: 0.3687 - val_accuracy: 0.8160\n",
            "Epoch 40/1000\n",
            "16/16 [==============================] - 0s 6ms/step - loss: 0.4552 - accuracy: 0.8008 - val_loss: 0.3744 - val_accuracy: 0.8080\n",
            "Epoch 41/1000\n",
            "16/16 [==============================] - 0s 6ms/step - loss: 0.4517 - accuracy: 0.8028 - val_loss: 0.3732 - val_accuracy: 0.8240\n",
            "Epoch 42/1000\n",
            "16/16 [==============================] - 0s 5ms/step - loss: 0.4468 - accuracy: 0.8028 - val_loss: 0.3848 - val_accuracy: 0.8000\n",
            "Epoch 43/1000\n",
            "16/16 [==============================] - 0s 5ms/step - loss: 0.4487 - accuracy: 0.7968 - val_loss: 0.3865 - val_accuracy: 0.8080\n",
            "Epoch 44/1000\n",
            "16/16 [==============================] - 0s 6ms/step - loss: 0.4504 - accuracy: 0.7908 - val_loss: 0.3763 - val_accuracy: 0.8240\n",
            "Epoch 45/1000\n",
            "16/16 [==============================] - 0s 5ms/step - loss: 0.4483 - accuracy: 0.8068 - val_loss: 0.3804 - val_accuracy: 0.7920\n",
            "Epoch 46/1000\n",
            "16/16 [==============================] - 0s 6ms/step - loss: 0.4450 - accuracy: 0.8048 - val_loss: 0.3665 - val_accuracy: 0.8320\n",
            "Epoch 47/1000\n",
            "16/16 [==============================] - 0s 5ms/step - loss: 0.4400 - accuracy: 0.8088 - val_loss: 0.3671 - val_accuracy: 0.8160\n"
          ],
          "name": "stdout"
        },
        {
          "output_type": "display_data",
          "data": {
            "text/html": [
              "<span style=\"color:#4527A0\"><h1 style=\"font-size:18px\">Trial complete</h1></span>"
            ],
            "text/plain": [
              "<IPython.core.display.HTML object>"
            ]
          },
          "metadata": {
            "tags": []
          }
        },
        {
          "output_type": "display_data",
          "data": {
            "text/html": [
              "<span style=\"color:#4527A0\"><h1 style=\"font-size:18px\">Trial summary</h1></span>"
            ],
            "text/plain": [
              "<IPython.core.display.HTML object>"
            ]
          },
          "metadata": {
            "tags": []
          }
        },
        {
          "output_type": "display_data",
          "data": {
            "text/html": [
              "<span style=\"color:cyan\"> |-Trial ID: 8ac51e59b877450d2e2190a6fc2cd691</span>"
            ],
            "text/plain": [
              "<IPython.core.display.HTML object>"
            ]
          },
          "metadata": {
            "tags": []
          }
        },
        {
          "output_type": "display_data",
          "data": {
            "text/html": [
              "<span style=\"color:cyan\"> |-Score: 0.8399999737739563</span>"
            ],
            "text/plain": [
              "<IPython.core.display.HTML object>"
            ]
          },
          "metadata": {
            "tags": []
          }
        },
        {
          "output_type": "display_data",
          "data": {
            "text/html": [
              "<span style=\"color:cyan\"> |-Best step: 0</span>"
            ],
            "text/plain": [
              "<IPython.core.display.HTML object>"
            ]
          },
          "metadata": {
            "tags": []
          }
        },
        {
          "output_type": "display_data",
          "data": {
            "text/html": [
              "<span style=\"color:#7E57C2\"><h2 style=\"font-size:16px\">Hyperparameters:</h2></span>"
            ],
            "text/plain": [
              "<IPython.core.display.HTML object>"
            ]
          },
          "metadata": {
            "tags": []
          }
        },
        {
          "output_type": "display_data",
          "data": {
            "text/html": [
              "<span style=\"color:cyan\"> |-classification_head_1/dropout_rate: 0</span>"
            ],
            "text/plain": [
              "<IPython.core.display.HTML object>"
            ]
          },
          "metadata": {
            "tags": []
          }
        },
        {
          "output_type": "display_data",
          "data": {
            "text/html": [
              "<span style=\"color:blue\"> |-optimizer: adam</span>"
            ],
            "text/plain": [
              "<IPython.core.display.HTML object>"
            ]
          },
          "metadata": {
            "tags": []
          }
        },
        {
          "output_type": "display_data",
          "data": {
            "text/html": [
              "<span style=\"color:cyan\"> |-structured_data_block_1/dense_block_1/dropout_rate: 0.0</span>"
            ],
            "text/plain": [
              "<IPython.core.display.HTML object>"
            ]
          },
          "metadata": {
            "tags": []
          }
        },
        {
          "output_type": "display_data",
          "data": {
            "text/html": [
              "<span style=\"color:blue\"> |-structured_data_block_1/dense_block_1/num_layers: 3</span>"
            ],
            "text/plain": [
              "<IPython.core.display.HTML object>"
            ]
          },
          "metadata": {
            "tags": []
          }
        },
        {
          "output_type": "display_data",
          "data": {
            "text/html": [
              "<span style=\"color:cyan\"> |-structured_data_block_1/dense_block_1/units_0: 512</span>"
            ],
            "text/plain": [
              "<IPython.core.display.HTML object>"
            ]
          },
          "metadata": {
            "tags": []
          }
        },
        {
          "output_type": "display_data",
          "data": {
            "text/html": [
              "<span style=\"color:blue\"> |-structured_data_block_1/dense_block_1/units_1: 32</span>"
            ],
            "text/plain": [
              "<IPython.core.display.HTML object>"
            ]
          },
          "metadata": {
            "tags": []
          }
        },
        {
          "output_type": "display_data",
          "data": {
            "text/html": [
              "<span style=\"color:cyan\"> |-structured_data_block_1/dense_block_1/units_2: 32</span>"
            ],
            "text/plain": [
              "<IPython.core.display.HTML object>"
            ]
          },
          "metadata": {
            "tags": []
          }
        },
        {
          "output_type": "display_data",
          "data": {
            "text/html": [
              "<span style=\"color:blue\"> |-structured_data_block_1/dense_block_1/use_batchnorm: False</span>"
            ],
            "text/plain": [
              "<IPython.core.display.HTML object>"
            ]
          },
          "metadata": {
            "tags": []
          }
        },
        {
          "output_type": "stream",
          "text": [
            "Train for 16 steps, validate for 4 steps\n",
            "Epoch 1/1000\n",
            "16/16 [==============================] - 1s 64ms/step - loss: 0.6653 - accuracy: 0.6554 - val_loss: 0.6782 - val_accuracy: 0.6800\n",
            "Epoch 2/1000\n",
            "16/16 [==============================] - 0s 8ms/step - loss: 0.5973 - accuracy: 0.6892 - val_loss: 0.6727 - val_accuracy: 0.6320\n",
            "Epoch 3/1000\n",
            "16/16 [==============================] - 0s 11ms/step - loss: 0.5466 - accuracy: 0.7371 - val_loss: 0.6588 - val_accuracy: 0.6960\n",
            "Epoch 4/1000\n",
            "16/16 [==============================] - 0s 15ms/step - loss: 0.5121 - accuracy: 0.7490 - val_loss: 0.6434 - val_accuracy: 0.7360\n",
            "Epoch 5/1000\n",
            "16/16 [==============================] - 0s 18ms/step - loss: 0.4922 - accuracy: 0.7550 - val_loss: 0.6258 - val_accuracy: 0.7440\n",
            "Epoch 6/1000\n",
            "16/16 [==============================] - 0s 7ms/step - loss: 0.4738 - accuracy: 0.7789 - val_loss: 0.6106 - val_accuracy: 0.7200\n",
            "Epoch 7/1000\n",
            "16/16 [==============================] - 0s 7ms/step - loss: 0.4580 - accuracy: 0.7869 - val_loss: 0.5963 - val_accuracy: 0.7040\n",
            "Epoch 8/1000\n",
            "16/16 [==============================] - 0s 7ms/step - loss: 0.4444 - accuracy: 0.7968 - val_loss: 0.5845 - val_accuracy: 0.7200\n",
            "Epoch 9/1000\n",
            "16/16 [==============================] - 0s 7ms/step - loss: 0.4336 - accuracy: 0.8028 - val_loss: 0.5725 - val_accuracy: 0.7360\n",
            "Epoch 10/1000\n",
            "16/16 [==============================] - 0s 7ms/step - loss: 0.4227 - accuracy: 0.8048 - val_loss: 0.5595 - val_accuracy: 0.7360\n",
            "Epoch 11/1000\n",
            "16/16 [==============================] - 0s 11ms/step - loss: 0.4129 - accuracy: 0.8167 - val_loss: 0.5463 - val_accuracy: 0.7600\n",
            "Epoch 12/1000\n",
            "16/16 [==============================] - 0s 15ms/step - loss: 0.4012 - accuracy: 0.8108 - val_loss: 0.5334 - val_accuracy: 0.7760\n",
            "Epoch 13/1000\n",
            "16/16 [==============================] - 0s 7ms/step - loss: 0.3902 - accuracy: 0.8227 - val_loss: 0.5245 - val_accuracy: 0.7600\n",
            "Epoch 14/1000\n",
            "16/16 [==============================] - 0s 7ms/step - loss: 0.3789 - accuracy: 0.8307 - val_loss: 0.5198 - val_accuracy: 0.7520\n",
            "Epoch 15/1000\n",
            "16/16 [==============================] - 0s 7ms/step - loss: 0.3665 - accuracy: 0.8367 - val_loss: 0.5107 - val_accuracy: 0.7440\n",
            "Epoch 16/1000\n",
            "16/16 [==============================] - 0s 7ms/step - loss: 0.3594 - accuracy: 0.8426 - val_loss: 0.5042 - val_accuracy: 0.7520\n",
            "Epoch 17/1000\n",
            "16/16 [==============================] - 0s 7ms/step - loss: 0.3490 - accuracy: 0.8486 - val_loss: 0.4925 - val_accuracy: 0.7600\n",
            "Epoch 18/1000\n",
            "16/16 [==============================] - 0s 7ms/step - loss: 0.3428 - accuracy: 0.8566 - val_loss: 0.4887 - val_accuracy: 0.7440\n",
            "Epoch 19/1000\n",
            "16/16 [==============================] - 0s 7ms/step - loss: 0.3339 - accuracy: 0.8705 - val_loss: 0.4824 - val_accuracy: 0.7520\n",
            "Epoch 20/1000\n",
            "16/16 [==============================] - 0s 7ms/step - loss: 0.3235 - accuracy: 0.8725 - val_loss: 0.4704 - val_accuracy: 0.7520\n",
            "Epoch 21/1000\n",
            "16/16 [==============================] - 0s 7ms/step - loss: 0.3209 - accuracy: 0.8705 - val_loss: 0.4655 - val_accuracy: 0.7440\n",
            "Epoch 22/1000\n",
            "16/16 [==============================] - 0s 7ms/step - loss: 0.3159 - accuracy: 0.8685 - val_loss: 0.4741 - val_accuracy: 0.7360\n",
            "Epoch 23/1000\n",
            "16/16 [==============================] - 0s 7ms/step - loss: 0.3038 - accuracy: 0.8725 - val_loss: 0.4618 - val_accuracy: 0.7360\n",
            "Epoch 24/1000\n",
            "16/16 [==============================] - 0s 7ms/step - loss: 0.2957 - accuracy: 0.8805 - val_loss: 0.4552 - val_accuracy: 0.7360\n",
            "Epoch 25/1000\n",
            "16/16 [==============================] - 0s 8ms/step - loss: 0.2915 - accuracy: 0.8904 - val_loss: 0.4642 - val_accuracy: 0.7200\n",
            "Epoch 26/1000\n",
            "16/16 [==============================] - 0s 7ms/step - loss: 0.2795 - accuracy: 0.8845 - val_loss: 0.4779 - val_accuracy: 0.7120\n",
            "Epoch 27/1000\n",
            "16/16 [==============================] - 0s 7ms/step - loss: 0.2716 - accuracy: 0.8904 - val_loss: 0.4816 - val_accuracy: 0.7360\n",
            "Epoch 28/1000\n",
            "16/16 [==============================] - 0s 7ms/step - loss: 0.2666 - accuracy: 0.8884 - val_loss: 0.4849 - val_accuracy: 0.7440\n",
            "Epoch 29/1000\n",
            "16/16 [==============================] - 0s 7ms/step - loss: 0.2597 - accuracy: 0.8964 - val_loss: 0.4909 - val_accuracy: 0.7360\n",
            "Epoch 30/1000\n",
            "16/16 [==============================] - 0s 7ms/step - loss: 0.2472 - accuracy: 0.9064 - val_loss: 0.4714 - val_accuracy: 0.7440\n",
            "Epoch 31/1000\n",
            "16/16 [==============================] - 0s 7ms/step - loss: 0.2398 - accuracy: 0.9124 - val_loss: 0.4853 - val_accuracy: 0.7520\n",
            "Epoch 32/1000\n",
            "16/16 [==============================] - 0s 7ms/step - loss: 0.2353 - accuracy: 0.9104 - val_loss: 0.4965 - val_accuracy: 0.7360\n",
            "Epoch 33/1000\n",
            "16/16 [==============================] - 0s 7ms/step - loss: 0.2260 - accuracy: 0.9124 - val_loss: 0.5635 - val_accuracy: 0.7120\n",
            "Epoch 34/1000\n",
            "16/16 [==============================] - 0s 7ms/step - loss: 0.2340 - accuracy: 0.9124 - val_loss: 0.5178 - val_accuracy: 0.7200\n"
          ],
          "name": "stdout"
        },
        {
          "output_type": "display_data",
          "data": {
            "text/html": [
              "<span style=\"color:#4527A0\"><h1 style=\"font-size:18px\">Trial complete</h1></span>"
            ],
            "text/plain": [
              "<IPython.core.display.HTML object>"
            ]
          },
          "metadata": {
            "tags": []
          }
        },
        {
          "output_type": "display_data",
          "data": {
            "text/html": [
              "<span style=\"color:#4527A0\"><h1 style=\"font-size:18px\">Trial summary</h1></span>"
            ],
            "text/plain": [
              "<IPython.core.display.HTML object>"
            ]
          },
          "metadata": {
            "tags": []
          }
        },
        {
          "output_type": "display_data",
          "data": {
            "text/html": [
              "<span style=\"color:cyan\"> |-Trial ID: cfb3e6ed38ec64ebc657d6548b38e9cd</span>"
            ],
            "text/plain": [
              "<IPython.core.display.HTML object>"
            ]
          },
          "metadata": {
            "tags": []
          }
        },
        {
          "output_type": "display_data",
          "data": {
            "text/html": [
              "<span style=\"color:cyan\"> |-Score: 0.7760000228881836</span>"
            ],
            "text/plain": [
              "<IPython.core.display.HTML object>"
            ]
          },
          "metadata": {
            "tags": []
          }
        },
        {
          "output_type": "display_data",
          "data": {
            "text/html": [
              "<span style=\"color:cyan\"> |-Best step: 0</span>"
            ],
            "text/plain": [
              "<IPython.core.display.HTML object>"
            ]
          },
          "metadata": {
            "tags": []
          }
        },
        {
          "output_type": "display_data",
          "data": {
            "text/html": [
              "<span style=\"color:#7E57C2\"><h2 style=\"font-size:16px\">Hyperparameters:</h2></span>"
            ],
            "text/plain": [
              "<IPython.core.display.HTML object>"
            ]
          },
          "metadata": {
            "tags": []
          }
        },
        {
          "output_type": "display_data",
          "data": {
            "text/html": [
              "<span style=\"color:cyan\"> |-classification_head_1/dropout_rate: 0</span>"
            ],
            "text/plain": [
              "<IPython.core.display.HTML object>"
            ]
          },
          "metadata": {
            "tags": []
          }
        },
        {
          "output_type": "display_data",
          "data": {
            "text/html": [
              "<span style=\"color:blue\"> |-optimizer: adam</span>"
            ],
            "text/plain": [
              "<IPython.core.display.HTML object>"
            ]
          },
          "metadata": {
            "tags": []
          }
        },
        {
          "output_type": "display_data",
          "data": {
            "text/html": [
              "<span style=\"color:cyan\"> |-structured_data_block_1/dense_block_1/dropout_rate: 0.0</span>"
            ],
            "text/plain": [
              "<IPython.core.display.HTML object>"
            ]
          },
          "metadata": {
            "tags": []
          }
        },
        {
          "output_type": "display_data",
          "data": {
            "text/html": [
              "<span style=\"color:blue\"> |-structured_data_block_1/dense_block_1/num_layers: 3</span>"
            ],
            "text/plain": [
              "<IPython.core.display.HTML object>"
            ]
          },
          "metadata": {
            "tags": []
          }
        },
        {
          "output_type": "display_data",
          "data": {
            "text/html": [
              "<span style=\"color:cyan\"> |-structured_data_block_1/dense_block_1/units_0: 16</span>"
            ],
            "text/plain": [
              "<IPython.core.display.HTML object>"
            ]
          },
          "metadata": {
            "tags": []
          }
        },
        {
          "output_type": "display_data",
          "data": {
            "text/html": [
              "<span style=\"color:blue\"> |-structured_data_block_1/dense_block_1/units_1: 32</span>"
            ],
            "text/plain": [
              "<IPython.core.display.HTML object>"
            ]
          },
          "metadata": {
            "tags": []
          }
        },
        {
          "output_type": "display_data",
          "data": {
            "text/html": [
              "<span style=\"color:cyan\"> |-structured_data_block_1/dense_block_1/units_2: 512</span>"
            ],
            "text/plain": [
              "<IPython.core.display.HTML object>"
            ]
          },
          "metadata": {
            "tags": []
          }
        },
        {
          "output_type": "display_data",
          "data": {
            "text/html": [
              "<span style=\"color:blue\"> |-structured_data_block_1/dense_block_1/use_batchnorm: True</span>"
            ],
            "text/plain": [
              "<IPython.core.display.HTML object>"
            ]
          },
          "metadata": {
            "tags": []
          }
        },
        {
          "output_type": "stream",
          "text": [
            "Train for 16 steps, validate for 4 steps\n",
            "Epoch 1/1000\n",
            "16/16 [==============================] - 1s 69ms/step - loss: 0.7651 - accuracy: 0.4821 - val_loss: 0.6706 - val_accuracy: 0.6400\n",
            "Epoch 2/1000\n",
            "16/16 [==============================] - 0s 12ms/step - loss: 0.7098 - accuracy: 0.5598 - val_loss: 0.6404 - val_accuracy: 0.7040\n",
            "Epoch 3/1000\n",
            "16/16 [==============================] - 0s 8ms/step - loss: 0.6989 - accuracy: 0.5956 - val_loss: 0.6287 - val_accuracy: 0.6960\n",
            "Epoch 4/1000\n",
            "16/16 [==============================] - 0s 13ms/step - loss: 0.6715 - accuracy: 0.6335 - val_loss: 0.6184 - val_accuracy: 0.7120\n",
            "Epoch 5/1000\n",
            "16/16 [==============================] - 0s 12ms/step - loss: 0.6807 - accuracy: 0.6335 - val_loss: 0.5821 - val_accuracy: 0.7360\n",
            "Epoch 6/1000\n",
            "16/16 [==============================] - 0s 16ms/step - loss: 0.6650 - accuracy: 0.6375 - val_loss: 0.5638 - val_accuracy: 0.7440\n",
            "Epoch 7/1000\n",
            "16/16 [==============================] - 0s 8ms/step - loss: 0.6530 - accuracy: 0.6454 - val_loss: 0.5592 - val_accuracy: 0.7280\n",
            "Epoch 8/1000\n",
            "16/16 [==============================] - 0s 7ms/step - loss: 0.6292 - accuracy: 0.6574 - val_loss: 0.5546 - val_accuracy: 0.7200\n",
            "Epoch 9/1000\n",
            "16/16 [==============================] - 0s 8ms/step - loss: 0.6796 - accuracy: 0.6275 - val_loss: 0.5574 - val_accuracy: 0.7200\n",
            "Epoch 10/1000\n",
            "16/16 [==============================] - 0s 7ms/step - loss: 0.6370 - accuracy: 0.6534 - val_loss: 0.5524 - val_accuracy: 0.7280\n",
            "Epoch 11/1000\n",
            "16/16 [==============================] - 0s 7ms/step - loss: 0.6180 - accuracy: 0.6633 - val_loss: 0.5473 - val_accuracy: 0.7440\n",
            "Epoch 12/1000\n",
            "16/16 [==============================] - 0s 12ms/step - loss: 0.6289 - accuracy: 0.6653 - val_loss: 0.5430 - val_accuracy: 0.7520\n",
            "Epoch 13/1000\n",
            "16/16 [==============================] - 0s 8ms/step - loss: 0.6203 - accuracy: 0.6693 - val_loss: 0.5353 - val_accuracy: 0.7440\n",
            "Epoch 14/1000\n",
            "16/16 [==============================] - 0s 9ms/step - loss: 0.6368 - accuracy: 0.6952 - val_loss: 0.5343 - val_accuracy: 0.7520\n",
            "Epoch 15/1000\n",
            "16/16 [==============================] - 0s 11ms/step - loss: 0.6280 - accuracy: 0.6494 - val_loss: 0.5263 - val_accuracy: 0.7600\n",
            "Epoch 16/1000\n",
            "16/16 [==============================] - 0s 14ms/step - loss: 0.6158 - accuracy: 0.6733 - val_loss: 0.5169 - val_accuracy: 0.7920\n",
            "Epoch 17/1000\n",
            "16/16 [==============================] - 0s 8ms/step - loss: 0.6041 - accuracy: 0.6673 - val_loss: 0.5036 - val_accuracy: 0.7760\n",
            "Epoch 18/1000\n",
            "16/16 [==============================] - 0s 12ms/step - loss: 0.5948 - accuracy: 0.6892 - val_loss: 0.4919 - val_accuracy: 0.8160\n",
            "Epoch 19/1000\n",
            "16/16 [==============================] - 0s 18ms/step - loss: 0.5816 - accuracy: 0.7052 - val_loss: 0.4776 - val_accuracy: 0.8240\n",
            "Epoch 20/1000\n",
            "16/16 [==============================] - 0s 17ms/step - loss: 0.5962 - accuracy: 0.6992 - val_loss: 0.4721 - val_accuracy: 0.8400\n",
            "Epoch 21/1000\n",
            "16/16 [==============================] - 0s 17ms/step - loss: 0.5825 - accuracy: 0.6952 - val_loss: 0.4639 - val_accuracy: 0.8480\n",
            "Epoch 22/1000\n",
            "16/16 [==============================] - 0s 7ms/step - loss: 0.5843 - accuracy: 0.7072 - val_loss: 0.4631 - val_accuracy: 0.8320\n",
            "Epoch 23/1000\n",
            "16/16 [==============================] - 0s 8ms/step - loss: 0.5723 - accuracy: 0.7271 - val_loss: 0.4554 - val_accuracy: 0.8240\n",
            "Epoch 24/1000\n",
            "16/16 [==============================] - 0s 7ms/step - loss: 0.5580 - accuracy: 0.7171 - val_loss: 0.4563 - val_accuracy: 0.8000\n",
            "Epoch 25/1000\n",
            "16/16 [==============================] - 0s 7ms/step - loss: 0.5458 - accuracy: 0.7390 - val_loss: 0.4477 - val_accuracy: 0.8240\n",
            "Epoch 26/1000\n",
            "16/16 [==============================] - 0s 12ms/step - loss: 0.5222 - accuracy: 0.7490 - val_loss: 0.4434 - val_accuracy: 0.8560\n",
            "Epoch 27/1000\n",
            "16/16 [==============================] - 0s 7ms/step - loss: 0.5570 - accuracy: 0.7351 - val_loss: 0.4604 - val_accuracy: 0.8000\n",
            "Epoch 28/1000\n",
            "16/16 [==============================] - 0s 7ms/step - loss: 0.5139 - accuracy: 0.7649 - val_loss: 0.5073 - val_accuracy: 0.7760\n",
            "Epoch 29/1000\n",
            "16/16 [==============================] - 0s 7ms/step - loss: 0.5379 - accuracy: 0.7450 - val_loss: 0.4609 - val_accuracy: 0.7760\n",
            "Epoch 30/1000\n",
            "16/16 [==============================] - 0s 7ms/step - loss: 0.5400 - accuracy: 0.7311 - val_loss: 0.4254 - val_accuracy: 0.8240\n",
            "Epoch 31/1000\n",
            "16/16 [==============================] - 0s 7ms/step - loss: 0.5268 - accuracy: 0.7470 - val_loss: 0.4496 - val_accuracy: 0.7840\n",
            "Epoch 32/1000\n",
            "16/16 [==============================] - 0s 7ms/step - loss: 0.5243 - accuracy: 0.7610 - val_loss: 0.4505 - val_accuracy: 0.8080\n",
            "Epoch 33/1000\n",
            "16/16 [==============================] - 0s 7ms/step - loss: 0.5232 - accuracy: 0.7590 - val_loss: 0.4582 - val_accuracy: 0.8000\n",
            "Epoch 34/1000\n",
            "16/16 [==============================] - 0s 7ms/step - loss: 0.5454 - accuracy: 0.7570 - val_loss: 0.4480 - val_accuracy: 0.7920\n",
            "Epoch 35/1000\n",
            "16/16 [==============================] - 0s 12ms/step - loss: 0.4950 - accuracy: 0.7729 - val_loss: 0.4122 - val_accuracy: 0.8640\n",
            "Epoch 36/1000\n",
            "16/16 [==============================] - 0s 7ms/step - loss: 0.5141 - accuracy: 0.7669 - val_loss: 0.4068 - val_accuracy: 0.8400\n",
            "Epoch 37/1000\n",
            "16/16 [==============================] - 0s 8ms/step - loss: 0.5029 - accuracy: 0.7669 - val_loss: 0.4416 - val_accuracy: 0.7680\n",
            "Epoch 38/1000\n",
            "16/16 [==============================] - 0s 8ms/step - loss: 0.5211 - accuracy: 0.7430 - val_loss: 0.3988 - val_accuracy: 0.8400\n",
            "Epoch 39/1000\n",
            "16/16 [==============================] - 0s 7ms/step - loss: 0.5086 - accuracy: 0.7649 - val_loss: 0.4189 - val_accuracy: 0.8000\n",
            "Epoch 40/1000\n",
            "16/16 [==============================] - 0s 7ms/step - loss: 0.5135 - accuracy: 0.7669 - val_loss: 0.3818 - val_accuracy: 0.8480\n",
            "Epoch 41/1000\n",
            "16/16 [==============================] - 0s 7ms/step - loss: 0.5070 - accuracy: 0.7570 - val_loss: 0.4056 - val_accuracy: 0.8160\n",
            "Epoch 42/1000\n",
            "16/16 [==============================] - 0s 8ms/step - loss: 0.5046 - accuracy: 0.7629 - val_loss: 0.3878 - val_accuracy: 0.8400\n",
            "Epoch 43/1000\n",
            "16/16 [==============================] - 0s 7ms/step - loss: 0.5465 - accuracy: 0.7729 - val_loss: 0.3968 - val_accuracy: 0.8080\n",
            "Epoch 44/1000\n",
            "16/16 [==============================] - 0s 7ms/step - loss: 0.5251 - accuracy: 0.7649 - val_loss: 0.3788 - val_accuracy: 0.8640\n",
            "Epoch 45/1000\n",
            "16/16 [==============================] - 0s 7ms/step - loss: 0.4909 - accuracy: 0.7729 - val_loss: 0.3925 - val_accuracy: 0.8400\n",
            "Epoch 46/1000\n",
            "16/16 [==============================] - 0s 7ms/step - loss: 0.4882 - accuracy: 0.7809 - val_loss: 0.3713 - val_accuracy: 0.8480\n",
            "Epoch 47/1000\n",
            "16/16 [==============================] - 0s 8ms/step - loss: 0.5182 - accuracy: 0.7550 - val_loss: 0.3767 - val_accuracy: 0.8480\n",
            "Epoch 48/1000\n",
            "16/16 [==============================] - 0s 7ms/step - loss: 0.4555 - accuracy: 0.7869 - val_loss: 0.4005 - val_accuracy: 0.8480\n",
            "Epoch 49/1000\n",
            "16/16 [==============================] - 0s 8ms/step - loss: 0.5021 - accuracy: 0.7769 - val_loss: 0.3865 - val_accuracy: 0.8240\n",
            "Epoch 50/1000\n",
            "16/16 [==============================] - 0s 8ms/step - loss: 0.4887 - accuracy: 0.7869 - val_loss: 0.3758 - val_accuracy: 0.8560\n",
            "Epoch 51/1000\n",
            "16/16 [==============================] - 0s 8ms/step - loss: 0.4777 - accuracy: 0.7888 - val_loss: 0.3997 - val_accuracy: 0.8160\n",
            "Epoch 52/1000\n",
            "16/16 [==============================] - 0s 7ms/step - loss: 0.4752 - accuracy: 0.7928 - val_loss: 0.4042 - val_accuracy: 0.8160\n",
            "Epoch 53/1000\n",
            "16/16 [==============================] - 0s 8ms/step - loss: 0.4843 - accuracy: 0.7749 - val_loss: 0.4243 - val_accuracy: 0.8080\n",
            "Epoch 54/1000\n",
            "16/16 [==============================] - 0s 7ms/step - loss: 0.5117 - accuracy: 0.7669 - val_loss: 0.4122 - val_accuracy: 0.8080\n",
            "Epoch 55/1000\n",
            "16/16 [==============================] - 0s 8ms/step - loss: 0.4945 - accuracy: 0.7629 - val_loss: 0.4076 - val_accuracy: 0.8320\n",
            "Epoch 56/1000\n",
            "16/16 [==============================] - 0s 7ms/step - loss: 0.4806 - accuracy: 0.7749 - val_loss: 0.3878 - val_accuracy: 0.8320\n"
          ],
          "name": "stdout"
        },
        {
          "output_type": "display_data",
          "data": {
            "text/html": [
              "<span style=\"color:#4527A0\"><h1 style=\"font-size:18px\">Trial complete</h1></span>"
            ],
            "text/plain": [
              "<IPython.core.display.HTML object>"
            ]
          },
          "metadata": {
            "tags": []
          }
        },
        {
          "output_type": "display_data",
          "data": {
            "text/html": [
              "<span style=\"color:#4527A0\"><h1 style=\"font-size:18px\">Trial summary</h1></span>"
            ],
            "text/plain": [
              "<IPython.core.display.HTML object>"
            ]
          },
          "metadata": {
            "tags": []
          }
        },
        {
          "output_type": "display_data",
          "data": {
            "text/html": [
              "<span style=\"color:cyan\"> |-Trial ID: c512a99a9148c686237c5927411bbe23</span>"
            ],
            "text/plain": [
              "<IPython.core.display.HTML object>"
            ]
          },
          "metadata": {
            "tags": []
          }
        },
        {
          "output_type": "display_data",
          "data": {
            "text/html": [
              "<span style=\"color:cyan\"> |-Score: 0.8640000224113464</span>"
            ],
            "text/plain": [
              "<IPython.core.display.HTML object>"
            ]
          },
          "metadata": {
            "tags": []
          }
        },
        {
          "output_type": "display_data",
          "data": {
            "text/html": [
              "<span style=\"color:cyan\"> |-Best step: 0</span>"
            ],
            "text/plain": [
              "<IPython.core.display.HTML object>"
            ]
          },
          "metadata": {
            "tags": []
          }
        },
        {
          "output_type": "display_data",
          "data": {
            "text/html": [
              "<span style=\"color:#7E57C2\"><h2 style=\"font-size:16px\">Hyperparameters:</h2></span>"
            ],
            "text/plain": [
              "<IPython.core.display.HTML object>"
            ]
          },
          "metadata": {
            "tags": []
          }
        },
        {
          "output_type": "display_data",
          "data": {
            "text/html": [
              "<span style=\"color:cyan\"> |-classification_head_1/dropout_rate: 0</span>"
            ],
            "text/plain": [
              "<IPython.core.display.HTML object>"
            ]
          },
          "metadata": {
            "tags": []
          }
        },
        {
          "output_type": "display_data",
          "data": {
            "text/html": [
              "<span style=\"color:blue\"> |-optimizer: adam</span>"
            ],
            "text/plain": [
              "<IPython.core.display.HTML object>"
            ]
          },
          "metadata": {
            "tags": []
          }
        },
        {
          "output_type": "display_data",
          "data": {
            "text/html": [
              "<span style=\"color:cyan\"> |-structured_data_block_1/dense_block_1/dropout_rate: 0.25</span>"
            ],
            "text/plain": [
              "<IPython.core.display.HTML object>"
            ]
          },
          "metadata": {
            "tags": []
          }
        },
        {
          "output_type": "display_data",
          "data": {
            "text/html": [
              "<span style=\"color:blue\"> |-structured_data_block_1/dense_block_1/num_layers: 3</span>"
            ],
            "text/plain": [
              "<IPython.core.display.HTML object>"
            ]
          },
          "metadata": {
            "tags": []
          }
        },
        {
          "output_type": "display_data",
          "data": {
            "text/html": [
              "<span style=\"color:cyan\"> |-structured_data_block_1/dense_block_1/units_0: 128</span>"
            ],
            "text/plain": [
              "<IPython.core.display.HTML object>"
            ]
          },
          "metadata": {
            "tags": []
          }
        },
        {
          "output_type": "display_data",
          "data": {
            "text/html": [
              "<span style=\"color:blue\"> |-structured_data_block_1/dense_block_1/units_1: 16</span>"
            ],
            "text/plain": [
              "<IPython.core.display.HTML object>"
            ]
          },
          "metadata": {
            "tags": []
          }
        },
        {
          "output_type": "display_data",
          "data": {
            "text/html": [
              "<span style=\"color:cyan\"> |-structured_data_block_1/dense_block_1/units_2: 32</span>"
            ],
            "text/plain": [
              "<IPython.core.display.HTML object>"
            ]
          },
          "metadata": {
            "tags": []
          }
        },
        {
          "output_type": "display_data",
          "data": {
            "text/html": [
              "<span style=\"color:blue\"> |-structured_data_block_1/dense_block_1/use_batchnorm: True</span>"
            ],
            "text/plain": [
              "<IPython.core.display.HTML object>"
            ]
          },
          "metadata": {
            "tags": []
          }
        },
        {
          "output_type": "stream",
          "text": [
            "Train for 16 steps, validate for 4 steps\n",
            "Epoch 1/1000\n",
            "16/16 [==============================] - 1s 45ms/step - loss: 0.8823 - accuracy: 0.4283 - val_loss: 1.5426 - val_accuracy: 0.3360\n",
            "Epoch 2/1000\n",
            "16/16 [==============================] - 0s 7ms/step - loss: 0.8114 - accuracy: 0.4781 - val_loss: 0.9514 - val_accuracy: 0.3200\n",
            "Epoch 3/1000\n",
            "16/16 [==============================] - 0s 6ms/step - loss: 0.7842 - accuracy: 0.5239 - val_loss: 0.7386 - val_accuracy: 0.3200\n",
            "Epoch 4/1000\n",
            "16/16 [==============================] - 0s 9ms/step - loss: 0.7384 - accuracy: 0.5956 - val_loss: 0.6535 - val_accuracy: 0.6720\n",
            "Epoch 5/1000\n",
            "16/16 [==============================] - 0s 14ms/step - loss: 0.7147 - accuracy: 0.6076 - val_loss: 0.6116 - val_accuracy: 0.7440\n",
            "Epoch 6/1000\n",
            "16/16 [==============================] - 0s 6ms/step - loss: 0.7140 - accuracy: 0.6375 - val_loss: 0.5928 - val_accuracy: 0.7440\n",
            "Epoch 7/1000\n",
            "16/16 [==============================] - 0s 6ms/step - loss: 0.6828 - accuracy: 0.6653 - val_loss: 0.5882 - val_accuracy: 0.7360\n",
            "Epoch 8/1000\n",
            "16/16 [==============================] - 0s 6ms/step - loss: 0.6722 - accuracy: 0.6235 - val_loss: 0.5732 - val_accuracy: 0.7120\n",
            "Epoch 9/1000\n",
            "16/16 [==============================] - 0s 10ms/step - loss: 0.6749 - accuracy: 0.6594 - val_loss: 0.5534 - val_accuracy: 0.7600\n",
            "Epoch 10/1000\n",
            "16/16 [==============================] - 0s 6ms/step - loss: 0.6700 - accuracy: 0.6474 - val_loss: 0.5411 - val_accuracy: 0.7600\n",
            "Epoch 11/1000\n",
            "16/16 [==============================] - 0s 6ms/step - loss: 0.6916 - accuracy: 0.6454 - val_loss: 0.5310 - val_accuracy: 0.7360\n",
            "Epoch 12/1000\n",
            "16/16 [==============================] - 0s 6ms/step - loss: 0.6534 - accuracy: 0.6554 - val_loss: 0.5262 - val_accuracy: 0.7520\n",
            "Epoch 13/1000\n",
            "16/16 [==============================] - 0s 10ms/step - loss: 0.6589 - accuracy: 0.6673 - val_loss: 0.5169 - val_accuracy: 0.7680\n",
            "Epoch 14/1000\n",
            "16/16 [==============================] - 0s 14ms/step - loss: 0.6497 - accuracy: 0.6673 - val_loss: 0.5217 - val_accuracy: 0.7920\n",
            "Epoch 15/1000\n",
            "16/16 [==============================] - 0s 17ms/step - loss: 0.6528 - accuracy: 0.6633 - val_loss: 0.5224 - val_accuracy: 0.8000\n",
            "Epoch 16/1000\n",
            "16/16 [==============================] - 0s 6ms/step - loss: 0.5981 - accuracy: 0.7072 - val_loss: 0.5109 - val_accuracy: 0.7920\n",
            "Epoch 17/1000\n",
            "16/16 [==============================] - 0s 6ms/step - loss: 0.6249 - accuracy: 0.6693 - val_loss: 0.5115 - val_accuracy: 0.7920\n",
            "Epoch 18/1000\n",
            "16/16 [==============================] - 0s 7ms/step - loss: 0.6418 - accuracy: 0.6753 - val_loss: 0.5020 - val_accuracy: 0.7840\n",
            "Epoch 19/1000\n",
            "16/16 [==============================] - 0s 6ms/step - loss: 0.6274 - accuracy: 0.6733 - val_loss: 0.5019 - val_accuracy: 0.7920\n",
            "Epoch 20/1000\n",
            "16/16 [==============================] - 0s 9ms/step - loss: 0.5997 - accuracy: 0.6992 - val_loss: 0.4892 - val_accuracy: 0.8160\n",
            "Epoch 21/1000\n",
            "16/16 [==============================] - 0s 6ms/step - loss: 0.5789 - accuracy: 0.7112 - val_loss: 0.4845 - val_accuracy: 0.8160\n",
            "Epoch 22/1000\n",
            "16/16 [==============================] - 0s 10ms/step - loss: 0.5860 - accuracy: 0.7032 - val_loss: 0.4704 - val_accuracy: 0.8320\n",
            "Epoch 23/1000\n",
            "16/16 [==============================] - 0s 6ms/step - loss: 0.6016 - accuracy: 0.6892 - val_loss: 0.4668 - val_accuracy: 0.8320\n",
            "Epoch 24/1000\n",
            "16/16 [==============================] - 0s 7ms/step - loss: 0.5887 - accuracy: 0.7271 - val_loss: 0.4609 - val_accuracy: 0.8320\n",
            "Epoch 25/1000\n",
            "16/16 [==============================] - 0s 9ms/step - loss: 0.5826 - accuracy: 0.7311 - val_loss: 0.4625 - val_accuracy: 0.8640\n",
            "Epoch 26/1000\n",
            "16/16 [==============================] - 0s 6ms/step - loss: 0.5617 - accuracy: 0.7072 - val_loss: 0.4554 - val_accuracy: 0.8480\n",
            "Epoch 27/1000\n",
            "16/16 [==============================] - 0s 6ms/step - loss: 0.5509 - accuracy: 0.7271 - val_loss: 0.4505 - val_accuracy: 0.8640\n",
            "Epoch 28/1000\n",
            "16/16 [==============================] - 0s 9ms/step - loss: 0.5400 - accuracy: 0.7331 - val_loss: 0.4476 - val_accuracy: 0.8720\n",
            "Epoch 29/1000\n",
            "16/16 [==============================] - 0s 6ms/step - loss: 0.5580 - accuracy: 0.7251 - val_loss: 0.4445 - val_accuracy: 0.8720\n",
            "Epoch 30/1000\n",
            "16/16 [==============================] - 0s 6ms/step - loss: 0.5563 - accuracy: 0.7371 - val_loss: 0.4576 - val_accuracy: 0.8160\n",
            "Epoch 31/1000\n",
            "16/16 [==============================] - 0s 6ms/step - loss: 0.5580 - accuracy: 0.7351 - val_loss: 0.4475 - val_accuracy: 0.8400\n",
            "Epoch 32/1000\n",
            "16/16 [==============================] - 0s 6ms/step - loss: 0.5409 - accuracy: 0.7590 - val_loss: 0.4454 - val_accuracy: 0.8560\n",
            "Epoch 33/1000\n",
            "16/16 [==============================] - 0s 6ms/step - loss: 0.5606 - accuracy: 0.7271 - val_loss: 0.4400 - val_accuracy: 0.8400\n",
            "Epoch 34/1000\n",
            "16/16 [==============================] - 0s 6ms/step - loss: 0.5631 - accuracy: 0.7291 - val_loss: 0.4386 - val_accuracy: 0.8560\n",
            "Epoch 35/1000\n",
            "16/16 [==============================] - 0s 6ms/step - loss: 0.5569 - accuracy: 0.7351 - val_loss: 0.4417 - val_accuracy: 0.8640\n",
            "Epoch 36/1000\n",
            "16/16 [==============================] - 0s 6ms/step - loss: 0.5159 - accuracy: 0.7510 - val_loss: 0.4184 - val_accuracy: 0.8560\n",
            "Epoch 37/1000\n",
            "16/16 [==============================] - 0s 6ms/step - loss: 0.5781 - accuracy: 0.7430 - val_loss: 0.4206 - val_accuracy: 0.8400\n",
            "Epoch 38/1000\n",
            "16/16 [==============================] - 0s 6ms/step - loss: 0.5165 - accuracy: 0.7390 - val_loss: 0.4178 - val_accuracy: 0.8640\n",
            "Epoch 39/1000\n",
            "16/16 [==============================] - 0s 5ms/step - loss: 0.4964 - accuracy: 0.7709 - val_loss: 0.4253 - val_accuracy: 0.8160\n",
            "Epoch 40/1000\n",
            "16/16 [==============================] - 0s 6ms/step - loss: 0.5011 - accuracy: 0.7769 - val_loss: 0.4042 - val_accuracy: 0.8560\n",
            "Epoch 41/1000\n",
            "16/16 [==============================] - 0s 6ms/step - loss: 0.5451 - accuracy: 0.7430 - val_loss: 0.4169 - val_accuracy: 0.8560\n",
            "Epoch 42/1000\n",
            "16/16 [==============================] - 0s 6ms/step - loss: 0.5288 - accuracy: 0.7430 - val_loss: 0.4186 - val_accuracy: 0.8560\n",
            "Epoch 43/1000\n",
            "16/16 [==============================] - 0s 7ms/step - loss: 0.5423 - accuracy: 0.7510 - val_loss: 0.4345 - val_accuracy: 0.8480\n",
            "Epoch 44/1000\n",
            "16/16 [==============================] - 0s 6ms/step - loss: 0.5196 - accuracy: 0.7610 - val_loss: 0.4252 - val_accuracy: 0.8480\n",
            "Epoch 45/1000\n",
            "16/16 [==============================] - 0s 7ms/step - loss: 0.5292 - accuracy: 0.7629 - val_loss: 0.4226 - val_accuracy: 0.8560\n",
            "Epoch 46/1000\n",
            "16/16 [==============================] - 0s 6ms/step - loss: 0.5340 - accuracy: 0.7610 - val_loss: 0.4215 - val_accuracy: 0.8480\n",
            "Epoch 47/1000\n",
            "16/16 [==============================] - 0s 6ms/step - loss: 0.5049 - accuracy: 0.7829 - val_loss: 0.4098 - val_accuracy: 0.8560\n",
            "Epoch 48/1000\n",
            "16/16 [==============================] - 0s 6ms/step - loss: 0.5167 - accuracy: 0.7649 - val_loss: 0.4105 - val_accuracy: 0.8720\n",
            "Epoch 49/1000\n",
            "16/16 [==============================] - 0s 6ms/step - loss: 0.5030 - accuracy: 0.7570 - val_loss: 0.4055 - val_accuracy: 0.8560\n",
            "Epoch 50/1000\n",
            "16/16 [==============================] - 0s 6ms/step - loss: 0.5002 - accuracy: 0.7570 - val_loss: 0.4084 - val_accuracy: 0.8720\n"
          ],
          "name": "stdout"
        },
        {
          "output_type": "display_data",
          "data": {
            "text/html": [
              "<span style=\"color:#4527A0\"><h1 style=\"font-size:18px\">Trial complete</h1></span>"
            ],
            "text/plain": [
              "<IPython.core.display.HTML object>"
            ]
          },
          "metadata": {
            "tags": []
          }
        },
        {
          "output_type": "display_data",
          "data": {
            "text/html": [
              "<span style=\"color:#4527A0\"><h1 style=\"font-size:18px\">Trial summary</h1></span>"
            ],
            "text/plain": [
              "<IPython.core.display.HTML object>"
            ]
          },
          "metadata": {
            "tags": []
          }
        },
        {
          "output_type": "display_data",
          "data": {
            "text/html": [
              "<span style=\"color:cyan\"> |-Trial ID: 9fec422e6315df91bb8cb01ff633452c</span>"
            ],
            "text/plain": [
              "<IPython.core.display.HTML object>"
            ]
          },
          "metadata": {
            "tags": []
          }
        },
        {
          "output_type": "display_data",
          "data": {
            "text/html": [
              "<span style=\"color:cyan\"> |-Score: 0.871999979019165</span>"
            ],
            "text/plain": [
              "<IPython.core.display.HTML object>"
            ]
          },
          "metadata": {
            "tags": []
          }
        },
        {
          "output_type": "display_data",
          "data": {
            "text/html": [
              "<span style=\"color:cyan\"> |-Best step: 0</span>"
            ],
            "text/plain": [
              "<IPython.core.display.HTML object>"
            ]
          },
          "metadata": {
            "tags": []
          }
        },
        {
          "output_type": "display_data",
          "data": {
            "text/html": [
              "<span style=\"color:#7E57C2\"><h2 style=\"font-size:16px\">Hyperparameters:</h2></span>"
            ],
            "text/plain": [
              "<IPython.core.display.HTML object>"
            ]
          },
          "metadata": {
            "tags": []
          }
        },
        {
          "output_type": "display_data",
          "data": {
            "text/html": [
              "<span style=\"color:cyan\"> |-classification_head_1/dropout_rate: 0</span>"
            ],
            "text/plain": [
              "<IPython.core.display.HTML object>"
            ]
          },
          "metadata": {
            "tags": []
          }
        },
        {
          "output_type": "display_data",
          "data": {
            "text/html": [
              "<span style=\"color:blue\"> |-optimizer: adam</span>"
            ],
            "text/plain": [
              "<IPython.core.display.HTML object>"
            ]
          },
          "metadata": {
            "tags": []
          }
        },
        {
          "output_type": "display_data",
          "data": {
            "text/html": [
              "<span style=\"color:cyan\"> |-structured_data_block_1/dense_block_1/dropout_rate: 0.5</span>"
            ],
            "text/plain": [
              "<IPython.core.display.HTML object>"
            ]
          },
          "metadata": {
            "tags": []
          }
        },
        {
          "output_type": "display_data",
          "data": {
            "text/html": [
              "<span style=\"color:blue\"> |-structured_data_block_1/dense_block_1/num_layers: 1</span>"
            ],
            "text/plain": [
              "<IPython.core.display.HTML object>"
            ]
          },
          "metadata": {
            "tags": []
          }
        },
        {
          "output_type": "display_data",
          "data": {
            "text/html": [
              "<span style=\"color:cyan\"> |-structured_data_block_1/dense_block_1/units_0: 64</span>"
            ],
            "text/plain": [
              "<IPython.core.display.HTML object>"
            ]
          },
          "metadata": {
            "tags": []
          }
        },
        {
          "output_type": "display_data",
          "data": {
            "text/html": [
              "<span style=\"color:blue\"> |-structured_data_block_1/dense_block_1/units_1: 16</span>"
            ],
            "text/plain": [
              "<IPython.core.display.HTML object>"
            ]
          },
          "metadata": {
            "tags": []
          }
        },
        {
          "output_type": "display_data",
          "data": {
            "text/html": [
              "<span style=\"color:cyan\"> |-structured_data_block_1/dense_block_1/units_2: 512</span>"
            ],
            "text/plain": [
              "<IPython.core.display.HTML object>"
            ]
          },
          "metadata": {
            "tags": []
          }
        },
        {
          "output_type": "display_data",
          "data": {
            "text/html": [
              "<span style=\"color:blue\"> |-structured_data_block_1/dense_block_1/use_batchnorm: True</span>"
            ],
            "text/plain": [
              "<IPython.core.display.HTML object>"
            ]
          },
          "metadata": {
            "tags": []
          }
        },
        {
          "output_type": "stream",
          "text": [
            "Train for 16 steps, validate for 4 steps\n",
            "Epoch 1/1000\n",
            "16/16 [==============================] - 1s 33ms/step - loss: 3.2503 - accuracy: 0.3924 - val_loss: 1.8292 - val_accuracy: 0.2880\n",
            "Epoch 2/1000\n",
            "16/16 [==============================] - 0s 8ms/step - loss: 1.2545 - accuracy: 0.4980 - val_loss: 0.8556 - val_accuracy: 0.6160\n",
            "Epoch 3/1000\n",
            "16/16 [==============================] - 0s 14ms/step - loss: 0.7067 - accuracy: 0.6534 - val_loss: 0.6340 - val_accuracy: 0.7280\n",
            "Epoch 4/1000\n",
            "16/16 [==============================] - 0s 5ms/step - loss: 0.7131 - accuracy: 0.6554 - val_loss: 0.5863 - val_accuracy: 0.7040\n",
            "Epoch 5/1000\n",
            "16/16 [==============================] - 0s 5ms/step - loss: 0.6553 - accuracy: 0.6614 - val_loss: 0.5890 - val_accuracy: 0.7280\n",
            "Epoch 6/1000\n",
            "16/16 [==============================] - 0s 8ms/step - loss: 0.6447 - accuracy: 0.6574 - val_loss: 0.5708 - val_accuracy: 0.7440\n",
            "Epoch 7/1000\n",
            "16/16 [==============================] - 0s 19ms/step - loss: 0.6299 - accuracy: 0.6653 - val_loss: 0.5522 - val_accuracy: 0.7520\n",
            "Epoch 8/1000\n",
            "16/16 [==============================] - 0s 17ms/step - loss: 0.6147 - accuracy: 0.6733 - val_loss: 0.5412 - val_accuracy: 0.7600\n",
            "Epoch 9/1000\n",
            "16/16 [==============================] - 0s 6ms/step - loss: 0.6034 - accuracy: 0.6853 - val_loss: 0.5299 - val_accuracy: 0.7600\n",
            "Epoch 10/1000\n",
            "16/16 [==============================] - 0s 5ms/step - loss: 0.5932 - accuracy: 0.6873 - val_loss: 0.5184 - val_accuracy: 0.7600\n",
            "Epoch 11/1000\n",
            "16/16 [==============================] - 0s 9ms/step - loss: 0.5837 - accuracy: 0.7032 - val_loss: 0.5084 - val_accuracy: 0.7680\n",
            "Epoch 12/1000\n",
            "16/16 [==============================] - 0s 10ms/step - loss: 0.5751 - accuracy: 0.7072 - val_loss: 0.4992 - val_accuracy: 0.7760\n",
            "Epoch 13/1000\n",
            "16/16 [==============================] - 0s 17ms/step - loss: 0.5671 - accuracy: 0.7112 - val_loss: 0.4904 - val_accuracy: 0.7840\n",
            "Epoch 14/1000\n",
            "16/16 [==============================] - 0s 20ms/step - loss: 0.5599 - accuracy: 0.7092 - val_loss: 0.4823 - val_accuracy: 0.7920\n",
            "Epoch 15/1000\n",
            "16/16 [==============================] - 0s 7ms/step - loss: 0.5531 - accuracy: 0.7072 - val_loss: 0.4746 - val_accuracy: 0.7920\n",
            "Epoch 16/1000\n",
            "16/16 [==============================] - 0s 6ms/step - loss: 0.5469 - accuracy: 0.7131 - val_loss: 0.4675 - val_accuracy: 0.7920\n",
            "Epoch 17/1000\n",
            "16/16 [==============================] - 0s 5ms/step - loss: 0.5413 - accuracy: 0.7171 - val_loss: 0.4609 - val_accuracy: 0.7920\n",
            "Epoch 18/1000\n",
            "16/16 [==============================] - 0s 5ms/step - loss: 0.5361 - accuracy: 0.7271 - val_loss: 0.4547 - val_accuracy: 0.7920\n",
            "Epoch 19/1000\n",
            "16/16 [==============================] - 0s 8ms/step - loss: 0.5312 - accuracy: 0.7311 - val_loss: 0.4486 - val_accuracy: 0.8080\n",
            "Epoch 20/1000\n",
            "16/16 [==============================] - 0s 14ms/step - loss: 0.5267 - accuracy: 0.7371 - val_loss: 0.4436 - val_accuracy: 0.8160\n",
            "Epoch 21/1000\n",
            "16/16 [==============================] - 0s 9ms/step - loss: 0.5226 - accuracy: 0.7430 - val_loss: 0.4388 - val_accuracy: 0.8320\n",
            "Epoch 22/1000\n",
            "16/16 [==============================] - 0s 7ms/step - loss: 0.5185 - accuracy: 0.7450 - val_loss: 0.4343 - val_accuracy: 0.8320\n",
            "Epoch 23/1000\n",
            "16/16 [==============================] - 0s 6ms/step - loss: 0.5148 - accuracy: 0.7450 - val_loss: 0.4303 - val_accuracy: 0.8320\n",
            "Epoch 24/1000\n",
            "16/16 [==============================] - 0s 6ms/step - loss: 0.5114 - accuracy: 0.7490 - val_loss: 0.4270 - val_accuracy: 0.8320\n",
            "Epoch 25/1000\n",
            "16/16 [==============================] - 0s 6ms/step - loss: 0.5085 - accuracy: 0.7510 - val_loss: 0.4232 - val_accuracy: 0.8240\n",
            "Epoch 26/1000\n",
            "16/16 [==============================] - 0s 5ms/step - loss: 0.5055 - accuracy: 0.7590 - val_loss: 0.4197 - val_accuracy: 0.8240\n",
            "Epoch 27/1000\n",
            "16/16 [==============================] - 0s 5ms/step - loss: 0.5026 - accuracy: 0.7610 - val_loss: 0.4169 - val_accuracy: 0.8160\n",
            "Epoch 28/1000\n",
            "16/16 [==============================] - 0s 5ms/step - loss: 0.5001 - accuracy: 0.7629 - val_loss: 0.4135 - val_accuracy: 0.8240\n",
            "Epoch 29/1000\n",
            "16/16 [==============================] - 0s 5ms/step - loss: 0.4976 - accuracy: 0.7649 - val_loss: 0.4108 - val_accuracy: 0.8320\n",
            "Epoch 30/1000\n",
            "16/16 [==============================] - 0s 5ms/step - loss: 0.4952 - accuracy: 0.7689 - val_loss: 0.4080 - val_accuracy: 0.8320\n",
            "Epoch 31/1000\n",
            "16/16 [==============================] - 0s 5ms/step - loss: 0.4928 - accuracy: 0.7789 - val_loss: 0.4060 - val_accuracy: 0.8320\n",
            "Epoch 32/1000\n",
            "16/16 [==============================] - 0s 5ms/step - loss: 0.4906 - accuracy: 0.7829 - val_loss: 0.4034 - val_accuracy: 0.8320\n",
            "Epoch 33/1000\n",
            "16/16 [==============================] - 0s 6ms/step - loss: 0.4889 - accuracy: 0.7829 - val_loss: 0.4016 - val_accuracy: 0.8320\n",
            "Epoch 34/1000\n",
            "16/16 [==============================] - 0s 5ms/step - loss: 0.4872 - accuracy: 0.7849 - val_loss: 0.3990 - val_accuracy: 0.8320\n",
            "Epoch 35/1000\n",
            "16/16 [==============================] - 0s 8ms/step - loss: 0.4852 - accuracy: 0.7869 - val_loss: 0.3970 - val_accuracy: 0.8400\n",
            "Epoch 36/1000\n",
            "16/16 [==============================] - 0s 5ms/step - loss: 0.4836 - accuracy: 0.7869 - val_loss: 0.3953 - val_accuracy: 0.8400\n",
            "Epoch 37/1000\n",
            "16/16 [==============================] - 0s 5ms/step - loss: 0.4819 - accuracy: 0.7888 - val_loss: 0.3941 - val_accuracy: 0.8400\n",
            "Epoch 38/1000\n",
            "16/16 [==============================] - 0s 6ms/step - loss: 0.4805 - accuracy: 0.7888 - val_loss: 0.3925 - val_accuracy: 0.8400\n",
            "Epoch 39/1000\n",
            "16/16 [==============================] - 0s 5ms/step - loss: 0.4793 - accuracy: 0.7908 - val_loss: 0.3910 - val_accuracy: 0.8400\n",
            "Epoch 40/1000\n",
            "16/16 [==============================] - 0s 5ms/step - loss: 0.4782 - accuracy: 0.7908 - val_loss: 0.3892 - val_accuracy: 0.8400\n",
            "Epoch 41/1000\n",
            "16/16 [==============================] - 0s 8ms/step - loss: 0.4770 - accuracy: 0.7928 - val_loss: 0.3878 - val_accuracy: 0.8480\n",
            "Epoch 42/1000\n",
            "16/16 [==============================] - 0s 6ms/step - loss: 0.4759 - accuracy: 0.7888 - val_loss: 0.3866 - val_accuracy: 0.8480\n",
            "Epoch 43/1000\n",
            "16/16 [==============================] - 0s 6ms/step - loss: 0.4748 - accuracy: 0.7888 - val_loss: 0.3852 - val_accuracy: 0.8480\n",
            "Epoch 44/1000\n",
            "16/16 [==============================] - 0s 5ms/step - loss: 0.4740 - accuracy: 0.7888 - val_loss: 0.3841 - val_accuracy: 0.8400\n",
            "Epoch 45/1000\n",
            "16/16 [==============================] - 0s 5ms/step - loss: 0.4731 - accuracy: 0.7888 - val_loss: 0.3830 - val_accuracy: 0.8480\n",
            "Epoch 46/1000\n",
            "16/16 [==============================] - 0s 5ms/step - loss: 0.4723 - accuracy: 0.7888 - val_loss: 0.3816 - val_accuracy: 0.8480\n",
            "Epoch 47/1000\n",
            "16/16 [==============================] - 0s 8ms/step - loss: 0.4713 - accuracy: 0.7888 - val_loss: 0.3811 - val_accuracy: 0.8560\n",
            "Epoch 48/1000\n",
            "16/16 [==============================] - 0s 5ms/step - loss: 0.4704 - accuracy: 0.7888 - val_loss: 0.3800 - val_accuracy: 0.8560\n",
            "Epoch 49/1000\n",
            "16/16 [==============================] - 0s 5ms/step - loss: 0.4697 - accuracy: 0.7888 - val_loss: 0.3793 - val_accuracy: 0.8560\n",
            "Epoch 50/1000\n",
            "16/16 [==============================] - 0s 5ms/step - loss: 0.4690 - accuracy: 0.7888 - val_loss: 0.3784 - val_accuracy: 0.8480\n",
            "Epoch 51/1000\n",
            "16/16 [==============================] - 0s 5ms/step - loss: 0.4683 - accuracy: 0.7869 - val_loss: 0.3780 - val_accuracy: 0.8400\n",
            "Epoch 52/1000\n",
            "16/16 [==============================] - 0s 5ms/step - loss: 0.4678 - accuracy: 0.7869 - val_loss: 0.3768 - val_accuracy: 0.8480\n",
            "Epoch 53/1000\n",
            "16/16 [==============================] - 0s 5ms/step - loss: 0.4671 - accuracy: 0.7888 - val_loss: 0.3762 - val_accuracy: 0.8480\n",
            "Epoch 54/1000\n",
            "16/16 [==============================] - 0s 6ms/step - loss: 0.4665 - accuracy: 0.7869 - val_loss: 0.3753 - val_accuracy: 0.8480\n",
            "Epoch 55/1000\n",
            "16/16 [==============================] - 0s 5ms/step - loss: 0.4658 - accuracy: 0.7888 - val_loss: 0.3751 - val_accuracy: 0.8400\n",
            "Epoch 56/1000\n",
            "16/16 [==============================] - 0s 5ms/step - loss: 0.4652 - accuracy: 0.7888 - val_loss: 0.3744 - val_accuracy: 0.8400\n",
            "Epoch 57/1000\n",
            "16/16 [==============================] - 0s 5ms/step - loss: 0.4645 - accuracy: 0.7888 - val_loss: 0.3740 - val_accuracy: 0.8400\n",
            "Epoch 58/1000\n",
            "16/16 [==============================] - 0s 6ms/step - loss: 0.4643 - accuracy: 0.7888 - val_loss: 0.3734 - val_accuracy: 0.8400\n",
            "Epoch 59/1000\n",
            "16/16 [==============================] - 0s 5ms/step - loss: 0.4637 - accuracy: 0.7888 - val_loss: 0.3728 - val_accuracy: 0.8400\n",
            "Epoch 60/1000\n",
            "16/16 [==============================] - 0s 5ms/step - loss: 0.4628 - accuracy: 0.7888 - val_loss: 0.3723 - val_accuracy: 0.8400\n",
            "Epoch 61/1000\n",
            "16/16 [==============================] - 0s 5ms/step - loss: 0.4624 - accuracy: 0.7888 - val_loss: 0.3724 - val_accuracy: 0.8400\n",
            "Epoch 62/1000\n",
            "16/16 [==============================] - 0s 5ms/step - loss: 0.4622 - accuracy: 0.7888 - val_loss: 0.3723 - val_accuracy: 0.8400\n",
            "Epoch 63/1000\n",
            "16/16 [==============================] - 0s 5ms/step - loss: 0.4618 - accuracy: 0.7908 - val_loss: 0.3716 - val_accuracy: 0.8320\n",
            "Epoch 64/1000\n",
            "16/16 [==============================] - 0s 5ms/step - loss: 0.4610 - accuracy: 0.7928 - val_loss: 0.3717 - val_accuracy: 0.8320\n",
            "Epoch 65/1000\n",
            "16/16 [==============================] - 0s 5ms/step - loss: 0.4609 - accuracy: 0.7928 - val_loss: 0.3716 - val_accuracy: 0.8320\n",
            "Epoch 66/1000\n",
            "16/16 [==============================] - 0s 6ms/step - loss: 0.4604 - accuracy: 0.7908 - val_loss: 0.3713 - val_accuracy: 0.8320\n",
            "Epoch 67/1000\n",
            "16/16 [==============================] - 0s 5ms/step - loss: 0.4601 - accuracy: 0.7908 - val_loss: 0.3710 - val_accuracy: 0.8320\n",
            "Epoch 68/1000\n",
            "16/16 [==============================] - 0s 5ms/step - loss: 0.4599 - accuracy: 0.7908 - val_loss: 0.3710 - val_accuracy: 0.8320\n",
            "Epoch 69/1000\n",
            "16/16 [==============================] - 0s 5ms/step - loss: 0.4596 - accuracy: 0.7908 - val_loss: 0.3700 - val_accuracy: 0.8240\n",
            "Epoch 70/1000\n",
            "16/16 [==============================] - 0s 5ms/step - loss: 0.4590 - accuracy: 0.7908 - val_loss: 0.3703 - val_accuracy: 0.8240\n",
            "Epoch 71/1000\n",
            "16/16 [==============================] - 0s 6ms/step - loss: 0.4587 - accuracy: 0.7908 - val_loss: 0.3700 - val_accuracy: 0.8240\n",
            "Epoch 72/1000\n",
            "16/16 [==============================] - 0s 5ms/step - loss: 0.4586 - accuracy: 0.7908 - val_loss: 0.3701 - val_accuracy: 0.8240\n",
            "Epoch 73/1000\n",
            "16/16 [==============================] - 0s 5ms/step - loss: 0.4582 - accuracy: 0.7928 - val_loss: 0.3697 - val_accuracy: 0.8240\n",
            "Epoch 74/1000\n",
            "16/16 [==============================] - 0s 5ms/step - loss: 0.4579 - accuracy: 0.7928 - val_loss: 0.3697 - val_accuracy: 0.8240\n",
            "Epoch 75/1000\n",
            "16/16 [==============================] - 0s 5ms/step - loss: 0.4578 - accuracy: 0.7928 - val_loss: 0.3699 - val_accuracy: 0.8240\n",
            "Epoch 76/1000\n",
            "16/16 [==============================] - 0s 5ms/step - loss: 0.4577 - accuracy: 0.7948 - val_loss: 0.3697 - val_accuracy: 0.8240\n",
            "Epoch 77/1000\n",
            "16/16 [==============================] - 0s 6ms/step - loss: 0.4570 - accuracy: 0.7948 - val_loss: 0.3696 - val_accuracy: 0.8240\n",
            "Epoch 78/1000\n",
            "16/16 [==============================] - 0s 5ms/step - loss: 0.4567 - accuracy: 0.7948 - val_loss: 0.3695 - val_accuracy: 0.8240\n",
            "Epoch 79/1000\n",
            "16/16 [==============================] - 0s 5ms/step - loss: 0.4563 - accuracy: 0.7948 - val_loss: 0.3697 - val_accuracy: 0.8240\n",
            "Epoch 80/1000\n",
            "16/16 [==============================] - 0s 5ms/step - loss: 0.4563 - accuracy: 0.7948 - val_loss: 0.3697 - val_accuracy: 0.8240\n",
            "Epoch 81/1000\n",
            "16/16 [==============================] - 0s 5ms/step - loss: 0.4559 - accuracy: 0.7948 - val_loss: 0.3698 - val_accuracy: 0.8240\n",
            "Epoch 82/1000\n",
            "16/16 [==============================] - 0s 5ms/step - loss: 0.4556 - accuracy: 0.7948 - val_loss: 0.3694 - val_accuracy: 0.8240\n",
            "Epoch 83/1000\n",
            "16/16 [==============================] - 0s 5ms/step - loss: 0.4554 - accuracy: 0.7948 - val_loss: 0.3697 - val_accuracy: 0.8240\n",
            "Epoch 84/1000\n",
            "16/16 [==============================] - 0s 5ms/step - loss: 0.4552 - accuracy: 0.7948 - val_loss: 0.3695 - val_accuracy: 0.8240\n",
            "Epoch 85/1000\n",
            "16/16 [==============================] - 0s 5ms/step - loss: 0.4547 - accuracy: 0.7948 - val_loss: 0.3696 - val_accuracy: 0.8240\n",
            "Epoch 86/1000\n",
            "16/16 [==============================] - 0s 5ms/step - loss: 0.4544 - accuracy: 0.7948 - val_loss: 0.3696 - val_accuracy: 0.8240\n",
            "Epoch 87/1000\n",
            "16/16 [==============================] - 0s 5ms/step - loss: 0.4542 - accuracy: 0.7948 - val_loss: 0.3698 - val_accuracy: 0.8240\n",
            "Epoch 88/1000\n",
            "16/16 [==============================] - 0s 5ms/step - loss: 0.4540 - accuracy: 0.7948 - val_loss: 0.3697 - val_accuracy: 0.8240\n",
            "Epoch 89/1000\n",
            "16/16 [==============================] - 0s 5ms/step - loss: 0.4536 - accuracy: 0.7948 - val_loss: 0.3698 - val_accuracy: 0.8240\n",
            "Epoch 90/1000\n",
            "16/16 [==============================] - 0s 5ms/step - loss: 0.4538 - accuracy: 0.7948 - val_loss: 0.3701 - val_accuracy: 0.8240\n",
            "Epoch 91/1000\n",
            "16/16 [==============================] - 0s 5ms/step - loss: 0.4533 - accuracy: 0.7948 - val_loss: 0.3695 - val_accuracy: 0.8240\n",
            "Epoch 92/1000\n",
            "16/16 [==============================] - 0s 5ms/step - loss: 0.4531 - accuracy: 0.7948 - val_loss: 0.3702 - val_accuracy: 0.8240\n"
          ],
          "name": "stdout"
        },
        {
          "output_type": "display_data",
          "data": {
            "text/html": [
              "<span style=\"color:#4527A0\"><h1 style=\"font-size:18px\">Trial complete</h1></span>"
            ],
            "text/plain": [
              "<IPython.core.display.HTML object>"
            ]
          },
          "metadata": {
            "tags": []
          }
        },
        {
          "output_type": "display_data",
          "data": {
            "text/html": [
              "<span style=\"color:#4527A0\"><h1 style=\"font-size:18px\">Trial summary</h1></span>"
            ],
            "text/plain": [
              "<IPython.core.display.HTML object>"
            ]
          },
          "metadata": {
            "tags": []
          }
        },
        {
          "output_type": "display_data",
          "data": {
            "text/html": [
              "<span style=\"color:cyan\"> |-Trial ID: ab399427edd8f579390344953756c2d5</span>"
            ],
            "text/plain": [
              "<IPython.core.display.HTML object>"
            ]
          },
          "metadata": {
            "tags": []
          }
        },
        {
          "output_type": "display_data",
          "data": {
            "text/html": [
              "<span style=\"color:cyan\"> |-Score: 0.8560000061988831</span>"
            ],
            "text/plain": [
              "<IPython.core.display.HTML object>"
            ]
          },
          "metadata": {
            "tags": []
          }
        },
        {
          "output_type": "display_data",
          "data": {
            "text/html": [
              "<span style=\"color:cyan\"> |-Best step: 0</span>"
            ],
            "text/plain": [
              "<IPython.core.display.HTML object>"
            ]
          },
          "metadata": {
            "tags": []
          }
        },
        {
          "output_type": "display_data",
          "data": {
            "text/html": [
              "<span style=\"color:#7E57C2\"><h2 style=\"font-size:16px\">Hyperparameters:</h2></span>"
            ],
            "text/plain": [
              "<IPython.core.display.HTML object>"
            ]
          },
          "metadata": {
            "tags": []
          }
        },
        {
          "output_type": "display_data",
          "data": {
            "text/html": [
              "<span style=\"color:cyan\"> |-classification_head_1/dropout_rate: 0</span>"
            ],
            "text/plain": [
              "<IPython.core.display.HTML object>"
            ]
          },
          "metadata": {
            "tags": []
          }
        },
        {
          "output_type": "display_data",
          "data": {
            "text/html": [
              "<span style=\"color:blue\"> |-optimizer: adam</span>"
            ],
            "text/plain": [
              "<IPython.core.display.HTML object>"
            ]
          },
          "metadata": {
            "tags": []
          }
        },
        {
          "output_type": "display_data",
          "data": {
            "text/html": [
              "<span style=\"color:cyan\"> |-structured_data_block_1/dense_block_1/dropout_rate: 0.0</span>"
            ],
            "text/plain": [
              "<IPython.core.display.HTML object>"
            ]
          },
          "metadata": {
            "tags": []
          }
        },
        {
          "output_type": "display_data",
          "data": {
            "text/html": [
              "<span style=\"color:blue\"> |-structured_data_block_1/dense_block_1/num_layers: 1</span>"
            ],
            "text/plain": [
              "<IPython.core.display.HTML object>"
            ]
          },
          "metadata": {
            "tags": []
          }
        },
        {
          "output_type": "display_data",
          "data": {
            "text/html": [
              "<span style=\"color:cyan\"> |-structured_data_block_1/dense_block_1/units_0: 64</span>"
            ],
            "text/plain": [
              "<IPython.core.display.HTML object>"
            ]
          },
          "metadata": {
            "tags": []
          }
        },
        {
          "output_type": "display_data",
          "data": {
            "text/html": [
              "<span style=\"color:blue\"> |-structured_data_block_1/dense_block_1/units_1: 128</span>"
            ],
            "text/plain": [
              "<IPython.core.display.HTML object>"
            ]
          },
          "metadata": {
            "tags": []
          }
        },
        {
          "output_type": "display_data",
          "data": {
            "text/html": [
              "<span style=\"color:cyan\"> |-structured_data_block_1/dense_block_1/units_2: 256</span>"
            ],
            "text/plain": [
              "<IPython.core.display.HTML object>"
            ]
          },
          "metadata": {
            "tags": []
          }
        },
        {
          "output_type": "display_data",
          "data": {
            "text/html": [
              "<span style=\"color:blue\"> |-structured_data_block_1/dense_block_1/use_batchnorm: False</span>"
            ],
            "text/plain": [
              "<IPython.core.display.HTML object>"
            ]
          },
          "metadata": {
            "tags": []
          }
        },
        {
          "output_type": "stream",
          "text": [
            "Train for 16 steps, validate for 4 steps\n",
            "Epoch 1/1000\n",
            "16/16 [==============================] - 1s 44ms/step - loss: 0.7559 - accuracy: 0.5657 - val_loss: 0.4982 - val_accuracy: 0.7360\n",
            "Epoch 2/1000\n",
            "16/16 [==============================] - 0s 9ms/step - loss: 0.7095 - accuracy: 0.6335 - val_loss: 0.4875 - val_accuracy: 0.7680\n",
            "Epoch 3/1000\n",
            "16/16 [==============================] - 0s 6ms/step - loss: 0.6438 - accuracy: 0.6633 - val_loss: 0.4963 - val_accuracy: 0.7680\n",
            "Epoch 4/1000\n",
            "16/16 [==============================] - 0s 9ms/step - loss: 0.6460 - accuracy: 0.6494 - val_loss: 0.5013 - val_accuracy: 0.8000\n",
            "Epoch 5/1000\n",
            "16/16 [==============================] - 0s 6ms/step - loss: 0.6486 - accuracy: 0.6534 - val_loss: 0.5016 - val_accuracy: 0.7840\n",
            "Epoch 6/1000\n",
            "16/16 [==============================] - 0s 6ms/step - loss: 0.6435 - accuracy: 0.6614 - val_loss: 0.5000 - val_accuracy: 0.7840\n",
            "Epoch 7/1000\n",
            "16/16 [==============================] - 0s 10ms/step - loss: 0.6123 - accuracy: 0.6972 - val_loss: 0.4941 - val_accuracy: 0.8080\n",
            "Epoch 8/1000\n",
            "16/16 [==============================] - 0s 6ms/step - loss: 0.6224 - accuracy: 0.6892 - val_loss: 0.4856 - val_accuracy: 0.7920\n",
            "Epoch 9/1000\n",
            "16/16 [==============================] - 0s 6ms/step - loss: 0.6091 - accuracy: 0.7032 - val_loss: 0.4822 - val_accuracy: 0.8080\n",
            "Epoch 10/1000\n",
            "16/16 [==============================] - 0s 10ms/step - loss: 0.6071 - accuracy: 0.7171 - val_loss: 0.4668 - val_accuracy: 0.8160\n",
            "Epoch 11/1000\n",
            "16/16 [==============================] - 0s 15ms/step - loss: 0.5936 - accuracy: 0.7052 - val_loss: 0.4789 - val_accuracy: 0.8240\n",
            "Epoch 12/1000\n",
            "16/16 [==============================] - 0s 17ms/step - loss: 0.5593 - accuracy: 0.7271 - val_loss: 0.4732 - val_accuracy: 0.8400\n",
            "Epoch 13/1000\n",
            "16/16 [==============================] - 0s 6ms/step - loss: 0.5479 - accuracy: 0.7510 - val_loss: 0.4653 - val_accuracy: 0.8240\n",
            "Epoch 14/1000\n",
            "16/16 [==============================] - 0s 6ms/step - loss: 0.5340 - accuracy: 0.7669 - val_loss: 0.4551 - val_accuracy: 0.8320\n",
            "Epoch 15/1000\n",
            "16/16 [==============================] - 0s 10ms/step - loss: 0.5517 - accuracy: 0.7351 - val_loss: 0.4392 - val_accuracy: 0.8480\n",
            "Epoch 16/1000\n",
            "16/16 [==============================] - 0s 6ms/step - loss: 0.5602 - accuracy: 0.7410 - val_loss: 0.4263 - val_accuracy: 0.8320\n",
            "Epoch 17/1000\n",
            "16/16 [==============================] - 0s 6ms/step - loss: 0.5610 - accuracy: 0.7470 - val_loss: 0.4510 - val_accuracy: 0.8320\n",
            "Epoch 18/1000\n",
            "16/16 [==============================] - 0s 6ms/step - loss: 0.5585 - accuracy: 0.7629 - val_loss: 0.4433 - val_accuracy: 0.8240\n",
            "Epoch 19/1000\n",
            "16/16 [==============================] - 0s 6ms/step - loss: 0.5267 - accuracy: 0.7570 - val_loss: 0.4520 - val_accuracy: 0.8240\n",
            "Epoch 20/1000\n",
            "16/16 [==============================] - 0s 6ms/step - loss: 0.5235 - accuracy: 0.7510 - val_loss: 0.4562 - val_accuracy: 0.8160\n",
            "Epoch 21/1000\n",
            "16/16 [==============================] - 0s 6ms/step - loss: 0.5193 - accuracy: 0.7649 - val_loss: 0.4353 - val_accuracy: 0.8160\n",
            "Epoch 22/1000\n",
            "16/16 [==============================] - 0s 6ms/step - loss: 0.5185 - accuracy: 0.7649 - val_loss: 0.4261 - val_accuracy: 0.8160\n",
            "Epoch 23/1000\n",
            "16/16 [==============================] - 0s 7ms/step - loss: 0.5318 - accuracy: 0.7550 - val_loss: 0.4246 - val_accuracy: 0.8320\n",
            "Epoch 24/1000\n",
            "16/16 [==============================] - 0s 6ms/step - loss: 0.5350 - accuracy: 0.7470 - val_loss: 0.4266 - val_accuracy: 0.8320\n",
            "Epoch 25/1000\n",
            "16/16 [==============================] - 0s 7ms/step - loss: 0.5475 - accuracy: 0.7530 - val_loss: 0.4329 - val_accuracy: 0.8320\n",
            "Epoch 26/1000\n",
            "16/16 [==============================] - 0s 5ms/step - loss: 0.5339 - accuracy: 0.7550 - val_loss: 0.4334 - val_accuracy: 0.8400\n",
            "Epoch 27/1000\n",
            "16/16 [==============================] - 0s 6ms/step - loss: 0.5194 - accuracy: 0.7530 - val_loss: 0.4037 - val_accuracy: 0.8400\n",
            "Epoch 28/1000\n",
            "16/16 [==============================] - 0s 6ms/step - loss: 0.4932 - accuracy: 0.7610 - val_loss: 0.4042 - val_accuracy: 0.8400\n",
            "Epoch 29/1000\n",
            "16/16 [==============================] - 0s 5ms/step - loss: 0.5141 - accuracy: 0.7629 - val_loss: 0.4022 - val_accuracy: 0.8320\n",
            "Epoch 30/1000\n",
            "16/16 [==============================] - 0s 6ms/step - loss: 0.5241 - accuracy: 0.7490 - val_loss: 0.4001 - val_accuracy: 0.8480\n",
            "Epoch 31/1000\n",
            "16/16 [==============================] - 0s 9ms/step - loss: 0.5333 - accuracy: 0.7470 - val_loss: 0.3977 - val_accuracy: 0.8560\n",
            "Epoch 32/1000\n",
            "16/16 [==============================] - 0s 6ms/step - loss: 0.4845 - accuracy: 0.7550 - val_loss: 0.4084 - val_accuracy: 0.8320\n",
            "Epoch 33/1000\n",
            "16/16 [==============================] - 0s 6ms/step - loss: 0.5082 - accuracy: 0.7749 - val_loss: 0.3823 - val_accuracy: 0.8400\n",
            "Epoch 34/1000\n",
            "16/16 [==============================] - 0s 6ms/step - loss: 0.5043 - accuracy: 0.7689 - val_loss: 0.3888 - val_accuracy: 0.8240\n",
            "Epoch 35/1000\n",
            "16/16 [==============================] - 0s 6ms/step - loss: 0.4675 - accuracy: 0.7789 - val_loss: 0.3961 - val_accuracy: 0.8240\n",
            "Epoch 36/1000\n",
            "16/16 [==============================] - 0s 6ms/step - loss: 0.5117 - accuracy: 0.7649 - val_loss: 0.4087 - val_accuracy: 0.8160\n",
            "Epoch 37/1000\n",
            "16/16 [==============================] - 0s 6ms/step - loss: 0.4753 - accuracy: 0.7829 - val_loss: 0.4149 - val_accuracy: 0.8480\n",
            "Epoch 38/1000\n",
            "16/16 [==============================] - 0s 6ms/step - loss: 0.4897 - accuracy: 0.7749 - val_loss: 0.3946 - val_accuracy: 0.8320\n",
            "Epoch 39/1000\n",
            "16/16 [==============================] - 0s 6ms/step - loss: 0.4759 - accuracy: 0.8048 - val_loss: 0.3939 - val_accuracy: 0.8480\n",
            "Epoch 40/1000\n",
            "16/16 [==============================] - 0s 6ms/step - loss: 0.4727 - accuracy: 0.7689 - val_loss: 0.3837 - val_accuracy: 0.8480\n",
            "Epoch 41/1000\n",
            "16/16 [==============================] - 0s 6ms/step - loss: 0.4996 - accuracy: 0.7550 - val_loss: 0.4047 - val_accuracy: 0.8320\n",
            "Epoch 42/1000\n",
            "16/16 [==============================] - 0s 6ms/step - loss: 0.4780 - accuracy: 0.7968 - val_loss: 0.3894 - val_accuracy: 0.8240\n",
            "Epoch 43/1000\n",
            "16/16 [==============================] - 0s 8ms/step - loss: 0.4691 - accuracy: 0.7928 - val_loss: 0.3570 - val_accuracy: 0.8640\n",
            "Epoch 44/1000\n",
            "16/16 [==============================] - 0s 6ms/step - loss: 0.4701 - accuracy: 0.7709 - val_loss: 0.3644 - val_accuracy: 0.8560\n",
            "Epoch 45/1000\n",
            "16/16 [==============================] - 0s 6ms/step - loss: 0.4613 - accuracy: 0.7789 - val_loss: 0.3619 - val_accuracy: 0.8640\n",
            "Epoch 46/1000\n",
            "16/16 [==============================] - 0s 9ms/step - loss: 0.4875 - accuracy: 0.7689 - val_loss: 0.3619 - val_accuracy: 0.8720\n",
            "Epoch 47/1000\n",
            "16/16 [==============================] - 0s 6ms/step - loss: 0.4708 - accuracy: 0.7928 - val_loss: 0.3659 - val_accuracy: 0.8560\n",
            "Epoch 48/1000\n",
            "16/16 [==============================] - 0s 6ms/step - loss: 0.5028 - accuracy: 0.7789 - val_loss: 0.3632 - val_accuracy: 0.8560\n",
            "Epoch 49/1000\n",
            "16/16 [==============================] - 0s 6ms/step - loss: 0.4824 - accuracy: 0.7908 - val_loss: 0.3790 - val_accuracy: 0.8400\n",
            "Epoch 50/1000\n",
            "16/16 [==============================] - 0s 6ms/step - loss: 0.4781 - accuracy: 0.7829 - val_loss: 0.3839 - val_accuracy: 0.8560\n",
            "Epoch 51/1000\n",
            "16/16 [==============================] - 0s 7ms/step - loss: 0.4785 - accuracy: 0.7849 - val_loss: 0.3647 - val_accuracy: 0.8560\n",
            "Epoch 52/1000\n",
            "16/16 [==============================] - 0s 6ms/step - loss: 0.4576 - accuracy: 0.7849 - val_loss: 0.3706 - val_accuracy: 0.8480\n",
            "Epoch 53/1000\n",
            "16/16 [==============================] - 0s 5ms/step - loss: 0.4746 - accuracy: 0.7888 - val_loss: 0.3715 - val_accuracy: 0.8400\n"
          ],
          "name": "stdout"
        },
        {
          "output_type": "display_data",
          "data": {
            "text/html": [
              "<span style=\"color:#4527A0\"><h1 style=\"font-size:18px\">Trial complete</h1></span>"
            ],
            "text/plain": [
              "<IPython.core.display.HTML object>"
            ]
          },
          "metadata": {
            "tags": []
          }
        },
        {
          "output_type": "display_data",
          "data": {
            "text/html": [
              "<span style=\"color:#4527A0\"><h1 style=\"font-size:18px\">Trial summary</h1></span>"
            ],
            "text/plain": [
              "<IPython.core.display.HTML object>"
            ]
          },
          "metadata": {
            "tags": []
          }
        },
        {
          "output_type": "display_data",
          "data": {
            "text/html": [
              "<span style=\"color:cyan\"> |-Trial ID: 04bc8e7e96e766f1087b817d60c93348</span>"
            ],
            "text/plain": [
              "<IPython.core.display.HTML object>"
            ]
          },
          "metadata": {
            "tags": []
          }
        },
        {
          "output_type": "display_data",
          "data": {
            "text/html": [
              "<span style=\"color:cyan\"> |-Score: 0.871999979019165</span>"
            ],
            "text/plain": [
              "<IPython.core.display.HTML object>"
            ]
          },
          "metadata": {
            "tags": []
          }
        },
        {
          "output_type": "display_data",
          "data": {
            "text/html": [
              "<span style=\"color:cyan\"> |-Best step: 0</span>"
            ],
            "text/plain": [
              "<IPython.core.display.HTML object>"
            ]
          },
          "metadata": {
            "tags": []
          }
        },
        {
          "output_type": "display_data",
          "data": {
            "text/html": [
              "<span style=\"color:#7E57C2\"><h2 style=\"font-size:16px\">Hyperparameters:</h2></span>"
            ],
            "text/plain": [
              "<IPython.core.display.HTML object>"
            ]
          },
          "metadata": {
            "tags": []
          }
        },
        {
          "output_type": "display_data",
          "data": {
            "text/html": [
              "<span style=\"color:cyan\"> |-classification_head_1/dropout_rate: 0</span>"
            ],
            "text/plain": [
              "<IPython.core.display.HTML object>"
            ]
          },
          "metadata": {
            "tags": []
          }
        },
        {
          "output_type": "display_data",
          "data": {
            "text/html": [
              "<span style=\"color:blue\"> |-optimizer: adam</span>"
            ],
            "text/plain": [
              "<IPython.core.display.HTML object>"
            ]
          },
          "metadata": {
            "tags": []
          }
        },
        {
          "output_type": "display_data",
          "data": {
            "text/html": [
              "<span style=\"color:cyan\"> |-structured_data_block_1/dense_block_1/dropout_rate: 0.5</span>"
            ],
            "text/plain": [
              "<IPython.core.display.HTML object>"
            ]
          },
          "metadata": {
            "tags": []
          }
        },
        {
          "output_type": "display_data",
          "data": {
            "text/html": [
              "<span style=\"color:blue\"> |-structured_data_block_1/dense_block_1/num_layers: 1</span>"
            ],
            "text/plain": [
              "<IPython.core.display.HTML object>"
            ]
          },
          "metadata": {
            "tags": []
          }
        },
        {
          "output_type": "display_data",
          "data": {
            "text/html": [
              "<span style=\"color:cyan\"> |-structured_data_block_1/dense_block_1/units_0: 256</span>"
            ],
            "text/plain": [
              "<IPython.core.display.HTML object>"
            ]
          },
          "metadata": {
            "tags": []
          }
        },
        {
          "output_type": "display_data",
          "data": {
            "text/html": [
              "<span style=\"color:blue\"> |-structured_data_block_1/dense_block_1/units_1: 256</span>"
            ],
            "text/plain": [
              "<IPython.core.display.HTML object>"
            ]
          },
          "metadata": {
            "tags": []
          }
        },
        {
          "output_type": "display_data",
          "data": {
            "text/html": [
              "<span style=\"color:cyan\"> |-structured_data_block_1/dense_block_1/units_2: 1024</span>"
            ],
            "text/plain": [
              "<IPython.core.display.HTML object>"
            ]
          },
          "metadata": {
            "tags": []
          }
        },
        {
          "output_type": "display_data",
          "data": {
            "text/html": [
              "<span style=\"color:blue\"> |-structured_data_block_1/dense_block_1/use_batchnorm: True</span>"
            ],
            "text/plain": [
              "<IPython.core.display.HTML object>"
            ]
          },
          "metadata": {
            "tags": []
          }
        },
        {
          "output_type": "stream",
          "text": [
            "Train for 16 steps, validate for 4 steps\n",
            "Epoch 1/1000\n",
            "16/16 [==============================] - 1s 64ms/step - loss: 0.6642 - accuracy: 0.6375 - val_loss: 0.7413 - val_accuracy: 0.7280\n",
            "Epoch 2/1000\n",
            "16/16 [==============================] - 0s 7ms/step - loss: 0.6169 - accuracy: 0.6713 - val_loss: 0.6787 - val_accuracy: 0.7040\n",
            "Epoch 3/1000\n",
            "16/16 [==============================] - 0s 7ms/step - loss: 0.5733 - accuracy: 0.6992 - val_loss: 0.6548 - val_accuracy: 0.6320\n",
            "Epoch 4/1000\n",
            "16/16 [==============================] - 0s 7ms/step - loss: 0.5385 - accuracy: 0.7351 - val_loss: 0.6177 - val_accuracy: 0.6960\n",
            "Epoch 5/1000\n",
            "16/16 [==============================] - 0s 7ms/step - loss: 0.5094 - accuracy: 0.7530 - val_loss: 0.6607 - val_accuracy: 0.5280\n",
            "Epoch 6/1000\n",
            "16/16 [==============================] - 0s 7ms/step - loss: 0.4927 - accuracy: 0.7749 - val_loss: 0.6563 - val_accuracy: 0.5200\n",
            "Epoch 7/1000\n",
            "16/16 [==============================] - 0s 11ms/step - loss: 0.4707 - accuracy: 0.7789 - val_loss: 0.5599 - val_accuracy: 0.8240\n",
            "Epoch 8/1000\n",
            "16/16 [==============================] - 0s 7ms/step - loss: 0.4517 - accuracy: 0.7988 - val_loss: 0.5918 - val_accuracy: 0.7440\n",
            "Epoch 9/1000\n",
            "16/16 [==============================] - 0s 7ms/step - loss: 0.4345 - accuracy: 0.8068 - val_loss: 0.5659 - val_accuracy: 0.7120\n",
            "Epoch 10/1000\n",
            "16/16 [==============================] - 0s 7ms/step - loss: 0.4266 - accuracy: 0.8127 - val_loss: 0.5670 - val_accuracy: 0.7360\n",
            "Epoch 11/1000\n",
            "16/16 [==============================] - 0s 7ms/step - loss: 0.4164 - accuracy: 0.7988 - val_loss: 0.6141 - val_accuracy: 0.6880\n",
            "Epoch 12/1000\n",
            "16/16 [==============================] - 0s 12ms/step - loss: 0.4101 - accuracy: 0.8207 - val_loss: 0.4790 - val_accuracy: 0.8400\n",
            "Epoch 13/1000\n",
            "16/16 [==============================] - 0s 7ms/step - loss: 0.3925 - accuracy: 0.8287 - val_loss: 0.5134 - val_accuracy: 0.8000\n",
            "Epoch 14/1000\n",
            "16/16 [==============================] - 0s 7ms/step - loss: 0.3863 - accuracy: 0.8307 - val_loss: 0.5267 - val_accuracy: 0.8240\n",
            "Epoch 15/1000\n",
            "16/16 [==============================] - 0s 7ms/step - loss: 0.3642 - accuracy: 0.8526 - val_loss: 0.5122 - val_accuracy: 0.8080\n",
            "Epoch 16/1000\n",
            "16/16 [==============================] - 0s 7ms/step - loss: 0.3536 - accuracy: 0.8546 - val_loss: 0.5214 - val_accuracy: 0.8240\n",
            "Epoch 17/1000\n",
            "16/16 [==============================] - 0s 8ms/step - loss: 0.3468 - accuracy: 0.8645 - val_loss: 0.4402 - val_accuracy: 0.8400\n",
            "Epoch 18/1000\n",
            "16/16 [==============================] - 0s 7ms/step - loss: 0.3388 - accuracy: 0.8705 - val_loss: 0.4351 - val_accuracy: 0.8320\n",
            "Epoch 19/1000\n",
            "16/16 [==============================] - 0s 7ms/step - loss: 0.3431 - accuracy: 0.8586 - val_loss: 0.4702 - val_accuracy: 0.7920\n",
            "Epoch 20/1000\n",
            "16/16 [==============================] - 0s 9ms/step - loss: 0.3503 - accuracy: 0.8625 - val_loss: 0.5468 - val_accuracy: 0.7840\n",
            "Epoch 21/1000\n",
            "16/16 [==============================] - 0s 7ms/step - loss: 0.3441 - accuracy: 0.8625 - val_loss: 0.5682 - val_accuracy: 0.7920\n",
            "Epoch 22/1000\n",
            "16/16 [==============================] - 0s 7ms/step - loss: 0.3445 - accuracy: 0.8606 - val_loss: 0.4896 - val_accuracy: 0.8000\n",
            "Epoch 23/1000\n",
            "16/16 [==============================] - 0s 7ms/step - loss: 0.3286 - accuracy: 0.8625 - val_loss: 0.4970 - val_accuracy: 0.8000\n",
            "Epoch 24/1000\n",
            "16/16 [==============================] - 0s 7ms/step - loss: 0.3138 - accuracy: 0.8665 - val_loss: 0.4644 - val_accuracy: 0.8000\n",
            "Epoch 25/1000\n",
            "16/16 [==============================] - 0s 7ms/step - loss: 0.2991 - accuracy: 0.8845 - val_loss: 0.4544 - val_accuracy: 0.8000\n",
            "Epoch 26/1000\n",
            "16/16 [==============================] - 0s 7ms/step - loss: 0.3310 - accuracy: 0.8625 - val_loss: 0.4577 - val_accuracy: 0.7840\n",
            "Epoch 27/1000\n",
            "16/16 [==============================] - 0s 12ms/step - loss: 0.3312 - accuracy: 0.8705 - val_loss: 0.4272 - val_accuracy: 0.8480\n",
            "Epoch 28/1000\n",
            "16/16 [==============================] - 0s 25ms/step - loss: 0.3076 - accuracy: 0.8845 - val_loss: 0.4018 - val_accuracy: 0.8720\n",
            "Epoch 29/1000\n",
            "16/16 [==============================] - 0s 7ms/step - loss: 0.2864 - accuracy: 0.8725 - val_loss: 0.3968 - val_accuracy: 0.8560\n",
            "Epoch 30/1000\n",
            "16/16 [==============================] - 0s 7ms/step - loss: 0.2858 - accuracy: 0.8904 - val_loss: 0.3899 - val_accuracy: 0.8400\n",
            "Epoch 31/1000\n",
            "16/16 [==============================] - 0s 8ms/step - loss: 0.2606 - accuracy: 0.9044 - val_loss: 0.4054 - val_accuracy: 0.8720\n",
            "Epoch 32/1000\n",
            "16/16 [==============================] - 0s 7ms/step - loss: 0.2440 - accuracy: 0.9124 - val_loss: 0.4268 - val_accuracy: 0.8480\n",
            "Epoch 33/1000\n",
            "16/16 [==============================] - 0s 7ms/step - loss: 0.2345 - accuracy: 0.9124 - val_loss: 0.4610 - val_accuracy: 0.8080\n",
            "Epoch 34/1000\n",
            "16/16 [==============================] - 0s 7ms/step - loss: 0.2448 - accuracy: 0.9084 - val_loss: 0.4288 - val_accuracy: 0.8400\n",
            "Epoch 35/1000\n",
            "16/16 [==============================] - 0s 8ms/step - loss: 0.2211 - accuracy: 0.9303 - val_loss: 0.4341 - val_accuracy: 0.8480\n",
            "Epoch 36/1000\n",
            "16/16 [==============================] - 0s 7ms/step - loss: 0.2268 - accuracy: 0.9223 - val_loss: 0.4670 - val_accuracy: 0.8240\n",
            "Epoch 37/1000\n",
            "16/16 [==============================] - 0s 7ms/step - loss: 0.2298 - accuracy: 0.9203 - val_loss: 0.4326 - val_accuracy: 0.8080\n",
            "Epoch 38/1000\n",
            "16/16 [==============================] - 0s 7ms/step - loss: 0.2776 - accuracy: 0.8964 - val_loss: 0.4195 - val_accuracy: 0.8400\n",
            "Epoch 39/1000\n",
            "16/16 [==============================] - 0s 7ms/step - loss: 0.2331 - accuracy: 0.9064 - val_loss: 0.4434 - val_accuracy: 0.8240\n",
            "Epoch 40/1000\n",
            "16/16 [==============================] - 0s 7ms/step - loss: 0.2566 - accuracy: 0.8984 - val_loss: 0.4607 - val_accuracy: 0.8320\n"
          ],
          "name": "stdout"
        },
        {
          "output_type": "display_data",
          "data": {
            "text/html": [
              "<span style=\"color:#4527A0\"><h1 style=\"font-size:18px\">Trial complete</h1></span>"
            ],
            "text/plain": [
              "<IPython.core.display.HTML object>"
            ]
          },
          "metadata": {
            "tags": []
          }
        },
        {
          "output_type": "display_data",
          "data": {
            "text/html": [
              "<span style=\"color:#4527A0\"><h1 style=\"font-size:18px\">Trial summary</h1></span>"
            ],
            "text/plain": [
              "<IPython.core.display.HTML object>"
            ]
          },
          "metadata": {
            "tags": []
          }
        },
        {
          "output_type": "display_data",
          "data": {
            "text/html": [
              "<span style=\"color:cyan\"> |-Trial ID: f3671da521551ca62e6c7614152e6818</span>"
            ],
            "text/plain": [
              "<IPython.core.display.HTML object>"
            ]
          },
          "metadata": {
            "tags": []
          }
        },
        {
          "output_type": "display_data",
          "data": {
            "text/html": [
              "<span style=\"color:cyan\"> |-Score: 0.871999979019165</span>"
            ],
            "text/plain": [
              "<IPython.core.display.HTML object>"
            ]
          },
          "metadata": {
            "tags": []
          }
        },
        {
          "output_type": "display_data",
          "data": {
            "text/html": [
              "<span style=\"color:cyan\"> |-Best step: 0</span>"
            ],
            "text/plain": [
              "<IPython.core.display.HTML object>"
            ]
          },
          "metadata": {
            "tags": []
          }
        },
        {
          "output_type": "display_data",
          "data": {
            "text/html": [
              "<span style=\"color:#7E57C2\"><h2 style=\"font-size:16px\">Hyperparameters:</h2></span>"
            ],
            "text/plain": [
              "<IPython.core.display.HTML object>"
            ]
          },
          "metadata": {
            "tags": []
          }
        },
        {
          "output_type": "display_data",
          "data": {
            "text/html": [
              "<span style=\"color:cyan\"> |-classification_head_1/dropout_rate: 0</span>"
            ],
            "text/plain": [
              "<IPython.core.display.HTML object>"
            ]
          },
          "metadata": {
            "tags": []
          }
        },
        {
          "output_type": "display_data",
          "data": {
            "text/html": [
              "<span style=\"color:blue\"> |-optimizer: adam</span>"
            ],
            "text/plain": [
              "<IPython.core.display.HTML object>"
            ]
          },
          "metadata": {
            "tags": []
          }
        },
        {
          "output_type": "display_data",
          "data": {
            "text/html": [
              "<span style=\"color:cyan\"> |-structured_data_block_1/dense_block_1/dropout_rate: 0.0</span>"
            ],
            "text/plain": [
              "<IPython.core.display.HTML object>"
            ]
          },
          "metadata": {
            "tags": []
          }
        },
        {
          "output_type": "display_data",
          "data": {
            "text/html": [
              "<span style=\"color:blue\"> |-structured_data_block_1/dense_block_1/num_layers: 3</span>"
            ],
            "text/plain": [
              "<IPython.core.display.HTML object>"
            ]
          },
          "metadata": {
            "tags": []
          }
        },
        {
          "output_type": "display_data",
          "data": {
            "text/html": [
              "<span style=\"color:cyan\"> |-structured_data_block_1/dense_block_1/units_0: 1024</span>"
            ],
            "text/plain": [
              "<IPython.core.display.HTML object>"
            ]
          },
          "metadata": {
            "tags": []
          }
        },
        {
          "output_type": "display_data",
          "data": {
            "text/html": [
              "<span style=\"color:blue\"> |-structured_data_block_1/dense_block_1/units_1: 512</span>"
            ],
            "text/plain": [
              "<IPython.core.display.HTML object>"
            ]
          },
          "metadata": {
            "tags": []
          }
        },
        {
          "output_type": "display_data",
          "data": {
            "text/html": [
              "<span style=\"color:cyan\"> |-structured_data_block_1/dense_block_1/units_2: 16</span>"
            ],
            "text/plain": [
              "<IPython.core.display.HTML object>"
            ]
          },
          "metadata": {
            "tags": []
          }
        },
        {
          "output_type": "display_data",
          "data": {
            "text/html": [
              "<span style=\"color:blue\"> |-structured_data_block_1/dense_block_1/use_batchnorm: True</span>"
            ],
            "text/plain": [
              "<IPython.core.display.HTML object>"
            ]
          },
          "metadata": {
            "tags": []
          }
        },
        {
          "output_type": "stream",
          "text": [
            "INFO:tensorflow:Oracle triggered exit\n",
            "Train for 20 steps, validate for 4 steps\n",
            "Epoch 1/1000\n",
            "20/20 [==============================] - 1s 27ms/step - loss: 1.4420 - accuracy: 0.5710 - val_loss: 0.6596 - val_accuracy: 0.7360\n",
            "Epoch 2/1000\n",
            "20/20 [==============================] - 0s 5ms/step - loss: 1.3698 - accuracy: 0.5837 - val_loss: 0.7128 - val_accuracy: 0.7360\n",
            "Epoch 3/1000\n",
            "20/20 [==============================] - 0s 6ms/step - loss: 1.2901 - accuracy: 0.6061 - val_loss: 0.5326 - val_accuracy: 0.7440\n",
            "Epoch 4/1000\n",
            "20/20 [==============================] - 0s 5ms/step - loss: 1.0605 - accuracy: 0.6571 - val_loss: 0.5077 - val_accuracy: 0.7760\n",
            "Epoch 5/1000\n",
            "20/20 [==============================] - 0s 5ms/step - loss: 1.0101 - accuracy: 0.6539 - val_loss: 0.4129 - val_accuracy: 0.7760\n",
            "Epoch 6/1000\n",
            "20/20 [==============================] - 0s 5ms/step - loss: 0.8884 - accuracy: 0.6762 - val_loss: 0.4551 - val_accuracy: 0.8000\n",
            "Epoch 7/1000\n",
            "20/20 [==============================] - 0s 5ms/step - loss: 1.0193 - accuracy: 0.6762 - val_loss: 0.4285 - val_accuracy: 0.8160\n",
            "Epoch 8/1000\n",
            "20/20 [==============================] - 0s 5ms/step - loss: 0.8070 - accuracy: 0.6651 - val_loss: 0.4520 - val_accuracy: 0.8000\n",
            "Epoch 9/1000\n",
            "20/20 [==============================] - 0s 5ms/step - loss: 0.7916 - accuracy: 0.6619 - val_loss: 0.4314 - val_accuracy: 0.8080\n",
            "Epoch 10/1000\n",
            "20/20 [==============================] - 0s 5ms/step - loss: 0.7398 - accuracy: 0.6890 - val_loss: 0.3872 - val_accuracy: 0.8400\n",
            "Epoch 11/1000\n",
            "20/20 [==============================] - 0s 5ms/step - loss: 0.7892 - accuracy: 0.7033 - val_loss: 0.4017 - val_accuracy: 0.8000\n",
            "Epoch 12/1000\n",
            "20/20 [==============================] - 0s 6ms/step - loss: 0.8052 - accuracy: 0.6858 - val_loss: 0.5097 - val_accuracy: 0.7840\n",
            "Epoch 13/1000\n",
            "20/20 [==============================] - 0s 5ms/step - loss: 0.6787 - accuracy: 0.7321 - val_loss: 0.3690 - val_accuracy: 0.8720\n",
            "Epoch 14/1000\n",
            "20/20 [==============================] - 0s 5ms/step - loss: 0.6948 - accuracy: 0.7241 - val_loss: 0.3692 - val_accuracy: 0.8640\n",
            "Epoch 15/1000\n",
            "20/20 [==============================] - 0s 5ms/step - loss: 0.6826 - accuracy: 0.7177 - val_loss: 0.3914 - val_accuracy: 0.8320\n",
            "Epoch 16/1000\n",
            "20/20 [==============================] - 0s 5ms/step - loss: 0.7128 - accuracy: 0.7337 - val_loss: 0.3647 - val_accuracy: 0.8480\n",
            "Epoch 17/1000\n",
            "20/20 [==============================] - 0s 5ms/step - loss: 0.6296 - accuracy: 0.7352 - val_loss: 0.3900 - val_accuracy: 0.8000\n",
            "Epoch 18/1000\n",
            "20/20 [==============================] - 0s 5ms/step - loss: 0.6816 - accuracy: 0.7400 - val_loss: 0.4075 - val_accuracy: 0.8160\n",
            "Epoch 19/1000\n",
            "20/20 [==============================] - 0s 5ms/step - loss: 0.6024 - accuracy: 0.7592 - val_loss: 0.3671 - val_accuracy: 0.8640\n",
            "Epoch 20/1000\n",
            "20/20 [==============================] - 0s 5ms/step - loss: 0.6253 - accuracy: 0.7480 - val_loss: 0.3894 - val_accuracy: 0.8080\n",
            "Epoch 21/1000\n",
            "20/20 [==============================] - 0s 5ms/step - loss: 0.5772 - accuracy: 0.7400 - val_loss: 0.3540 - val_accuracy: 0.8640\n",
            "Epoch 22/1000\n",
            "20/20 [==============================] - 0s 6ms/step - loss: 0.5893 - accuracy: 0.7448 - val_loss: 0.3487 - val_accuracy: 0.8560\n",
            "Epoch 23/1000\n",
            "20/20 [==============================] - 0s 5ms/step - loss: 0.5744 - accuracy: 0.7512 - val_loss: 0.3626 - val_accuracy: 0.8640\n",
            "Epoch 24/1000\n",
            "20/20 [==============================] - 0s 5ms/step - loss: 0.5429 - accuracy: 0.7512 - val_loss: 0.3549 - val_accuracy: 0.8560\n",
            "Epoch 25/1000\n",
            "20/20 [==============================] - 0s 5ms/step - loss: 0.5526 - accuracy: 0.7560 - val_loss: 0.3704 - val_accuracy: 0.8560\n",
            "Epoch 26/1000\n",
            "20/20 [==============================] - 0s 5ms/step - loss: 0.5437 - accuracy: 0.7671 - val_loss: 0.3419 - val_accuracy: 0.8560\n",
            "Epoch 27/1000\n",
            "20/20 [==============================] - 0s 5ms/step - loss: 0.4892 - accuracy: 0.7927 - val_loss: 0.3571 - val_accuracy: 0.8640\n",
            "Epoch 28/1000\n",
            "20/20 [==============================] - 0s 5ms/step - loss: 0.5387 - accuracy: 0.7656 - val_loss: 0.3526 - val_accuracy: 0.8560\n",
            "Epoch 29/1000\n",
            "20/20 [==============================] - 0s 5ms/step - loss: 0.5102 - accuracy: 0.7719 - val_loss: 0.3382 - val_accuracy: 0.8560\n",
            "Epoch 30/1000\n",
            "20/20 [==============================] - 0s 5ms/step - loss: 0.5470 - accuracy: 0.7831 - val_loss: 0.3540 - val_accuracy: 0.8800\n",
            "Epoch 31/1000\n",
            "20/20 [==============================] - 0s 5ms/step - loss: 0.5670 - accuracy: 0.7735 - val_loss: 0.3555 - val_accuracy: 0.8800\n",
            "Epoch 32/1000\n",
            "20/20 [==============================] - 0s 5ms/step - loss: 0.5316 - accuracy: 0.7943 - val_loss: 0.3499 - val_accuracy: 0.8800\n",
            "Epoch 33/1000\n",
            "20/20 [==============================] - 0s 5ms/step - loss: 0.5355 - accuracy: 0.7863 - val_loss: 0.3342 - val_accuracy: 0.8480\n",
            "Epoch 34/1000\n",
            "20/20 [==============================] - 0s 5ms/step - loss: 0.5129 - accuracy: 0.7863 - val_loss: 0.3427 - val_accuracy: 0.8800\n",
            "Epoch 35/1000\n",
            "20/20 [==============================] - 0s 5ms/step - loss: 0.4675 - accuracy: 0.8006 - val_loss: 0.3485 - val_accuracy: 0.8800\n",
            "Epoch 36/1000\n",
            "20/20 [==============================] - 0s 5ms/step - loss: 0.5175 - accuracy: 0.8038 - val_loss: 0.3355 - val_accuracy: 0.8640\n",
            "Epoch 37/1000\n",
            "20/20 [==============================] - 0s 5ms/step - loss: 0.5364 - accuracy: 0.7927 - val_loss: 0.3687 - val_accuracy: 0.8720\n",
            "Epoch 38/1000\n",
            "20/20 [==============================] - 0s 6ms/step - loss: 0.5588 - accuracy: 0.7703 - val_loss: 0.3505 - val_accuracy: 0.8800\n",
            "Epoch 39/1000\n",
            "20/20 [==============================] - 0s 5ms/step - loss: 0.5690 - accuracy: 0.7767 - val_loss: 0.3288 - val_accuracy: 0.8640\n",
            "Epoch 40/1000\n",
            "20/20 [==============================] - 0s 5ms/step - loss: 0.4956 - accuracy: 0.8054 - val_loss: 0.3305 - val_accuracy: 0.8720\n",
            "Epoch 41/1000\n",
            "20/20 [==============================] - 0s 5ms/step - loss: 0.5386 - accuracy: 0.7863 - val_loss: 0.3382 - val_accuracy: 0.8800\n",
            "Epoch 42/1000\n",
            "20/20 [==============================] - 0s 5ms/step - loss: 0.5120 - accuracy: 0.7831 - val_loss: 0.3244 - val_accuracy: 0.8560\n",
            "Epoch 43/1000\n",
            "20/20 [==============================] - 0s 5ms/step - loss: 0.4926 - accuracy: 0.8022 - val_loss: 0.3270 - val_accuracy: 0.8640\n",
            "Epoch 44/1000\n",
            "20/20 [==============================] - 0s 5ms/step - loss: 0.5287 - accuracy: 0.7879 - val_loss: 0.3578 - val_accuracy: 0.8480\n",
            "Epoch 45/1000\n",
            "20/20 [==============================] - 0s 5ms/step - loss: 0.5547 - accuracy: 0.7703 - val_loss: 0.3273 - val_accuracy: 0.8720\n",
            "Epoch 46/1000\n",
            "20/20 [==============================] - 0s 5ms/step - loss: 0.4806 - accuracy: 0.7990 - val_loss: 0.3343 - val_accuracy: 0.8640\n",
            "Epoch 47/1000\n",
            "20/20 [==============================] - 0s 5ms/step - loss: 0.4952 - accuracy: 0.7959 - val_loss: 0.3318 - val_accuracy: 0.8640\n",
            "Epoch 48/1000\n",
            "20/20 [==============================] - 0s 5ms/step - loss: 0.4873 - accuracy: 0.7959 - val_loss: 0.3436 - val_accuracy: 0.8800\n",
            "Epoch 49/1000\n",
            "20/20 [==============================] - 0s 5ms/step - loss: 0.4914 - accuracy: 0.7974 - val_loss: 0.3254 - val_accuracy: 0.8640\n",
            "Epoch 50/1000\n",
            "20/20 [==============================] - 0s 5ms/step - loss: 0.4965 - accuracy: 0.7895 - val_loss: 0.3458 - val_accuracy: 0.8800\n",
            "Epoch 51/1000\n",
            "20/20 [==============================] - 0s 5ms/step - loss: 0.4787 - accuracy: 0.7974 - val_loss: 0.3379 - val_accuracy: 0.8800\n",
            "Epoch 52/1000\n",
            "20/20 [==============================] - 0s 5ms/step - loss: 0.4937 - accuracy: 0.8022 - val_loss: 0.3249 - val_accuracy: 0.8640\n"
          ],
          "name": "stdout"
        }
      ]
    },
    {
      "cell_type": "markdown",
      "metadata": {
        "id": "7davBFSIEKJG",
        "colab_type": "text"
      },
      "source": [
        "get accuracy from trained model"
      ]
    },
    {
      "cell_type": "code",
      "metadata": {
        "id": "yjxyIzarDofC",
        "colab_type": "code",
        "colab": {
          "base_uri": "https://localhost:8080/",
          "height": 51
        },
        "outputId": "6fe40ce9-50f8-44ab-ac23-c362cd47777d"
      },
      "source": [
        "print('Accuracy: {accuracy}'.format(\n",
        "    accuracy=clf.evaluate(x='eval.csv', y='survived')))"
      ],
      "execution_count": 7,
      "outputs": [
        {
          "output_type": "stream",
          "text": [
            "9/9 [==============================] - 0s 13ms/step - loss: 0.4830 - accuracy: 0.7689\n",
            "Accuracy: [0.48300537798139787, 0.7689394]\n"
          ],
          "name": "stdout"
        }
      ]
    }
  ]
}