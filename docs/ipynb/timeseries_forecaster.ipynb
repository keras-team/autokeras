{
 "cells": [
  {
   "cell_type": "code",
   "execution_count": 0,
   "metadata": {
    "colab_type": "code"
   },
   "outputs": [],
   "source": [
    "!pip install autokeras\n"
   ]
  },
  {
   "cell_type": "code",
   "execution_count": 0,
   "metadata": {
    "colab_type": "code"
   },
   "outputs": [],
   "source": [
    "import pandas as pd\n",
    "import tensorflow as tf\n",
    "\n",
    "import autokeras as ak\n"
   ]
  },
  {
   "cell_type": "markdown",
   "metadata": {
    "colab_type": "text"
   },
   "source": [
    "To make this tutorial easy to follow, we use the UCI Airquality dataset, and try to\n",
    "forecast the AH value at the different timesteps. Some basic preprocessing has also\n",
    "been performed on the dataset as it required cleanup.\n",
    "\n",
    "## A Simple Example\n",
    "The first step is to prepare your data. Here we use the [UCI Airquality dataset]\n",
    "(https://archive.ics.uci.edu/ml/datasets/Air+Quality) as an example.\n"
   ]
  },
  {
   "cell_type": "code",
   "execution_count": 0,
   "metadata": {
    "colab_type": "code"
   },
   "outputs": [],
   "source": [
    "dataset = tf.keras.utils.get_file(\n",
    "    fname=\"AirQualityUCI.csv\",\n",
    "    origin=\"https://archive.ics.uci.edu/ml/machine-learning-databases/00360/\"\n",
    "    \"AirQualityUCI.zip\",\n",
    "    extract=True,\n",
    ")\n",
    "\n",
    "dataset = pd.read_csv(dataset, sep=\";\")\n",
    "dataset = dataset[dataset.columns[:-2]]\n",
    "dataset = dataset.dropna()\n",
    "dataset = dataset.replace(\",\", \".\", regex=True)\n",
    "\n",
    "val_split = int(len(dataset) * 0.7)\n",
    "data_train = dataset[:val_split]\n",
    "validation_data = dataset[val_split:]\n",
    "\n",
    "data_x = data_train[\n",
    "    [\n",
    "        \"CO(GT)\",\n",
    "        \"PT08.S1(CO)\",\n",
    "        \"NMHC(GT)\",\n",
    "        \"C6H6(GT)\",\n",
    "        \"PT08.S2(NMHC)\",\n",
    "        \"NOx(GT)\",\n",
    "        \"PT08.S3(NOx)\",\n",
    "        \"NO2(GT)\",\n",
    "        \"PT08.S4(NO2)\",\n",
    "        \"PT08.S5(O3)\",\n",
    "        \"T\",\n",
    "        \"RH\",\n",
    "    ]\n",
    "].astype(\"float64\")\n",
    "\n",
    "data_x_val = validation_data[\n",
    "    [\n",
    "        \"CO(GT)\",\n",
    "        \"PT08.S1(CO)\",\n",
    "        \"NMHC(GT)\",\n",
    "        \"C6H6(GT)\",\n",
    "        \"PT08.S2(NMHC)\",\n",
    "        \"NOx(GT)\",\n",
    "        \"PT08.S3(NOx)\",\n",
    "        \"NO2(GT)\",\n",
    "        \"PT08.S4(NO2)\",\n",
    "        \"PT08.S5(O3)\",\n",
    "        \"T\",\n",
    "        \"RH\",\n",
    "    ]\n",
    "].astype(\"float64\")\n",
    "\n",
    "# Data with train data and the unseen data from subsequent time steps.\n",
    "data_x_test = dataset[\n",
    "    [\n",
    "        \"CO(GT)\",\n",
    "        \"PT08.S1(CO)\",\n",
    "        \"NMHC(GT)\",\n",
    "        \"C6H6(GT)\",\n",
    "        \"PT08.S2(NMHC)\",\n",
    "        \"NOx(GT)\",\n",
    "        \"PT08.S3(NOx)\",\n",
    "        \"NO2(GT)\",\n",
    "        \"PT08.S4(NO2)\",\n",
    "        \"PT08.S5(O3)\",\n",
    "        \"T\",\n",
    "        \"RH\",\n",
    "    ]\n",
    "].astype(\"float64\")\n",
    "\n",
    "data_y = data_train[\"AH\"].astype(\"float64\")\n",
    "\n",
    "data_y_val = validation_data[\"AH\"].astype(\"float64\")\n",
    "\n",
    "print(data_x.shape)  # (6549, 12)\n",
    "print(data_y.shape)  # (6549,)\n"
   ]
  },
  {
   "cell_type": "markdown",
   "metadata": {
    "colab_type": "text"
   },
   "source": [
    "The second step is to run the [TimeSeriesForecaster](/time_series_forecaster).\n",
    "As a quick demo, we set epochs to 10.\n",
    "You can also leave the epochs unspecified for an adaptive number of epochs.\n"
   ]
  },
  {
   "cell_type": "code",
   "execution_count": 0,
   "metadata": {
    "colab_type": "code"
   },
   "outputs": [],
   "source": [
    "predict_from = 1\n",
    "predict_until = 10\n",
    "lookback = 3\n",
    "clf = ak.TimeseriesForecaster(\n",
    "    lookback=lookback,\n",
    "    predict_from=predict_from,\n",
    "    predict_until=predict_until,\n",
    "    max_trials=1,\n",
    "    objective=\"val_loss\",\n",
    ")\n",
    "# Train the TimeSeriesForecaster with train data\n",
    "clf.fit(\n",
    "    x=data_x,\n",
    "    y=data_y,\n",
    "    validation_data=(data_x_val, data_y_val),\n",
    "    batch_size=32,\n",
    "    epochs=10,\n",
    ")\n",
    "# Predict with the best model(includes original training data).\n",
    "predictions = clf.predict(data_x_test)\n",
    "print(predictions.shape)\n",
    "# Evaluate the best model with testing data.\n",
    "print(clf.evaluate(data_x_val, data_y_val))\n"
   ]
  }
 ],
 "metadata": {
  "colab": {
   "collapsed_sections": [],
   "name": "timeseries_forecaster",
   "private_outputs": false,
   "provenance": [],
   "toc_visible": true
  },
  "kernelspec": {
   "display_name": "Python 3",
   "language": "python",
   "name": "python3"
  },
  "language_info": {
   "codemirror_mode": {
    "name": "ipython",
    "version": 3
   },
   "file_extension": ".py",
   "mimetype": "text/x-python",
   "name": "python",
   "nbconvert_exporter": "python",
   "pygments_lexer": "ipython3",
   "version": "3.7.0"
  }
 },
 "nbformat": 4,
 "nbformat_minor": 0
}