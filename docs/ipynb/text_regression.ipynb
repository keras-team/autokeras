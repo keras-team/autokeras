{
 "cells": [
  {
   "cell_type": "code",
   "execution_count": 0,
   "metadata": {
    "colab_type": "code"
   },
   "outputs": [],
   "source": [
    "!pip install autokeras\n"
   ]
  },
  {
   "cell_type": "markdown",
   "metadata": {
    "colab_type": "text"
   },
   "source": [
    "To make this tutorial easy to follow, we just treat IMDB dataset as a regression\n",
    "dataset. It means we will treat prediction targets of IMDB dataset, which are 0s and\n",
    "1s as numerical values, so that they can be directly used as the regression targets.\n",
    "\n",
    "## A Simple Example\n",
    "The first step is to prepare your data. Here we use the [IMDB\n",
    "dataset](https://keras.io/datasets/#imdb-movie-reviews-sentiment-classification) as\n",
    "an example.\n"
   ]
  },
  {
   "cell_type": "code",
   "execution_count": 0,
   "metadata": {
    "colab_type": "code"
   },
   "outputs": [],
   "source": [
    "import numpy as np\n",
    "from tensorflow.keras.datasets import imdb\n",
    "\n",
    "# Load the integer sequence the IMDB dataset with Keras.\n",
    "index_offset = 3  # word index offset\n",
    "(x_train, y_train), (x_test, y_test) = imdb.load_data(num_words=1000,\n",
    "                                                      index_from=index_offset)\n",
    "y_train = y_train.reshape(-1, 1)\n",
    "y_test = y_test.reshape(-1, 1)\n",
    "# Prepare the dictionary of index to word.\n",
    "word_to_id = imdb.get_word_index()\n",
    "word_to_id = {k: (v + index_offset) for k, v in word_to_id.items()}\n",
    "word_to_id[\"<PAD>\"] = 0\n",
    "word_to_id[\"<START>\"] = 1\n",
    "word_to_id[\"<UNK>\"] = 2\n",
    "id_to_word = {value: key for key, value in word_to_id.items()}\n",
    "# Convert the word indices to words.\n",
    "x_train = list(map(lambda sentence: ' '.join(\n",
    "    id_to_word[i] for i in sentence), x_train))\n",
    "x_test = list(map(lambda sentence: ' '.join(\n",
    "    id_to_word[i] for i in sentence), x_test))\n",
    "x_train = np.array(x_train, dtype=np.str)\n",
    "x_test = np.array(x_test, dtype=np.str)\n",
    "print(x_train.shape)  # (25000,)\n",
    "print(y_train.shape)  # (25000, 1)\n",
    "print(x_train[0][:50])  # <START> this film was just brilliant casting <UNK>\n"
   ]
  },
  {
   "cell_type": "markdown",
   "metadata": {
    "colab_type": "text"
   },
   "source": [
    "The second step is to run the [TextRegressor](/text_regressor).\n"
   ]
  },
  {
   "cell_type": "code",
   "execution_count": 0,
   "metadata": {
    "colab_type": "code"
   },
   "outputs": [],
   "source": [
    "import autokeras as ak\n",
    "\n",
    "# Initialize the text regressor.\n",
    "reg = ak.TextRegressor(max_trials=1) # It tries 10 different models.\n",
    "# Feed the text regressor with training data.\n",
    "reg.fit(x_train, y_train, epochs=2)\n",
    "# Predict with the best model.\n",
    "predicted_y = reg.predict(x_test)\n",
    "# Evaluate the best model with testing data.\n",
    "print(reg.evaluate(x_test, y_test))\n",
    "\n"
   ]
  },
  {
   "cell_type": "markdown",
   "metadata": {
    "colab_type": "text"
   },
   "source": [
    "## Validation Data\n",
    "By default, AutoKeras use the last 20% of training data as validation data.\n",
    "As shown in the example below, you can use `validation_split` to specify the percentage.\n"
   ]
  },
  {
   "cell_type": "code",
   "execution_count": 0,
   "metadata": {
    "colab_type": "code"
   },
   "outputs": [],
   "source": [
    "reg.fit(x_train,\n",
    "        y_train,\n",
    "        # Split the training data and use the last 15% as validation data.\n",
    "        validation_split=0.15)\n"
   ]
  },
  {
   "cell_type": "markdown",
   "metadata": {
    "colab_type": "text"
   },
   "source": [
    "You can also use your own validation set\n",
    "instead of splitting it from the training data with `validation_data`.\n"
   ]
  },
  {
   "cell_type": "code",
   "execution_count": 0,
   "metadata": {
    "colab_type": "code"
   },
   "outputs": [],
   "source": [
    "split = 5000\n",
    "x_val = x_train[split:]\n",
    "y_val = y_train[split:]\n",
    "x_train = x_train[:split]\n",
    "y_train = y_train[:split]\n",
    "reg.fit(x_train,\n",
    "        y_train,\n",
    "        epochs=2,\n",
    "        # Use your own validation set.\n",
    "        validation_data=(x_val, y_val))\n"
   ]
  },
  {
   "cell_type": "markdown",
   "metadata": {
    "colab_type": "text"
   },
   "source": [
    "## Customized Search Space\n",
    "For advanced users, you may customize your search space by using\n",
    "[AutoModel](/auto_model/#automodel-class) instead of\n",
    "[TextRegressor](/text_regressor). You can configure the\n",
    "[TextBlock](/block/#textblock-class) for some high-level configurations, e.g., `vectorizer`\n",
    "for the type of text vectorization method to use.  You can use 'sequence', which uses\n",
    "[TextToInteSequence](/block/#texttointsequence-class) to convert the words to\n",
    "integers and use [Embedding](/block/#embedding-class) for embedding the\n",
    "integer sequences, or you can use 'ngram', which uses\n",
    "[TextToNgramVector](/block/#texttongramvector-class) to vectorize the\n",
    "sentences.  You can also do not specify these arguments, which would leave the\n",
    "different choices to be tuned automatically.  See the following example for detail.\n"
   ]
  },
  {
   "cell_type": "code",
   "execution_count": 0,
   "metadata": {
    "colab_type": "code"
   },
   "outputs": [],
   "source": [
    "import autokeras as ak\n",
    "\n",
    "input_node = ak.TextInput()\n",
    "output_node = ak.TextBlock(vectorizer='ngram')(input_node)\n",
    "output_node = ak.RegressionHead()(output_node)\n",
    "reg = ak.AutoModel(inputs=input_node, outputs=output_node, max_trials=1)\n",
    "reg.fit(x_train, y_train, epochs=2)\n"
   ]
  },
  {
   "cell_type": "markdown",
   "metadata": {
    "colab_type": "text"
   },
   "source": [
    "The usage of [AutoModel](/auto_model/#automodel-class) is similar to the\n",
    "[functional API](https://www.tensorflow.org/guide/keras/functional) of Keras.\n",
    "Basically, you are building a graph, whose edges are blocks and the nodes are intermediate outputs of blocks.\n",
    "To add an edge from `input_node` to `output_node` with\n",
    "`output_node = ak.[some_block]([block_args])(input_node)`.\n",
    "\n",
    "You can even also use more fine grained blocks to customize the search space even\n",
    "further. See the following example.\n"
   ]
  },
  {
   "cell_type": "code",
   "execution_count": 0,
   "metadata": {
    "colab_type": "code"
   },
   "outputs": [],
   "source": [
    "import autokeras as ak\n",
    "\n",
    "input_node = ak.TextInput()\n",
    "output_node = ak.TextToIntSequence()(input_node)\n",
    "output_node = ak.Embedding()(output_node)\n",
    "# Use separable Conv layers in Keras.\n",
    "output_node = ak.ConvBlock(separable=True)(output_node)\n",
    "output_node = ak.RegressionHead()(output_node)\n",
    "reg = ak.AutoModel(inputs=input_node, outputs=output_node, max_trials=1)\n",
    "reg.fit(x_train, y_train, epochs=2)\n"
   ]
  },
  {
   "cell_type": "markdown",
   "metadata": {
    "colab_type": "text"
   },
   "source": [
    "## Data Format\n",
    "The AutoKeras TextRegressor is quite flexible for the data format.\n",
    "\n",
    "For the text, the input data should be one-dimensional \n",
    "For the regression targets, it should be a vector of numerical values.\n",
    "AutoKeras accepts numpy.ndarray.\n",
    "\n",
    "We also support using [tf.data.Dataset](\n",
    "https://www.tensorflow.org/api_docs/python/tf/data/Dataset?version=stable) format for\n",
    "the training data.\n"
   ]
  },
  {
   "cell_type": "code",
   "execution_count": 0,
   "metadata": {
    "colab_type": "code"
   },
   "outputs": [],
   "source": [
    "import tensorflow as tf\n",
    "train_set = tf.data.Dataset.from_tensor_slices(((x_train, ), (y_train, ))).batch(32)\n",
    "test_set = tf.data.Dataset.from_tensor_slices(((x_test, ), (y_test, ))).batch(32)\n",
    "\n",
    "reg = ak.TextRegressor(max_trials=3)\n",
    "# Feed the tensorflow Dataset to the regressor.\n",
    "reg.fit(train_set, epochs=2)\n",
    "# Predict with the best model.\n",
    "predicted_y = reg.predict(test_set)\n",
    "# Evaluate the best model with testing data.\n",
    "print(reg.evaluate(test_set))\n"
   ]
  },
  {
   "cell_type": "markdown",
   "metadata": {
    "colab_type": "text"
   },
   "source": [
    "## Reference\n",
    "[TextRegressor](/text_regressor),\n",
    "[AutoModel](/auto_model/#automodel-class),\n",
    "[TextBlock](/block/#textblock-class),\n",
    "[TextToInteSequence](/block/#texttointsequence-class),\n",
    "[Embedding](/block/#embedding-class),\n",
    "[TextToNgramVector](/block/#texttongramvector-class),\n",
    "[ConvBlock](/block/#convblock-class),\n",
    "[TextInput](/node/#textinput-class),\n",
    "[RegressionHead](/block/#regressionhead-class).\n"
   ]
  }
 ],
 "metadata": {
  "colab": {
   "collapsed_sections": [],
   "name": "text_regression",
   "private_outputs": false,
   "provenance": [],
   "toc_visible": true
  },
  "kernelspec": {
   "display_name": "Python 3",
   "language": "python",
   "name": "python3"
  },
  "language_info": {
   "codemirror_mode": {
    "name": "ipython",
    "version": 3
   },
   "file_extension": ".py",
   "mimetype": "text/x-python",
   "name": "python",
   "nbconvert_exporter": "python",
   "pygments_lexer": "ipython3",
   "version": "3.7.0"
  }
 },
 "nbformat": 4,
 "nbformat_minor": 0
}