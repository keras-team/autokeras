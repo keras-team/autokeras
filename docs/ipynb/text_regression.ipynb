{
 "cells": [
  {
   "cell_type": "code",
   "execution_count": 0,
   "metadata": {
    "colab_type": "code"
   },
   "outputs": [],
   "source": [
    "!pip install autokeras\n"
   ]
  },
  {
   "cell_type": "markdown",
   "metadata": {
    "colab_type": "text"
   },
   "source": [
    "## Social Media Articles Example\n",
    "\n",
    "Regression tasks estimate a numeric variable, such as the price of a house\n",
    "or a person's age.\n",
    "\n",
    "This example estimates the view counts for an article on social media platforms,\n",
    "trained on a\n",
    "[News Popularity](https://archive.ics.uci.edu/ml/datasets/News+Popularity+in+Multiple+Social+Media+Platforms)\n",
    "dataset collected from 2015-2016.\n",
    "\n",
    "First, prepare your text data in a `numpy.ndarray` or `tensorflow.Dataset`\n",
    "format.\n"
   ]
  },
  {
   "cell_type": "code",
   "execution_count": 0,
   "metadata": {
    "colab_type": "code"
   },
   "outputs": [],
   "source": [
    "import pandas as pd\n",
    "import numpy as np\n",
    "\n",
    "# converting from other formats (such as pandas) to numpy\n",
    "train_df = pd.read_csv(\"./News_Final.csv\")\n",
    "\n",
    "text_inputs = df.Title.to_numpy(dtype=\"str\")\n",
    "media_success_outputs = df.Facebook.to_numpy(dtype=\"int\")\n"
   ]
  },
  {
   "cell_type": "markdown",
   "metadata": {
    "colab_type": "text"
   },
   "source": [
    "Next, initialize and train the [TextRegressor](/text_regressor).\n"
   ]
  },
  {
   "cell_type": "code",
   "execution_count": 0,
   "metadata": {
    "colab_type": "code"
   },
   "outputs": [],
   "source": [
    "import autokeras as ak\n",
    "\n",
    "# Initialize the text regressor\n",
    "reg = ak.TextRegressor(max_trials=15) # AutoKeras tries 15 different models.\n",
    "\n",
    "# Find the best model for the given training data\n",
    "reg.fit(text_inputs, media_success_outputs)\n",
    "\n",
    "# Predict with the chosen model:\n",
    "predict_y = reg.predict(predict_x)\n"
   ]
  },
  {
   "cell_type": "markdown",
   "metadata": {
    "colab_type": "text"
   },
   "source": [
    "If your text source has a larger vocabulary (number of distinct words), you may\n",
    "need to create a custom pipeline in AutoKeras to increase the `max_tokens`\n",
    "parameter.\n"
   ]
  },
  {
   "cell_type": "code",
   "execution_count": 0,
   "metadata": {
    "colab_type": "code"
   },
   "outputs": [],
   "source": [
    "text_input = (df.Title + \" \" + df.Headline).to_numpy(dtype=\"str\")\n",
    "\n",
    "# text input and tokenization\n",
    "input_node = ak.TextInput()\n",
    "output_node = ak.TextToIntSequence(max_tokens=20000)(input_node)\n",
    "\n",
    "# regression output\n",
    "output_node = ak.RegressionHead()(output_node)\n",
    "\n",
    "# initialize AutoKeras and find the best model\n",
    "reg = ak.AutoModel(inputs=input_node, outputs=output_node, max_trials=15)\n",
    "reg.fit(text_input, media_success_output)\n"
   ]
  },
  {
   "cell_type": "markdown",
   "metadata": {
    "colab_type": "text"
   },
   "source": [
    "Measure the accuracy of the regressor on an independent test set:\n"
   ]
  },
  {
   "cell_type": "code",
   "execution_count": 0,
   "metadata": {
    "colab_type": "code"
   },
   "outputs": [],
   "source": [
    "print(reg.evaluate(test_text, test_responses))\n"
   ]
  }
 ],
 "metadata": {
  "colab": {
   "collapsed_sections": [],
   "name": "text_regression",
   "private_outputs": false,
   "provenance": [],
   "toc_visible": true
  },
  "kernelspec": {
   "display_name": "Python 3",
   "language": "python",
   "name": "python3"
  },
  "language_info": {
   "codemirror_mode": {
    "name": "ipython",
    "version": 3
   },
   "file_extension": ".py",
   "mimetype": "text/x-python",
   "name": "python",
   "nbconvert_exporter": "python",
   "pygments_lexer": "ipython3",
   "version": "3.7.0"
  }
 },
 "nbformat": 4,
 "nbformat_minor": 0
}