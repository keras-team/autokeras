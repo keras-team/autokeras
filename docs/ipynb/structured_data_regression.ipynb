{
 "cells": [
  {
   "cell_type": "code",
   "execution_count": 0,
   "metadata": {
    "colab_type": "code"
   },
   "outputs": [],
   "source": [
    "!pip install autokeras\n"
   ]
  },
  {
   "cell_type": "code",
   "execution_count": 0,
   "metadata": {
    "colab_type": "code"
   },
   "outputs": [],
   "source": [
    "import numpy as np\n",
    "import pandas as pd\n",
    "import tensorflow as tf\n",
    "from sklearn.datasets import fetch_california_housing\n",
    "\n",
    "import autokeras as ak\n"
   ]
  },
  {
   "cell_type": "markdown",
   "metadata": {
    "colab_type": "text"
   },
   "source": [
    "## A Simple Example\n",
    "The first step is to prepare your data. Here we use the [California housing\n",
    "dataset](\n",
    "https://scikit-learn.org/stable/datasets/index.html#california-housing-dataset)\n",
    "as an example.\n"
   ]
  },
  {
   "cell_type": "code",
   "execution_count": 0,
   "metadata": {
    "colab_type": "code"
   },
   "outputs": [],
   "source": [
    "\n",
    "house_dataset = fetch_california_housing()\n",
    "df = pd.DataFrame(\n",
    "    np.concatenate(\n",
    "        (house_dataset.data, house_dataset.target.reshape(-1, 1)), axis=1\n",
    "    ),\n",
    "    columns=house_dataset.feature_names + [\"Price\"],\n",
    ")\n",
    "train_size = int(df.shape[0] * 0.9)\n",
    "df[:train_size].to_csv(\"train.csv\", index=False)\n",
    "df[train_size:].to_csv(\"eval.csv\", index=False)\n",
    "train_file_path = \"train.csv\"\n",
    "test_file_path = \"eval.csv\"\n"
   ]
  },
  {
   "cell_type": "markdown",
   "metadata": {
    "colab_type": "text"
   },
   "source": [
    "The second step is to run the\n",
    "[StructuredDataRegressor](/structured_data_regressor).\n",
    "As a quick demo, we set epochs to 10.\n",
    "You can also leave the epochs unspecified for an adaptive number of epochs.\n"
   ]
  },
  {
   "cell_type": "code",
   "execution_count": 0,
   "metadata": {
    "colab_type": "code"
   },
   "outputs": [],
   "source": [
    "# Initialize the structured data regressor.\n",
    "reg = ak.StructuredDataRegressor(\n",
    "    overwrite=True, max_trials=3\n",
    ")  # It tries 3 different models.\n",
    "# Feed the structured data regressor with training data.\n",
    "reg.fit(\n",
    "    # The path to the train.csv file.\n",
    "    train_file_path,\n",
    "    # The name of the label column.\n",
    "    \"Price\",\n",
    "    epochs=10,\n",
    ")\n",
    "# Predict with the best model.\n",
    "predicted_y = reg.predict(test_file_path)\n",
    "# Evaluate the best model with testing data.\n",
    "print(reg.evaluate(test_file_path, \"Price\"))\n"
   ]
  },
  {
   "cell_type": "markdown",
   "metadata": {
    "colab_type": "text"
   },
   "source": [
    "## Data Format\n",
    "The AutoKeras StructuredDataRegressor is quite flexible for the data format.\n",
    "\n",
    "The example above shows how to use the CSV files directly. Besides CSV files,\n",
    "it also supports numpy.ndarray, pandas.DataFrame or [tf.data.Dataset](\n",
    "https://www.tensorflow.org/api_docs/python/tf/data/Dataset?version=stable). The\n",
    "data should be two-dimensional with numerical or categorical values.\n",
    "\n",
    "For the regression targets, it should be a vector of numerical values.\n",
    "AutoKeras accepts numpy.ndarray, pandas.DataFrame, or pandas.Series.\n",
    "\n",
    "The following examples show how the data can be prepared with numpy.ndarray,\n",
    "pandas.DataFrame, and tensorflow.data.Dataset.\n"
   ]
  },
  {
   "cell_type": "code",
   "execution_count": 0,
   "metadata": {
    "colab_type": "code"
   },
   "outputs": [],
   "source": [
    "\n",
    "# x_train as pandas.DataFrame, y_train as pandas.Series\n",
    "x_train = pd.read_csv(train_file_path)\n",
    "print(type(x_train))  # pandas.DataFrame\n",
    "y_train = x_train.pop(\"Price\")\n",
    "print(type(y_train))  # pandas.Series\n",
    "\n",
    "# You can also use pandas.DataFrame for y_train.\n",
    "y_train = pd.DataFrame(y_train)\n",
    "print(type(y_train))  # pandas.DataFrame\n",
    "\n",
    "# You can also use numpy.ndarray for x_train and y_train.\n",
    "x_train = x_train.to_numpy()\n",
    "y_train = y_train.to_numpy()\n",
    "print(type(x_train))  # numpy.ndarray\n",
    "print(type(y_train))  # numpy.ndarray\n",
    "\n",
    "# Preparing testing data.\n",
    "x_test = pd.read_csv(test_file_path)\n",
    "y_test = x_test.pop(\"Price\")\n",
    "\n",
    "# It tries 10 different models.\n",
    "reg = ak.StructuredDataRegressor(max_trials=3, overwrite=True)\n",
    "# Feed the structured data regressor with training data.\n",
    "reg.fit(x_train, y_train, epochs=10)\n",
    "# Predict with the best model.\n",
    "predicted_y = reg.predict(x_test)\n",
    "# Evaluate the best model with testing data.\n",
    "print(reg.evaluate(x_test, y_test))\n"
   ]
  },
  {
   "cell_type": "markdown",
   "metadata": {
    "colab_type": "text"
   },
   "source": [
    "The following code shows how to convert numpy.ndarray to tf.data.Dataset.\n"
   ]
  },
  {
   "cell_type": "code",
   "execution_count": 0,
   "metadata": {
    "colab_type": "code"
   },
   "outputs": [],
   "source": [
    "train_set = tf.data.Dataset.from_tensor_slices((x_train, y_train))\n",
    "test_set = tf.data.Dataset.from_tensor_slices((x_test, y_test))\n",
    "\n",
    "reg = ak.StructuredDataRegressor(max_trials=3, overwrite=True)\n",
    "# Feed the tensorflow Dataset to the regressor.\n",
    "reg.fit(train_set, epochs=10)\n",
    "# Predict with the best model.\n",
    "predicted_y = reg.predict(test_set)\n",
    "# Evaluate the best model with testing data.\n",
    "print(reg.evaluate(test_set))\n"
   ]
  },
  {
   "cell_type": "markdown",
   "metadata": {
    "colab_type": "text"
   },
   "source": [
    "You can also specify the column names and types for the data as follows.  The\n",
    "`column_names` is optional if the training data already have the column names,\n",
    "e.g.  pandas.DataFrame, CSV file.  Any column, whose type is not specified will\n",
    "be inferred from the training data.\n"
   ]
  },
  {
   "cell_type": "code",
   "execution_count": 0,
   "metadata": {
    "colab_type": "code"
   },
   "outputs": [],
   "source": [
    "# Initialize the structured data regressor.\n",
    "reg = ak.StructuredDataRegressor(\n",
    "    column_names=[\n",
    "        \"MedInc\",\n",
    "        \"HouseAge\",\n",
    "        \"AveRooms\",\n",
    "        \"AveBedrms\",\n",
    "        \"Population\",\n",
    "        \"AveOccup\",\n",
    "        \"Latitude\",\n",
    "        \"Longitude\",\n",
    "    ],\n",
    "    column_types={\"MedInc\": \"numerical\", \"Latitude\": \"numerical\"},\n",
    "    max_trials=10,  # It tries 10 different models.\n",
    "    overwrite=True,\n",
    ")\n",
    "\n"
   ]
  },
  {
   "cell_type": "markdown",
   "metadata": {
    "colab_type": "text"
   },
   "source": [
    "## Validation Data\n",
    "By default, AutoKeras use the last 20% of training data as validation data.  As\n",
    "shown in the example below, you can use `validation_split` to specify the\n",
    "percentage.\n"
   ]
  },
  {
   "cell_type": "code",
   "execution_count": 0,
   "metadata": {
    "colab_type": "code"
   },
   "outputs": [],
   "source": [
    "reg.fit(\n",
    "    x_train,\n",
    "    y_train,\n",
    "    # Split the training data and use the last 15% as validation data.\n",
    "    validation_split=0.15,\n",
    "    epochs=10,\n",
    ")\n"
   ]
  },
  {
   "cell_type": "markdown",
   "metadata": {
    "colab_type": "text"
   },
   "source": [
    "You can also use your own validation set\n",
    "instead of splitting it from the training data with `validation_data`.\n"
   ]
  },
  {
   "cell_type": "code",
   "execution_count": 0,
   "metadata": {
    "colab_type": "code"
   },
   "outputs": [],
   "source": [
    "split = 500\n",
    "x_val = x_train[split:]\n",
    "y_val = y_train[split:]\n",
    "x_train = x_train[:split]\n",
    "y_train = y_train[:split]\n",
    "reg.fit(\n",
    "    x_train,\n",
    "    y_train,\n",
    "    # Use your own validation set.\n",
    "    validation_data=(x_val, y_val),\n",
    "    epochs=10,\n",
    ")\n"
   ]
  },
  {
   "cell_type": "markdown",
   "metadata": {
    "colab_type": "text"
   },
   "source": [
    "## Customized Search Space\n",
    "For advanced users, you may customize your search space by using\n",
    "[AutoModel](/auto_model/#automodel-class) instead of\n",
    "[StructuredDataRegressor](/structured_data_regressor). You can configure the\n",
    "[StructuredDataBlock](/block/#structureddatablock-class) for some high-level\n",
    "configurations, e.g., `categorical_encoding` for whether to use the\n",
    "[CategoricalToNumerical](/block/#categoricaltonumerical-class). You can also do\n",
    "not specify these arguments, which would leave the different choices to be\n",
    "tuned automatically. See the following example for detail.\n"
   ]
  },
  {
   "cell_type": "code",
   "execution_count": 0,
   "metadata": {
    "colab_type": "code"
   },
   "outputs": [],
   "source": [
    "\n",
    "input_node = ak.StructuredDataInput()\n",
    "output_node = ak.StructuredDataBlock(categorical_encoding=True)(input_node)\n",
    "output_node = ak.RegressionHead()(output_node)\n",
    "reg = ak.AutoModel(\n",
    "    inputs=input_node, outputs=output_node, overwrite=True, max_trials=3\n",
    ")\n",
    "reg.fit(x_train, y_train, epochs=10)\n"
   ]
  },
  {
   "cell_type": "markdown",
   "metadata": {
    "colab_type": "text"
   },
   "source": [
    "The usage of [AutoModel](/auto_model/#automodel-class) is similar to the\n",
    "[functional API](https://www.tensorflow.org/guide/keras/functional) of Keras.\n",
    "Basically, you are building a graph, whose edges are blocks and the nodes are\n",
    "intermediate outputs of blocks.  To add an edge from `input_node` to\n",
    "`output_node` with `output_node = ak.[some_block]([block_args])(input_node)`.\n",
    "\n",
    "You can even also use more fine grained blocks to customize the search space\n",
    "even further. See the following example.\n"
   ]
  },
  {
   "cell_type": "code",
   "execution_count": 0,
   "metadata": {
    "colab_type": "code"
   },
   "outputs": [],
   "source": [
    "\n",
    "input_node = ak.StructuredDataInput()\n",
    "output_node = ak.CategoricalToNumerical()(input_node)\n",
    "output_node = ak.DenseBlock()(output_node)\n",
    "output_node = ak.RegressionHead()(output_node)\n",
    "reg = ak.AutoModel(\n",
    "    inputs=input_node, outputs=output_node, max_trials=3, overwrite=True\n",
    ")\n",
    "reg.fit(x_train, y_train, epochs=10)\n"
   ]
  },
  {
   "cell_type": "markdown",
   "metadata": {
    "colab_type": "text"
   },
   "source": [
    "You can also export the best model found by AutoKeras as a Keras Model.\n"
   ]
  },
  {
   "cell_type": "code",
   "execution_count": 0,
   "metadata": {
    "colab_type": "code"
   },
   "outputs": [],
   "source": [
    "model = reg.export_model()\n",
    "model.summary()\n",
    "# numpy array in object (mixed type) is not supported.\n",
    "# you need convert it to unicode or float first.\n",
    "model.predict(x_train)\n",
    "\n"
   ]
  },
  {
   "cell_type": "markdown",
   "metadata": {
    "colab_type": "text"
   },
   "source": [
    "## Reference\n",
    "[StructuredDataRegressor](/structured_data_regressor),\n",
    "[AutoModel](/auto_model/#automodel-class),\n",
    "[StructuredDataBlock](/block/#structureddatablock-class),\n",
    "[DenseBlock](/block/#denseblock-class),\n",
    "[StructuredDataInput](/node/#structureddatainput-class),\n",
    "[RegressionHead](/block/#regressionhead-class),\n",
    "[CategoricalToNumerical](/block/#categoricaltonumerical-class).\n"
   ]
  }
 ],
 "metadata": {
  "colab": {
   "collapsed_sections": [],
   "name": "structured_data_regression",
   "private_outputs": false,
   "provenance": [],
   "toc_visible": true
  },
  "kernelspec": {
   "display_name": "Python 3",
   "language": "python",
   "name": "python3"
  },
  "language_info": {
   "codemirror_mode": {
    "name": "ipython",
    "version": 3
   },
   "file_extension": ".py",
   "mimetype": "text/x-python",
   "name": "python",
   "nbconvert_exporter": "python",
   "pygments_lexer": "ipython3",
   "version": "3.7.0"
  }
 },
 "nbformat": 4,
 "nbformat_minor": 0
}